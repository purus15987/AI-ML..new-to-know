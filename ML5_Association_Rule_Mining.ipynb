{
  "nbformat": 4,
  "nbformat_minor": 0,
  "metadata": {
    "colab": {
      "provenance": [],
      "toc_visible": true
    },
    "kernelspec": {
      "name": "python3",
      "display_name": "Python 3"
    },
    "language_info": {
      "name": "python"
    }
  },
  "cells": [
    {
      "cell_type": "markdown",
      "source": [
        "Perfect! Let’s now **deep dive into Phase 1** 🔥 — keeping it **super clear and easy** so you **build rock-solid understanding**.\n",
        "\n",
        "---\n",
        "\n",
        "# 📚 Phase 1: Core Concepts of Association Rule Mining (ARM)\n",
        "\n"
      ],
      "metadata": {
        "id": "REbiblpJz40w"
      }
    },
    {
      "cell_type": "markdown",
      "source": [
        "\n",
        "## 1. What is Association Rule Mining (ARM)?\n",
        "\n",
        "- **Association Rule Mining** is a technique to **find hidden patterns** in **large datasets**.\n",
        "- It identifies **interesting relationships** between variables, usually in an **\"IF → THEN\"** format.\n",
        "  \n",
        "**Simple Example**:  \n",
        "- IF a customer buys **milk**, THEN they also buy **cookies**.  \n",
        "- (Milk → Cookies)\n",
        "\n",
        "This is useful for:\n",
        "- **Market Basket Analysis** (e-commerce, retail)\n",
        "- **Medical diagnosis** (symptom → disease)\n",
        "- **Recommendation Systems** (Netflix: \"Users who watched this also watched...\")\n",
        "\n",
        "---"
      ],
      "metadata": {
        "id": "n6K003pC14J2"
      }
    },
    {
      "cell_type": "markdown",
      "source": [
        "\n",
        "## 2. Core Metrics: Support, Confidence, and Lift\n",
        "\n",
        "These three are **the heart** of Association Rule Mining. Let's **break them easily**:\n",
        "\n",
        "---\n",
        "\n",
        "### ✅ Support\n",
        "\n",
        "**Definition**:  \n",
        "- **Support** measures **how often** a rule/item appears in the dataset.\n",
        "\n",
        "**Formula**:  \n",
        "\\[\n",
        "\\text{Support(A → B)} = \\frac{\\text{Number of transactions containing both A and B}}{\\text{Total number of transactions}}\n",
        "\\]\n",
        "\n",
        "**Intuition**:  \n",
        "- \"How popular is the combination?\"  \n",
        "- Higher support = more common rule.\n",
        "\n",
        "**Example**:  \n",
        "- Out of 1000 transactions, 100 have both bread and butter.\n",
        "- So, Support = 100/1000 = **10%**\n",
        "\n",
        "---\n",
        "\n",
        "### ✅ Confidence\n",
        "\n",
        "**Definition**:  \n",
        "- **Confidence** measures **how often B is bought when A is bought**.\n",
        "\n",
        "**Formula**:  \n",
        "\\[\n",
        "\\text{Confidence(A → B)} = \\frac{\\text{Support(A and B)}}{\\text{Support(A)}}\n",
        "\\]\n",
        "\n",
        "**Intuition**:  \n",
        "- \"If I know A happened, how confident am I that B will happen?\"\n",
        "\n",
        "**Example**:  \n",
        "- 150 people bought bread. Out of those, 100 bought butter too.\n",
        "- Confidence = 100/150 = **66.67%**\n",
        "\n",
        "---\n",
        "\n",
        "### ✅ Lift\n",
        "\n",
        "**Definition**:  \n",
        "- **Lift** tells **how much more likely** B is purchased when A is purchased, compared to random chance.\n",
        "\n",
        "**Formula**:  \n",
        "\\[\n",
        "\\text{Lift(A → B)} = \\frac{\\text{Confidence(A → B)}}{\\text{Support(B)}}\n",
        "\\]\n",
        "\n",
        "**Interpretation**:\n",
        "- Lift = 1 → A and B are independent.\n",
        "- Lift > 1 → A and B **positively correlated** (good rule).\n",
        "- Lift < 1 → A and B **negatively correlated** (bad rule).\n",
        "\n",
        "**Example**:\n",
        "- If Lift = 2, it means **buying A doubles the chance** of buying B.\n",
        "\n",
        "---"
      ],
      "metadata": {
        "id": "sT7iQwQ510Zu"
      }
    },
    {
      "cell_type": "markdown",
      "source": [
        "## 3. How are Association Rules Formed?\n",
        "\n",
        "The process is simple and structured:\n",
        "\n",
        "### 🔵 Step 1: Find Frequent Itemsets\n",
        "- Identify sets of items that appear together **frequently** (above minimum **support** threshold).\n",
        "\n",
        "### 🔵 Step 2: Generate Rules\n",
        "- From frequent itemsets, generate \"If-Then\" rules.\n",
        "- Example: From {Bread, Butter}, generate rules:\n",
        "  - Bread → Butter\n",
        "  - Butter → Bread\n",
        "\n",
        "### 🔵 Step 3: Measure Rule Strength\n",
        "- Calculate **Support, Confidence, and Lift** for each rule.\n",
        "- **Filter out** rules that don't meet minimum thresholds (e.g., Confidence > 70%, Lift > 1).\n",
        "\n",
        "---"
      ],
      "metadata": {
        "id": "R5RUVzY51nVy"
      }
    },
    {
      "cell_type": "markdown",
      "source": [
        "\n",
        "## Quick Cheat Sheet\n",
        "\n",
        "| Term | Formula | Meaning |\n",
        "|:---|:---|:---|\n",
        "| Support | (Transactions with A and B) / (Total Transactions) | How common items appear together |\n",
        "| Confidence | (Transactions with A and B) / (Transactions with A) | How likely B is bought when A is bought |\n",
        "| Lift | Confidence / Support(B) | How much A influences B |\n",
        "\n",
        "---"
      ],
      "metadata": {
        "id": "lj-nIe8s1iQ2"
      }
    },
    {
      "cell_type": "code",
      "execution_count": null,
      "metadata": {
        "id": "o1yJRURnv2Cl"
      },
      "outputs": [],
      "source": []
    },
    {
      "cell_type": "markdown",
      "source": [
        "🚀 Let's now **deep dive into Phase 2** — **Algorithms** part, keeping everything **clear, actionable, and memory-friendly**.\n",
        "\n",
        "This is a very **high-value section** — mastering this means you're thinking like a true **data scientist** or **ML researcher**. 🔥\n",
        "\n",
        "---\n",
        "\n",
        "# 📚 Phase 2: Deep Dive into Algorithms (Association Rule Mining)"
      ],
      "metadata": {
        "id": "5t7CdYmc1A0f"
      }
    },
    {
      "cell_type": "markdown",
      "source": [
        "---\n",
        "\n",
        "## 1. Apriori Algorithm\n",
        "\n",
        "---\n",
        "\n",
        "### 📌 Intuition: Why Apriori?\n",
        "\n",
        "- Imagine you are finding frequent itemsets (combinations like `{milk, bread, butter}`) in a massive supermarket database.\n",
        "- Apriori **smartly reduces** the number of combinations to check.  \n",
        "- It uses a **simple but powerful idea**:  \n",
        "  > **\"If an itemset is *infrequent*, then any larger itemset containing it must also be infrequent.\"**\n",
        "  \n",
        "In short:  \n",
        "**No need to check all combinations — we can prune the search early!** 🚀\n",
        "\n",
        "---\n",
        "\n",
        "### 📌 Step-by-Step Working\n",
        "\n",
        "Let’s break it down **easily**:\n",
        "\n",
        "🔵 **Step 1: Find frequent 1-itemsets** (items bought alone)  \n",
        "- Calculate support for each item.\n",
        "- Only keep items with support > minimum threshold.\n",
        "\n",
        "🔵 **Step 2: Generate candidate 2-itemsets**\n",
        "- Combine frequent 1-itemsets to make 2-itemsets.\n",
        "- Calculate their support.\n",
        "- Keep only those with high enough support.\n",
        "\n",
        "🔵 **Step 3: Generate candidate 3-itemsets**\n",
        "- Combine frequent 2-itemsets to make 3-itemsets.\n",
        "- Again, check their support.\n",
        "\n",
        "🔵 **Repeat** until no more frequent itemsets are found.\n",
        "\n",
        "🔵 **Step 4: Create Rules**\n",
        "- From frequent itemsets, generate association rules (A → B).\n",
        "- Check confidence and lift for each rule.\n",
        "\n",
        "---\n",
        "\n",
        "### 📌 Visual Diagram (mental image)\n",
        "\n",
        "```\n",
        "Level 1: {A}, {B}, {C}\n",
        "    ↓ (combine)\n",
        "Level 2: {A, B}, {A, C}, {B, C}\n",
        "    ↓ (combine)\n",
        "Level 3: {A, B, C}\n",
        "```\n",
        "\n",
        "**At every level → prune** itemsets with low support.\n",
        "\n",
        "---\n",
        "\n",
        "### 📌 Example Walkthrough (Small Example)\n",
        "\n",
        "**Transactions:**\n",
        "1. Milk, Bread\n",
        "2. Milk, Diaper, Beer, Eggs\n",
        "3. Milk, Diaper, Beer, Coke\n",
        "4. Bread, Milk, Diaper, Beer\n",
        "5. Bread, Milk, Diaper, Coke\n",
        "\n",
        "**Minimum Support = 60% (i.e., must appear in at least 3 out of 5 transactions)**\n",
        "\n",
        "🔵 Step 1: 1-itemsets\n",
        "- Milk (5/5) ✅\n",
        "- Bread (3/5) ✅\n",
        "- Diaper (4/5) ✅\n",
        "- Beer (3/5) ✅\n",
        "- Eggs (1/5) ❌ (discard)\n",
        "- Coke (2/5) ❌ (discard)\n",
        "\n",
        "🔵 Step 2: 2-itemsets\n",
        "- {Milk, Bread} (3/5) ✅\n",
        "- {Milk, Diaper} (4/5) ✅\n",
        "- {Milk, Beer} (3/5) ✅\n",
        "- {Diaper, Beer} (3/5) ✅\n",
        "- etc.\n",
        "\n",
        "🔵 Step 3: 3-itemsets\n",
        "- {Milk, Diaper, Beer} (3/5) ✅\n",
        "\n",
        "🔵 Done! Generate rules from these.\n",
        "\n",
        "---"
      ],
      "metadata": {
        "id": "cY4XoOlo1Z1Z"
      }
    },
    {
      "cell_type": "code",
      "source": [],
      "metadata": {
        "id": "A-UiQcra1Q_W"
      },
      "execution_count": null,
      "outputs": []
    },
    {
      "cell_type": "markdown",
      "source": [
        "---\n",
        "\n",
        "## 2. FP-Growth Algorithm\n",
        "\n",
        "---\n",
        "\n",
        "### 📌 Intuition: Why FP-Growth?\n",
        "\n",
        "- **Apriori** is good, but it has to **generate a huge number of candidates** — very slow for large datasets.\n",
        "- **FP-Growth** is faster because it **compresses the dataset** into a **special tree structure (FP-Tree)** and **avoids candidate generation**!\n",
        "\n",
        "FP = **Frequent Pattern** Tree\n",
        "\n",
        "---\n",
        "\n",
        "### 📌 Step-by-Step Working\n",
        "\n",
        "🔵 **Step 1: Scan Dataset Once**\n",
        "- Find frequent 1-itemsets and their support.\n",
        "\n",
        "🔵 **Step 2: Build FP-Tree**\n",
        "- Sort items inside transactions in decreasing order of frequency.\n",
        "- Insert transactions into a compact tree where paths are shared.\n",
        "\n",
        "🔵 **Step 3: Mine the Tree**\n",
        "- Starting from the bottom (least frequent items), extract frequent patterns by building conditional trees recursively.\n",
        "\n",
        "---\n",
        "\n",
        "### 📌 Visual Intuition\n",
        "\n",
        "- **Instead of listing all possible combinations**, FP-Growth builds a **tree structure** where **common prefixes are shared**.\n",
        "- It’s like **saving memory** and **avoiding repeated work**.\n",
        "\n",
        "---\n",
        "\n",
        "### 📌 Simple Difference: Apriori vs FP-Growth\n",
        "\n",
        "| Feature | Apriori | FP-Growth |\n",
        "|:---|:---|:---|\n",
        "| Strategy | Generate candidates | Build tree |\n",
        "| Speed | Slower for large data | Much faster |\n",
        "| Memory Usage | Higher (many candidates) | Lower (tree compression) |\n",
        "| Example | Tries all combinations | Compresses similar patterns |\n",
        "\n",
        "---\n",
        "\n",
        "## 🎯 Quick Example: FP-Growth (Small View)\n",
        "\n",
        "Suppose transactions:  \n",
        "- {Milk, Bread}\n",
        "- {Milk, Diaper, Beer, Bread}\n",
        "- {Milk, Diaper, Beer, Coke}\n",
        "- {Bread, Milk, Diaper, Beer}\n",
        "- {Bread, Milk, Diaper, Coke}\n",
        "\n",
        "1. Find frequency:\n",
        "    - Milk: 5, Bread: 4, Diaper: 4, Beer: 3, Coke: 2\n",
        "\n",
        "2. Order inside transaction by frequency:\n",
        "    - {Milk, Bread}\n",
        "    - {Milk, Diaper, Beer, Bread}\n",
        "    - ...\n",
        "\n",
        "3. Build FP-Tree by inserting in this order — paths overlap where items are common.\n",
        "\n",
        "4. Extract patterns by mining the tree!\n",
        "\n",
        "---"
      ],
      "metadata": {
        "id": "R75ScB9H1RqL"
      }
    },
    {
      "cell_type": "code",
      "source": [],
      "metadata": {
        "id": "hY2p4r8P2vrX"
      },
      "execution_count": null,
      "outputs": []
    },
    {
      "cell_type": "markdown",
      "source": [
        "🚀 Let's move to the **most exciting phase — Hands-On Coding Practice**.  \n",
        "\n",
        "I’ll guide you **step-by-step** so you can **build your first Market Basket model** easily.\n",
        "\n",
        "---\n",
        "\n",
        "# 📚 Phase 3: Hands-On Coding Practice\n",
        "\n",
        "---\n",
        "\n",
        "## ✅ What to Cover:\n",
        "\n",
        "- Use **Apriori algorithm** in Python.\n",
        "- Build a **Market Basket Analysis model**.\n",
        "- **Visualize** Association Rules (filter by Confidence, Lift).\n",
        "\n",
        "---\n",
        "\n",
        "# 🛠 Step-by-Step Action Plan\n",
        "\n",
        "---"
      ],
      "metadata": {
        "id": "PS3FWk9j2s_C"
      }
    },
    {
      "cell_type": "markdown",
      "source": [
        "## 1. Install Required Libraries\n",
        "\n",
        "Before coding, install these Python libraries:"
      ],
      "metadata": {
        "id": "WD14FL5H28R3"
      }
    },
    {
      "cell_type": "code",
      "source": [
        "!pip install pandas mlxtend"
      ],
      "metadata": {
        "colab": {
          "base_uri": "https://localhost:8080/"
        },
        "collapsed": true,
        "id": "tNCZpAGV3tX-",
        "outputId": "f901527e-48da-4035-c572-c6fbf8594373"
      },
      "execution_count": null,
      "outputs": [
        {
          "output_type": "stream",
          "name": "stdout",
          "text": [
            "Requirement already satisfied: pandas in /usr/local/lib/python3.11/dist-packages (2.2.2)\n",
            "Requirement already satisfied: mlxtend in /usr/local/lib/python3.11/dist-packages (0.23.4)\n",
            "Requirement already satisfied: numpy>=1.23.2 in /usr/local/lib/python3.11/dist-packages (from pandas) (2.0.2)\n",
            "Requirement already satisfied: python-dateutil>=2.8.2 in /usr/local/lib/python3.11/dist-packages (from pandas) (2.8.2)\n",
            "Requirement already satisfied: pytz>=2020.1 in /usr/local/lib/python3.11/dist-packages (from pandas) (2025.2)\n",
            "Requirement already satisfied: tzdata>=2022.7 in /usr/local/lib/python3.11/dist-packages (from pandas) (2025.2)\n",
            "Requirement already satisfied: scipy>=1.2.1 in /usr/local/lib/python3.11/dist-packages (from mlxtend) (1.14.1)\n",
            "Requirement already satisfied: scikit-learn>=1.3.1 in /usr/local/lib/python3.11/dist-packages (from mlxtend) (1.6.1)\n",
            "Requirement already satisfied: matplotlib>=3.0.0 in /usr/local/lib/python3.11/dist-packages (from mlxtend) (3.10.0)\n",
            "Requirement already satisfied: joblib>=0.13.2 in /usr/local/lib/python3.11/dist-packages (from mlxtend) (1.4.2)\n",
            "Requirement already satisfied: contourpy>=1.0.1 in /usr/local/lib/python3.11/dist-packages (from matplotlib>=3.0.0->mlxtend) (1.3.2)\n",
            "Requirement already satisfied: cycler>=0.10 in /usr/local/lib/python3.11/dist-packages (from matplotlib>=3.0.0->mlxtend) (0.12.1)\n",
            "Requirement already satisfied: fonttools>=4.22.0 in /usr/local/lib/python3.11/dist-packages (from matplotlib>=3.0.0->mlxtend) (4.57.0)\n",
            "Requirement already satisfied: kiwisolver>=1.3.1 in /usr/local/lib/python3.11/dist-packages (from matplotlib>=3.0.0->mlxtend) (1.4.8)\n",
            "Requirement already satisfied: packaging>=20.0 in /usr/local/lib/python3.11/dist-packages (from matplotlib>=3.0.0->mlxtend) (24.2)\n",
            "Requirement already satisfied: pillow>=8 in /usr/local/lib/python3.11/dist-packages (from matplotlib>=3.0.0->mlxtend) (11.1.0)\n",
            "Requirement already satisfied: pyparsing>=2.3.1 in /usr/local/lib/python3.11/dist-packages (from matplotlib>=3.0.0->mlxtend) (3.2.3)\n",
            "Requirement already satisfied: six>=1.5 in /usr/local/lib/python3.11/dist-packages (from python-dateutil>=2.8.2->pandas) (1.17.0)\n",
            "Requirement already satisfied: threadpoolctl>=3.1.0 in /usr/local/lib/python3.11/dist-packages (from scikit-learn>=1.3.1->mlxtend) (3.6.0)\n"
          ]
        }
      ]
    },
    {
      "cell_type": "markdown",
      "source": [
        "\n",
        "\n",
        "✅ `pandas`: For handling the dataset.  \n",
        "✅ `mlxtend`: Contains the Apriori and association_rules functions.\n",
        "\n",
        "---"
      ],
      "metadata": {
        "id": "UEG5T6kn3we2"
      }
    },
    {
      "cell_type": "markdown",
      "source": [
        "\n",
        "\n",
        "## 2. Load a Sample Dataset\n",
        "\n",
        "We'll use a **small supermarket dataset**. Let's create a simple one."
      ],
      "metadata": {
        "id": "Dgh1MK-23D1f"
      }
    },
    {
      "cell_type": "code",
      "source": [
        "import pandas as pd\n",
        "\n",
        "# Sample transaction data\n",
        "dataset = [\n",
        "    ['Milk', 'Bread', 'Butter'],\n",
        "    ['Bread', 'Diaper', 'Beer', 'Eggs'],\n",
        "    ['Bread', 'Milk', 'Diaper', 'Beer'],\n",
        "    ['Bread', 'Milk', 'Diaper', 'Coke'],\n",
        "    ['Bread', 'Milk', 'Diaper', 'Eggs'],\n",
        "    ['Bread', 'Milk', 'Diaper', 'Butter'],\n",
        "]"
      ],
      "metadata": {
        "id": "0LHHbgCh4Rtr"
      },
      "execution_count": null,
      "outputs": []
    },
    {
      "cell_type": "code",
      "source": [
        "# Convert dataset into a DataFrame (One-Hot Encoding)\n",
        "from mlxtend.preprocessing import TransactionEncoder\n",
        "\n",
        "te = TransactionEncoder()\n",
        "te_array = te.fit(dataset).transform(dataset)\n",
        "df = pd.DataFrame(te_array, columns=te.columns_)\n",
        "\n",
        "print(df.head(10))"
      ],
      "metadata": {
        "colab": {
          "base_uri": "https://localhost:8080/"
        },
        "id": "yj300lqh28oc",
        "outputId": "5f434de3-fec9-499d-f701-89154e200a50"
      },
      "execution_count": null,
      "outputs": [
        {
          "output_type": "stream",
          "name": "stdout",
          "text": [
            "    Beer  Bread  Butter   Coke  Diaper   Eggs   Milk\n",
            "0  False   True    True  False   False  False   True\n",
            "1   True   True   False  False    True   True  False\n",
            "2   True   True   False  False    True  False   True\n",
            "3  False   True   False   True    True  False   True\n",
            "4  False   True   False  False    True   True   True\n",
            "5  False   True    True  False    True  False   True\n"
          ]
        }
      ]
    },
    {
      "cell_type": "code",
      "source": [
        "import pandas as pd\n",
        "\n",
        "def one_hot_encode(transactions):\n",
        "    # Step 1: Get unique items\n",
        "    all_items = sorted(set(item for transaction in transactions for item in transaction))\n",
        "\n",
        "    # Step 2: Create a DataFrame with zeros\n",
        "    encoded_df = pd.DataFrame(0, index=range(len(transactions)), columns=all_items)\n",
        "\n",
        "    # Step 3: Set 1 where item is present in the transaction\n",
        "    for idx, transaction in enumerate(transactions):\n",
        "        for item in transaction:\n",
        "            encoded_df.at[idx, item] = 1\n",
        "\n",
        "    return encoded_df\n",
        "\n",
        "# Use the function\n",
        "one_hot_df = one_hot_encode(dataset)\n",
        "\n",
        "print(one_hot_df)"
      ],
      "metadata": {
        "colab": {
          "base_uri": "https://localhost:8080/"
        },
        "id": "ZkQFNLmY6qBw",
        "outputId": "ff682103-439e-4947-885a-477090ab6909"
      },
      "execution_count": null,
      "outputs": [
        {
          "output_type": "stream",
          "name": "stdout",
          "text": [
            "   Beer  Bread  Butter  Coke  Diaper  Eggs  Milk\n",
            "0     0      1       1     0       0     0     1\n",
            "1     1      1       0     0       1     1     0\n",
            "2     1      1       0     0       1     0     1\n",
            "3     0      1       0     1       1     0     1\n",
            "4     0      1       0     0       1     1     1\n",
            "5     0      1       1     0       1     0     1\n"
          ]
        }
      ]
    },
    {
      "cell_type": "markdown",
      "source": [
        "✅ **What this does**:  \n",
        "- Converts each transaction into **True/False** per item (One-Hot Encoding).\n",
        "\n",
        "---"
      ],
      "metadata": {
        "id": "TtPAAGb13NMU"
      }
    },
    {
      "cell_type": "markdown",
      "source": [
        "## 3. Apply Apriori Algorithm\n",
        "\n",
        "Now, apply the Apriori algorithm to find **frequent itemsets**."
      ],
      "metadata": {
        "id": "XWC_RKmd3Tf8"
      }
    },
    {
      "cell_type": "code",
      "source": [
        "from mlxtend.frequent_patterns import apriori\n",
        "\n",
        "# Apply Apriori to find frequent itemsets\n",
        "frequent_itemsets = apriori(df, min_support=0.6, use_colnames=True)\n",
        "\n",
        "print(frequent_itemsets)"
      ],
      "metadata": {
        "colab": {
          "base_uri": "https://localhost:8080/"
        },
        "id": "du52-lfj3W9w",
        "outputId": "000e7642-692d-47f1-dba0-71db3d5acf63"
      },
      "execution_count": null,
      "outputs": [
        {
          "output_type": "stream",
          "name": "stdout",
          "text": [
            "    support               itemsets\n",
            "0  1.000000                (Bread)\n",
            "1  0.833333               (Diaper)\n",
            "2  0.833333                 (Milk)\n",
            "3  0.833333        (Diaper, Bread)\n",
            "4  0.833333          (Milk, Bread)\n",
            "5  0.666667         (Diaper, Milk)\n",
            "6  0.666667  (Diaper, Milk, Bread)\n"
          ]
        }
      ]
    },
    {
      "cell_type": "code",
      "source": [
        "import pandas as pd\n",
        "from itertools import combinations\n",
        "\n",
        "def get_frequent_itemsets(df, min_support):\n",
        "    itemsets = []\n",
        "\n",
        "    # Step 1: Generate itemsets of size 1\n",
        "    for col in df.columns:\n",
        "        support = (df[col].sum()) / len(df)\n",
        "        if support >= min_support:\n",
        "            itemsets.append(([col], support))\n",
        "\n",
        "    # Step 2: Generate itemsets of size 2, 3, ..., N\n",
        "    k = 2\n",
        "    while True:\n",
        "        new_itemsets = []\n",
        "        for comb in combinations(df.columns, k):\n",
        "            support = (df[list(comb)].all(axis=1).sum()) / len(df)\n",
        "            if support >= min_support:\n",
        "                new_itemsets.append((comb, support))\n",
        "\n",
        "        if not new_itemsets:\n",
        "            break\n",
        "\n",
        "        itemsets.extend(new_itemsets)\n",
        "        k += 1\n",
        "\n",
        "    return pd.DataFrame(itemsets, columns=[\"itemsets\", \"support\"])\n",
        "\n",
        "# Set minimum support threshold\n",
        "min_support = 0.6\n",
        "\n",
        "# Find frequent itemsets\n",
        "frequent_itemsets = get_frequent_itemsets(one_hot_df, min_support)\n",
        "\n",
        "# Display results\n",
        "print(\"Frequent Itemsets:\")\n",
        "print(frequent_itemsets)"
      ],
      "metadata": {
        "colab": {
          "base_uri": "https://localhost:8080/"
        },
        "id": "bZVVDlE970Lc",
        "outputId": "3363fb59-c8aa-403c-9620-3ac8b82f852b"
      },
      "execution_count": null,
      "outputs": [
        {
          "output_type": "stream",
          "name": "stdout",
          "text": [
            "Frequent Itemsets:\n",
            "                itemsets   support\n",
            "0                [Bread]  1.000000\n",
            "1               [Diaper]  0.833333\n",
            "2                 [Milk]  0.833333\n",
            "3        (Bread, Diaper)  0.833333\n",
            "4          (Bread, Milk)  0.833333\n",
            "5         (Diaper, Milk)  0.666667\n",
            "6  (Bread, Diaper, Milk)  0.666667\n"
          ]
        }
      ]
    },
    {
      "cell_type": "markdown",
      "source": [
        "\n",
        "✅ **min_support** = 0.6 means itemsets must appear in **at least 60%** of transactions.\n",
        "\n",
        "---"
      ],
      "metadata": {
        "id": "1lGafTxm3d5P"
      }
    },
    {
      "cell_type": "markdown",
      "source": [
        "## 4. Generate Association Rules\n",
        "\n",
        "After finding frequent itemsets, generate **rules**."
      ],
      "metadata": {
        "id": "OyUxRTb23irr"
      }
    },
    {
      "cell_type": "code",
      "source": [
        "from mlxtend.frequent_patterns import association_rules\n",
        "\n",
        "# Generate rules with minimum confidence of 0.7\n",
        "rules = association_rules(frequent_itemsets, metric=\"confidence\", min_threshold=0.7)\n",
        "\n",
        "print(rules[['antecedents', 'consequents', 'support', 'confidence', 'lift']])"
      ],
      "metadata": {
        "colab": {
          "base_uri": "https://localhost:8080/"
        },
        "id": "ZlvyU8XU3eVk",
        "outputId": "9fb20e4b-77a2-49e3-9848-c31ac59d9b24"
      },
      "execution_count": null,
      "outputs": [
        {
          "output_type": "stream",
          "name": "stdout",
          "text": [
            "        antecedents      consequents   support  confidence  lift\n",
            "0          (Diaper)          (Bread)  0.833333    1.000000  1.00\n",
            "1           (Bread)         (Diaper)  0.833333    0.833333  1.00\n",
            "2            (Milk)          (Bread)  0.833333    1.000000  1.00\n",
            "3           (Bread)           (Milk)  0.833333    0.833333  1.00\n",
            "4          (Diaper)           (Milk)  0.666667    0.800000  0.96\n",
            "5            (Milk)         (Diaper)  0.666667    0.800000  0.96\n",
            "6    (Diaper, Milk)          (Bread)  0.666667    1.000000  1.00\n",
            "7   (Diaper, Bread)           (Milk)  0.666667    0.800000  0.96\n",
            "8     (Milk, Bread)         (Diaper)  0.666667    0.800000  0.96\n",
            "9          (Diaper)    (Milk, Bread)  0.666667    0.800000  0.96\n",
            "10           (Milk)  (Diaper, Bread)  0.666667    0.800000  0.96\n"
          ]
        },
        {
          "output_type": "stream",
          "name": "stderr",
          "text": [
            "/usr/local/lib/python3.11/dist-packages/mlxtend/frequent_patterns/association_rules.py:186: RuntimeWarning: invalid value encountered in divide\n",
            "  cert_metric = np.where(certainty_denom == 0, 0, certainty_num / certainty_denom)\n"
          ]
        }
      ]
    },
    {
      "cell_type": "code",
      "source": [
        "import pandas as pd\n",
        "from itertools import combinations\n",
        "\n",
        "def generate_association_rules(frequent_itemsets, df, min_confidence):\n",
        "    rules = []\n",
        "\n",
        "    for itemset, support in frequent_itemsets.values:\n",
        "        # Generate all non-empty subsets of the itemset\n",
        "        for k in range(1, len(itemset)):\n",
        "            subsets = combinations(itemset, k)\n",
        "            for subset in subsets:\n",
        "                antecedent = set(subset)\n",
        "                consequent = set(itemset) - antecedent\n",
        "\n",
        "                # Calculate confidence and lift\n",
        "                antecedent_support = (df[list(antecedent)].all(axis=1).sum()) / len(df)\n",
        "                if antecedent_support == 0:\n",
        "                    continue\n",
        "\n",
        "                confidence = support / antecedent_support\n",
        "                if confidence >= min_confidence:\n",
        "                    consequent_support = (df[list(consequent)].all(axis=1).sum()) / len(df)\n",
        "                    lift = confidence / consequent_support\n",
        "\n",
        "                    rules.append({\n",
        "                        \"antecedent\": antecedent,\n",
        "                        \"consequent\": consequent,\n",
        "                        \"support\": support,\n",
        "                        \"confidence\": confidence,\n",
        "                        \"lift\": lift\n",
        "                    })\n",
        "\n",
        "    return pd.DataFrame(rules)\n",
        "\n",
        "# Set minimum confidence thresholds\n",
        "min_support = 0.6\n",
        "min_confidence = 0.7\n",
        "\n",
        "# Generate association rules\n",
        "association_rules_df = generate_association_rules(frequent_itemsets, one_hot_df, min_confidence)\n",
        "\n",
        "print(\"\\nAssociation Rules:\")\n",
        "print(association_rules_df)"
      ],
      "metadata": {
        "colab": {
          "base_uri": "https://localhost:8080/"
        },
        "id": "eyPrUbJz80Ev",
        "outputId": "5474775b-65d4-4f96-8c7b-9f7bf2e32171"
      },
      "execution_count": null,
      "outputs": [
        {
          "output_type": "stream",
          "name": "stdout",
          "text": [
            "\n",
            "Association Rules:\n",
            "         antecedent       consequent   support  confidence  lift\n",
            "0           {Bread}         {Diaper}  0.833333    0.833333  1.00\n",
            "1          {Diaper}          {Bread}  0.833333    1.000000  1.00\n",
            "2           {Bread}           {Milk}  0.833333    0.833333  1.00\n",
            "3            {Milk}          {Bread}  0.833333    1.000000  1.00\n",
            "4          {Diaper}           {Milk}  0.666667    0.800000  0.96\n",
            "5            {Milk}         {Diaper}  0.666667    0.800000  0.96\n",
            "6          {Diaper}    {Milk, Bread}  0.666667    0.800000  0.96\n",
            "7            {Milk}  {Diaper, Bread}  0.666667    0.800000  0.96\n",
            "8   {Diaper, Bread}           {Milk}  0.666667    0.800000  0.96\n",
            "9     {Milk, Bread}         {Diaper}  0.666667    0.800000  0.96\n",
            "10   {Diaper, Milk}          {Bread}  0.666667    1.000000  1.00\n"
          ]
        }
      ]
    },
    {
      "cell_type": "markdown",
      "source": [
        "\n",
        "✅ **Antecedent**: Left-hand side (IF)  \n",
        "✅ **Consequent**: Right-hand side (THEN)\n",
        "\n",
        "---"
      ],
      "metadata": {
        "id": "63Wj24NU3nvw"
      }
    },
    {
      "cell_type": "markdown",
      "source": [
        "## 5. Filter Rules by Lift and Confidence\n",
        "\n",
        "To get **strong rules**, filter by lift and confidence:"
      ],
      "metadata": {
        "id": "4ephS8bJ318k"
      }
    },
    {
      "cell_type": "code",
      "source": [
        "# Filter rules with lift > 1 and confidence > 0.8\n",
        "strong_rules = rules[(rules['lift'] >= 1) & (rules['confidence'] > 0.8)]\n",
        "\n",
        "print(strong_rules[['antecedents', 'consequents', 'support', 'confidence', 'lift']])"
      ],
      "metadata": {
        "colab": {
          "base_uri": "https://localhost:8080/"
        },
        "id": "Mw_BtRsE3obA",
        "outputId": "99c1d299-fd75-4af2-ab09-246e543055b2"
      },
      "execution_count": null,
      "outputs": [
        {
          "output_type": "stream",
          "name": "stdout",
          "text": [
            "      antecedents consequents   support  confidence  lift\n",
            "0        (Diaper)     (Bread)  0.833333    1.000000   1.0\n",
            "1         (Bread)    (Diaper)  0.833333    0.833333   1.0\n",
            "2          (Milk)     (Bread)  0.833333    1.000000   1.0\n",
            "3         (Bread)      (Milk)  0.833333    0.833333   1.0\n",
            "6  (Diaper, Milk)     (Bread)  0.666667    1.000000   1.0\n"
          ]
        }
      ]
    },
    {
      "cell_type": "markdown",
      "source": [
        "\n",
        "✅ Lift > 1.2 indicates a **strong positive association** between items.\n",
        "\n",
        "---"
      ],
      "metadata": {
        "id": "iPQ3930H37Gq"
      }
    },
    {
      "cell_type": "markdown",
      "source": [
        "\n",
        "## 6. (Bonus) Visualize the Rules!\n",
        "\n",
        "You can **plot a simple scatter plot** to visualize Confidence vs Support:"
      ],
      "metadata": {
        "id": "UhU6ohMQ4CcX"
      }
    },
    {
      "cell_type": "code",
      "source": [
        "import matplotlib.pyplot as plt\n",
        "\n",
        "plt.scatter(rules['support'], rules['confidence'], alpha=0.5)\n",
        "plt.xlabel('Support')\n",
        "plt.ylabel('Confidence')\n",
        "plt.title('Association Rules')\n",
        "plt.show()"
      ],
      "metadata": {
        "colab": {
          "base_uri": "https://localhost:8080/",
          "height": 471
        },
        "id": "MyprRzoh37hX",
        "outputId": "d95a14aa-4926-42a6-a807-c571cf166504"
      },
      "execution_count": null,
      "outputs": [
        {
          "output_type": "display_data",
          "data": {
            "text/plain": [
              "<Figure size 640x480 with 1 Axes>"
            ],
            "image/png": "[encoded data removed]"
          },
          "metadata": {}
        }
      ]
    },
    {
      "cell_type": "markdown",
      "source": [
        "\n",
        "\n",
        "✅ This gives you an idea where **high-confidence** and **high-support** rules are!\n",
        "\n",
        "---"
      ],
      "metadata": {
        "id": "xMXzA8Ge4Iqc"
      }
    },
    {
      "cell_type": "code",
      "source": [],
      "metadata": {
        "id": "MIHUBFKt4JFB"
      },
      "execution_count": null,
      "outputs": []
    }
  ]
}