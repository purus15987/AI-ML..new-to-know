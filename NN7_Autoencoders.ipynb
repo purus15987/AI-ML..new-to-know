{
  "nbformat": 4,
  "nbformat_minor": 0,
  "metadata": {
    "colab": {
      "provenance": [],
      "collapsed_sections": [
        "YDf3hJ1-9LzM",
        "tt7Nlz90BDDh",
        "D20-9ddGC4ff",
        "tQjVydooD5Yt",
        "CsMRwoKTF83D",
        "i8fFeuccIiIH",
        "CMp2_iTGJoxD",
        "2iSBHmTELT_r",
        "uad5BFtlNhR-",
        "63N3Up88P_iw",
        "pU2kFXoHRfzx",
        "rEgD2UiITYyn",
        "KUF-a6xcUAnD"
      ],
      "toc_visible": true
    },
    "kernelspec": {
      "name": "python3",
      "display_name": "Python 3"
    },
    "language_info": {
      "name": "python"
    }
  },
  "cells": [
    {
      "cell_type": "markdown",
      "source": [
        "# Autoencoders"
      ],
      "metadata": {
        "id": "_zlgJLuo88eO"
      }
    },
    {
      "cell_type": "markdown",
      "source": [
        "Autoencoders are a type of artificial neural network used for `unsupervised learning`.\n",
        "\n",
        "They are designed to learn efficient data representations (encoding) by training the network to reconstruct its input as closely as possible."
      ],
      "metadata": {
        "id": "4S6hZiez9TYP"
      }
    },
    {
      "cell_type": "markdown",
      "source": [
        "## Introduction to Autoencoders"
      ],
      "metadata": {
        "id": "YDf3hJ1-9LzM"
      }
    },
    {
      "cell_type": "markdown",
      "source": [
        "An autoencoder (AE) consists of two main components:\n",
        "\n",
        "- `Encoder:` Compresses the input into a lower-dimensional latent representation (`bottleneck`).\n",
        "- `Decoder:` Reconstructs the input from this latent representation.\n",
        "\n",
        "Goal: Minimize the difference between the input and the reconstructed output."
      ],
      "metadata": {
        "id": "hyFmKf-S9bq0"
      }
    },
    {
      "cell_type": "markdown",
      "source": [
        "**Mathematical Representation**\n",
        "\n",
        "Given an input x, an autoencoder learns a mapping:\n",
        "\n",
        "- Encoding Function: z = f(x) → Compresses input\n",
        "- Decoding Function: x′ = g(z) → Reconstructs input\n",
        "\n",
        "\n",
        "    Input  →  Encoder  →  Bottleneck (Latent Space)  →  Decoder  →  Output\n",
        "\n",
        "- Objective: Minimize Reconstruction Loss L(x,x′)"
      ],
      "metadata": {
        "id": "nWas-vkU9mXT"
      }
    },
    {
      "cell_type": "code",
      "source": [
        "import torch\n",
        "import torch.nn as nn\n",
        "import torch.optim as optim\n",
        "import torchvision.transforms as transforms\n",
        "from torchvision.datasets import MNIST\n",
        "from torch.utils.data import DataLoader\n",
        "\n",
        "# Define Autoencoder Model\n",
        "class Autoencoder(nn.Module):\n",
        "    def __init__(self):\n",
        "        super(Autoencoder, self).__init__()\n",
        "        # Encoder\n",
        "        self.encoder = nn.Sequential(\n",
        "            nn.Linear(28 * 28, 128),\n",
        "            nn.ReLU(),\n",
        "            nn.Linear(128, 32),\n",
        "            nn.ReLU()\n",
        "        )\n",
        "        # Decoder\n",
        "        self.decoder = nn.Sequential(\n",
        "            nn.Linear(32, 128),\n",
        "            nn.ReLU(),\n",
        "            nn.Linear(128, 28 * 28),\n",
        "            nn.Sigmoid()\n",
        "        )\n",
        "\n",
        "    def forward(self, x):\n",
        "        x = self.encoder(x)\n",
        "        x = self.decoder(x)\n",
        "        return x\n",
        "\n",
        "# Load MNIST Dataset\n",
        "transform = transforms.Compose([transforms.ToTensor(), transforms.Lambda(lambda x: x.view(-1))])\n",
        "dataset = MNIST(root='./data', train=True, transform=transform, download=True)\n",
        "dataloader = DataLoader(dataset, batch_size=64, shuffle=True)\n",
        "\n",
        "# Model, Loss, Optimizer\n",
        "model = Autoencoder()\n",
        "criterion = nn.MSELoss()\n",
        "optimizer = optim.Adam(model.parameters(), lr=0.001)\n",
        "\n",
        "# Training Loop\n",
        "for epoch in range(10):\n",
        "    for images, _ in dataloader:\n",
        "        output = model(images)\n",
        "        loss = criterion(output, images)\n",
        "        optimizer.zero_grad()\n",
        "        loss.backward()\n",
        "        optimizer.step()\n",
        "    print(f'Epoch [{epoch+1}/10], Loss: {loss.item():.4f}')"
      ],
      "metadata": {
        "id": "55VkYM4nAd5Y"
      },
      "execution_count": null,
      "outputs": []
    },
    {
      "cell_type": "markdown",
      "source": [
        "**Loss Functions in Autoencoders**\n",
        "\n",
        "<table border=\"1\">\n",
        "    <tr>\n",
        "        <th>Loss Function</th>\n",
        "        <th>Formula</th>\n",
        "        <th>Use Case</th>\n",
        "    </tr>\n",
        "    <tr>\n",
        "        <td>Mean Squared Error (MSE)</td>\n",
        "        <td>L = 1/N sum(x - x')^2</td>\n",
        "        <td>Standard for continuous data (e.g., images, numerical data)</td>\n",
        "    </tr>\n",
        "    <tr>\n",
        "        <td>Mean Absolute Error (MAE/L1 Loss)</td>\n",
        "        <td>L = 1/N sum |x - x'|</td>\n",
        "        <td>Used for sparse data or when robustness to outliers is needed</td>\n",
        "    </tr>\n",
        "    <tr>\n",
        "        <td>Binary Cross-Entropy (BCE)</td>\n",
        "        <td>L = -sum [x log(x') + (1 - x) log(1 - x')] </td>\n",
        "        <td>Used for binary or normalized image data</td>\n",
        "    </tr>\n",
        "    <tr>\n",
        "        <td>Structural Similarity Index (SSIM)</td>\n",
        "        <td>Measures perceptual similarity instead of pixel-wise difference</td>\n",
        "        <td>Used in high-quality image reconstructions</td>\n",
        "    </tr>\n",
        "    <tr>\n",
        "        <td>KL Divergence (KLD)</td>\n",
        "        <td>Measures difference between two probability distributions</td>\n",
        "        <td>Used in Variational Autoencoders (VAEs)</td>\n",
        "    </tr>\n",
        "    <tr>\n",
        "        <td>Hinge Loss (Sparsity Loss)</td>\n",
        "        <td>L = sum max(0, 1 - z)</td>\n",
        "        <td>Encourages sparsity in representations</td>\n",
        "    </tr>\n",
        "</table>\n",
        "\n",
        "Combining Loss Functions for Better Performance"
      ],
      "metadata": {
        "id": "k2-f-dAg-UdB"
      }
    },
    {
      "cell_type": "markdown",
      "source": [
        "## Types of Autoencoders"
      ],
      "metadata": {
        "id": "8Vmzv3fU_zXA"
      }
    },
    {
      "cell_type": "markdown",
      "source": [
        "### Vanilla Autoencoder (Basic Autoencoder)"
      ],
      "metadata": {
        "id": "tt7Nlz90BDDh"
      }
    },
    {
      "cell_type": "markdown",
      "source": [
        "A Vanilla Autoencoder is the simplest form of an autoencoder that learns a compressed representation of input data and reconstructs it back."
      ],
      "metadata": {
        "id": "FkIOqJ74BpPr"
      }
    },
    {
      "cell_type": "markdown",
      "source": [
        "- Structure: Simple `encoder-decoder architecture` with a bottleneck.\n",
        "- Objective: Learn a compressed `latent representation` that reconstructs the input.\n",
        "- Loss Function: `Mean Squared Error (MSE)` or `Binary Cross-Entropy (BCE)`.\n",
        "- Use Cases: Dimensionality reduction (like PCA but non-linear).\n",
        "- Implementation: Fully connected layers (`Dense` in TensorFlow or `Linear` in PyTorch)."
      ],
      "metadata": {
        "id": "kkQxYrfLBITE"
      }
    },
    {
      "cell_type": "markdown",
      "source": [
        "![image.png](data:image/png;base64,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)"
      ],
      "metadata": {
        "id": "mx4Uv_LFCJPw"
      }
    },
    {
      "cell_type": "markdown",
      "source": [
        "Works well for dimensionality reduction, feature learning, and anomaly detection."
      ],
      "metadata": {
        "id": "FVGraU2aF24O"
      }
    },
    {
      "cell_type": "code",
      "source": [
        "import torch\n",
        "import torch.nn as nn\n",
        "import torch.optim as optim\n",
        "import torchvision.transforms as transforms\n",
        "from torchvision.datasets import MNIST\n",
        "from torch.utils.data import DataLoader\n",
        "\n",
        "# Device setup\n",
        "device = torch.device(\"cuda\" if torch.cuda.is_available() else \"cpu\")\n",
        "\n",
        "# Load MNIST dataset\n",
        "transform = transforms.Compose([transforms.ToTensor()])\n",
        "train_dataset = MNIST(root='./data', train=True, transform=transform, download=True)\n",
        "train_loader = DataLoader(train_dataset, batch_size=64, shuffle=True)\n",
        "\n",
        "# Define the Autoencoder model\n",
        "class Autoencoder(nn.Module):\n",
        "    def __init__(self):\n",
        "        super(Autoencoder, self).__init__()\n",
        "        # Encoder\n",
        "        self.encoder = nn.Sequential(\n",
        "            nn.Linear(28*28, 128),\n",
        "            nn.ReLU(),\n",
        "            nn.Linear(128, 64),\n",
        "            nn.ReLU(),\n",
        "            nn.Linear(64, 32)  # Bottleneck (latent space)\n",
        "        )\n",
        "        # Decoder\n",
        "        self.decoder = nn.Sequential(\n",
        "            nn.Linear(32, 64),\n",
        "            nn.ReLU(),\n",
        "            nn.Linear(64, 128),\n",
        "            nn.ReLU(),\n",
        "            nn.Linear(128, 28*28),\n",
        "            nn.Sigmoid()  # Output between 0 and 1\n",
        "        )\n",
        "\n",
        "    def forward(self, x):\n",
        "        x = self.encoder(x)\n",
        "        x = self.decoder(x)\n",
        "        return x\n",
        "\n",
        "# Initialize model, loss, and optimizer\n",
        "model = Autoencoder().to(device)\n",
        "criterion = nn.MSELoss()\n",
        "optimizer = optim.Adam(model.parameters(), lr=0.001)\n",
        "\n",
        "# Training loop\n",
        "epochs = 10\n",
        "for epoch in range(epochs):\n",
        "    for images, _ in train_loader:\n",
        "        images = images.view(images.size(0), -1).to(device)\n",
        "\n",
        "        # Forward pass\n",
        "        outputs = model(images)\n",
        "        loss = criterion(outputs, images)\n",
        "\n",
        "        # Backward pass\n",
        "        optimizer.zero_grad()\n",
        "        loss.backward()\n",
        "        optimizer.step()\n",
        "\n",
        "    print(f\"Epoch [{epoch+1}/{epochs}], Loss: {loss.item():.4f}\")\n",
        "\n",
        "print(\"Training completed!\")"
      ],
      "metadata": {
        "id": "Ih7nMGDsCscW"
      },
      "execution_count": null,
      "outputs": []
    },
    {
      "cell_type": "markdown",
      "source": [
        "### Denoising Autoencoder (DAE)"
      ],
      "metadata": {
        "id": "D20-9ddGC4ff"
      }
    },
    {
      "cell_type": "markdown",
      "source": [
        "A Denoising Autoencoder (DAE) is a variation of autoencoders that learns to `remove noise` from corrupted inputs and reconstruct the original data."
      ],
      "metadata": {
        "id": "JIL6pq8uDMPZ"
      }
    },
    {
      "cell_type": "markdown",
      "source": [
        "- Structure: Similar to a vanilla autoencoder but `trained with corrupted input`.\n",
        "- Objective: Reconstruct the original (clean) input from noisy input.\n",
        "- Loss Function: `MSE` or `BCE `(compares the reconstructed output with clean input).\n",
        "- Use Cases: Noise removal in images, speech, and time-series data.\n",
        "- Implementation: `Add noise to the input` (Gaussian Noise, Salt & Pepper) before training."
      ],
      "metadata": {
        "id": "lsHUCZ9yC8rP"
      }
    },
    {
      "cell_type": "code",
      "execution_count": null,
      "metadata": {
        "id": "j2GQhdz282cs"
      },
      "outputs": [],
      "source": [
        "# Add noise to the images\n",
        "def add_noise(img, noise_factor=0.5):\n",
        "    img = img + noise_factor * torch.randn_like(img)\n",
        "    return torch.clamp(img, 0., 1.)  # Keep values in [0,1] range"
      ]
    },
    {
      "cell_type": "markdown",
      "source": [
        "Works well for image restoration, speech denoising, and anomaly detection."
      ],
      "metadata": {
        "id": "FW1VVqxTDxVM"
      }
    },
    {
      "cell_type": "code",
      "source": [
        "import torch\n",
        "import torch.nn as nn\n",
        "import torch.optim as optim\n",
        "import torchvision.transforms as transforms\n",
        "from torchvision.datasets import MNIST\n",
        "from torch.utils.data import DataLoader\n",
        "import numpy as np\n",
        "\n",
        "# Device setup\n",
        "device = torch.device(\"cuda\" if torch.cuda.is_available() else \"cpu\")\n",
        "\n",
        "# Load MNIST dataset\n",
        "transform = transforms.Compose([transforms.ToTensor()])\n",
        "train_dataset = MNIST(root='./data', train=True, transform=transform, download=True)\n",
        "train_loader = DataLoader(train_dataset, batch_size=64, shuffle=True)\n",
        "\n",
        "# Define the Denoising Autoencoder model\n",
        "class DenoisingAutoencoder(nn.Module):\n",
        "    def __init__(self):\n",
        "        super(DenoisingAutoencoder, self).__init__()\n",
        "        # Encoder\n",
        "        self.encoder = nn.Sequential(\n",
        "            nn.Linear(28*28, 128),\n",
        "            nn.ReLU(),\n",
        "            nn.Linear(128, 64),\n",
        "            nn.ReLU(),\n",
        "            nn.Linear(64, 32)\n",
        "        )\n",
        "        # Decoder\n",
        "        self.decoder = nn.Sequential(\n",
        "            nn.Linear(32, 64),\n",
        "            nn.ReLU(),\n",
        "            nn.Linear(64, 128),\n",
        "            nn.ReLU(),\n",
        "            nn.Linear(128, 28*28),\n",
        "            nn.Sigmoid()\n",
        "        )\n",
        "\n",
        "    def forward(self, x):\n",
        "        x = self.encoder(x)\n",
        "        x = self.decoder(x)\n",
        "        return x\n",
        "\n",
        "# Initialize model, loss, and optimizer\n",
        "model = DenoisingAutoencoder().to(device)\n",
        "criterion = nn.MSELoss()\n",
        "optimizer = optim.Adam(model.parameters(), lr=0.001)\n",
        "\n",
        "# Training loop\n",
        "epochs = 10\n",
        "for epoch in range(epochs):\n",
        "    for images, _ in train_loader:\n",
        "        images = images.view(images.size(0), -1).to(device)\n",
        "        noisy_images = add_noise(images).to(device)\n",
        "\n",
        "        # Forward pass\n",
        "        outputs = model(noisy_images)\n",
        "        loss = criterion(outputs, images)  # Compare with clean images\n",
        "\n",
        "        # Backward pass\n",
        "        optimizer.zero_grad()\n",
        "        loss.backward()\n",
        "        optimizer.step()\n",
        "\n",
        "    print(f\"Epoch [{epoch+1}/{epochs}], Loss: {loss.item():.4f}\")\n",
        "\n",
        "print(\"Training completed!\")"
      ],
      "metadata": {
        "id": "2kOTTRU7DjPd"
      },
      "execution_count": null,
      "outputs": []
    },
    {
      "cell_type": "markdown",
      "source": [
        "### Sparse Autoencoder"
      ],
      "metadata": {
        "id": "tQjVydooD5Yt"
      }
    },
    {
      "cell_type": "markdown",
      "source": [
        "A Sparse Autoencoder is a type of autoencoder that applies a `sparsity constraint` on the latent space to encourage `selective activation of neurons`.\n",
        "\n",
        "This helps in `feature learning` and ensures the model captures only the most essential information. `Reduces overfitting` by forcing only a few neurons to activate for any given input."
      ],
      "metadata": {
        "id": "bP9ttGzFEd3C"
      }
    },
    {
      "cell_type": "markdown",
      "source": [
        "- Structure: A standard autoencoder but with `sparsity constraint on the latent space`.\n",
        "- Objective: Encourage the encoder to learn a `sparse representation` (most neurons inactive).\n",
        "- Loss Function: `MSE + Sparsity Regularization` (KL Divergence, L1 norm).\n",
        "- Use Cases: Feature selection, anomaly detection, high-dimensional data analysis.\n",
        "- Implementation: Use `L1 regularization` (Lasso) or `KL divergence` to enforce sparsity."
      ],
      "metadata": {
        "id": "LZiT43YbD7qz"
      }
    },
    {
      "cell_type": "markdown",
      "source": [
        "        x = self.encoder(x)\n",
        "        # Apply sparsity constraint using L1 regularization\n",
        "        sparsity_loss = torch.mean(torch.abs(x))  # L1 norm\n",
        "\n",
        "        # training\n",
        "        loss = criterion(outputs, images) + model.sparsity_weight * sparsity_loss  # Add sparsity loss"
      ],
      "metadata": {
        "id": "6s3o_jICE23F"
      }
    },
    {
      "cell_type": "code",
      "source": [
        "import torch\n",
        "import torch.nn as nn\n",
        "import torch.optim as optim\n",
        "import torchvision.transforms as transforms\n",
        "from torchvision.datasets import MNIST\n",
        "from torch.utils.data import DataLoader\n",
        "\n",
        "# Device setup\n",
        "device = torch.device(\"cuda\" if torch.cuda.is_available() else \"cpu\")\n",
        "\n",
        "# Load MNIST dataset\n",
        "transform = transforms.Compose([transforms.ToTensor()])\n",
        "train_dataset = MNIST(root='./data', train=True, transform=transform, download=True)\n",
        "train_loader = DataLoader(train_dataset, batch_size=64, shuffle=True)\n",
        "\n",
        "# Define Sparse Autoencoder Model\n",
        "class SparseAutoencoder(nn.Module):\n",
        "    def __init__(self, sparsity_weight=1e-5):\n",
        "        super(SparseAutoencoder, self).__init__()\n",
        "        self.sparsity_weight = sparsity_weight  # L1 regularization weight\n",
        "\n",
        "        # Encoder\n",
        "        self.encoder = nn.Sequential(\n",
        "            nn.Linear(28*28, 128),\n",
        "            nn.ReLU(),\n",
        "            nn.Linear(128, 64),\n",
        "            nn.ReLU(),\n",
        "            nn.Linear(64, 32)  # Latent space\n",
        "        )\n",
        "        # Decoder\n",
        "        self.decoder = nn.Sequential(\n",
        "            nn.Linear(32, 64),\n",
        "            nn.ReLU(),\n",
        "            nn.Linear(64, 128),\n",
        "            nn.ReLU(),\n",
        "            nn.Linear(128, 28*28),\n",
        "            nn.Sigmoid()  # Output between 0 and 1\n",
        "        )\n",
        "\n",
        "    def forward(self, x):\n",
        "        x = self.encoder(x)\n",
        "        # Apply sparsity constraint using L1 regularization\n",
        "        sparsity_loss = torch.mean(torch.abs(x))  # L1 norm\n",
        "        x = self.decoder(x)\n",
        "        return x, sparsity_loss\n",
        "\n",
        "# Initialize model, loss function, and optimizer\n",
        "model = SparseAutoencoder().to(device)\n",
        "criterion = nn.MSELoss()\n",
        "optimizer = optim.Adam(model.parameters(), lr=0.001)\n",
        "\n",
        "# Training loop\n",
        "epochs = 10\n",
        "for epoch in range(epochs):\n",
        "    for images, _ in train_loader:\n",
        "        images = images.view(images.size(0), -1).to(device)\n",
        "\n",
        "        # Forward pass\n",
        "        outputs, sparsity_loss = model(images)\n",
        "        loss = criterion(outputs, images) + model.sparsity_weight * sparsity_loss  # Add sparsity loss\n",
        "\n",
        "        # Backward pass\n",
        "        optimizer.zero_grad()\n",
        "        loss.backward()\n",
        "        optimizer.step()\n",
        "\n",
        "    print(f\"Epoch [{epoch+1}/{epochs}], Loss: {loss.item():.4f}\")\n",
        "\n",
        "print(\"Training completed!\")"
      ],
      "metadata": {
        "id": "8a7mYYt0EO8C"
      },
      "execution_count": null,
      "outputs": []
    },
    {
      "cell_type": "markdown",
      "source": [
        "### Variational Autoencoder (VAE)"
      ],
      "metadata": {
        "id": "CsMRwoKTF83D"
      }
    },
    {
      "cell_type": "markdown",
      "source": [
        "A Variational Autoencoder (VAE) is a `generative model` that learns a `probabilistic latent space` instead of a fixed compressed representation.\n",
        "\n",
        "Unlike Vanilla Autoencoders, VAEs encode inputs as `distributions (mean & variance)`, allowing random sampling and controlled interpolation in the latent space."
      ],
      "metadata": {
        "id": "U_eDbI3gGrUn"
      }
    },
    {
      "cell_type": "markdown",
      "source": [
        "- Structure: Instead of encoding inputs into a fixed latent vector, it learns a `probability distribution`.\n",
        "- Objective: `Encode inputs into mean (μ) and variance (σ), then sample from the distribution`.\n",
        "- Decoder: Reconstructs input from the sampled latent vector z."
      ],
      "metadata": {
        "id": "OJAEZt86GAiu"
      }
    },
    {
      "cell_type": "markdown",
      "source": [
        " Encoder\n",
        "\n",
        "        self.encoder = nn.Sequential(\n",
        "            nn.Linear(28*28, 256),\n",
        "            nn.ReLU(),\n",
        "            nn.Linear(256, 128),\n",
        "            nn.ReLU()\n",
        "        )\n",
        "        self.fc_mu = nn.Linear(128, latent_dim)   # Mean\n",
        "        self.fc_logvar = nn.Linear(128, latent_dim)  # Log-Variance\n",
        "\n",
        "Uses mean (μ) & variance (σ²) instead of a single latent vector.\n",
        "\n",
        "    def reparameterize(self, mu, logvar):\n",
        "        std = torch.exp(0.5 * logvar)  # Standard deviation\n",
        "        eps = torch.randn_like(std)  # Sample noise\n",
        "        return mu + eps * std  # Reparameterization trick\n",
        "\n",
        "Decoder\n",
        "\n",
        "        self.decoder = nn.Sequential(\n",
        "            nn.Linear(latent_dim, 128),\n",
        "            nn.ReLU(),\n",
        "            nn.Linear(128, 256),\n",
        "            nn.ReLU(),\n",
        "            nn.Linear(256, 28*28),\n",
        "            nn.Sigmoid()  # Outputs between 0 and 1\n",
        "        )"
      ],
      "metadata": {
        "id": "PlbYzsh8Hag8"
      }
    },
    {
      "cell_type": "markdown",
      "source": [
        "\n",
        "- Loss Function: Reconstruction Loss `(MSE) + KL Divergence` (ensures smooth latent space).\n",
        "- Use Cases: Generative modeling, image synthesis, text generation.\n",
        "- Implementation: Uses a reparameterization trick (`sampling from a normal distribution` using z = μ + σ * ε)."
      ],
      "metadata": {
        "id": "sJlHJ8TXHqD3"
      }
    },
    {
      "cell_type": "code",
      "source": [
        "# Loss function (Reconstruction Loss + KL Divergence)\n",
        "def loss_function(recon_x, x, mu, logvar):\n",
        "    recon_loss = nn.BCELoss(reduction='sum')(recon_x, x)  # Binary cross-entropy loss\n",
        "    kl_divergence = -0.5 * torch.sum(1 + logvar - mu.pow(2) - logvar.exp())  # KL divergence loss\n",
        "    return recon_loss + kl_divergence"
      ],
      "metadata": {
        "id": "O0R-FXF5HOoR"
      },
      "execution_count": null,
      "outputs": []
    },
    {
      "cell_type": "markdown",
      "source": [
        "Introduces KL Divergence to make the latent space smooth & continuous."
      ],
      "metadata": {
        "id": "PIpoUv9PH29X"
      }
    },
    {
      "cell_type": "code",
      "source": [
        "import torch\n",
        "import torch.nn as nn\n",
        "import torch.optim as optim\n",
        "import torchvision.transforms as transforms\n",
        "from torchvision.datasets import MNIST\n",
        "from torch.utils.data import DataLoader\n",
        "\n",
        "# Device setup\n",
        "device = torch.device(\"cuda\" if torch.cuda.is_available() else \"cpu\")\n",
        "\n",
        "# Load MNIST dataset\n",
        "transform = transforms.Compose([transforms.ToTensor()])\n",
        "train_dataset = MNIST(root='./data', train=True, transform=transform, download=True)\n",
        "train_loader = DataLoader(train_dataset, batch_size=64, shuffle=True)\n",
        "\n",
        "# Define VAE model\n",
        "class VAE(nn.Module):\n",
        "    def __init__(self, latent_dim=20):\n",
        "        super(VAE, self).__init__()\n",
        "        self.latent_dim = latent_dim\n",
        "\n",
        "        # Encoder\n",
        "        self.encoder = nn.Sequential(\n",
        "            nn.Linear(28*28, 256),\n",
        "            nn.ReLU(),\n",
        "            nn.Linear(256, 128),\n",
        "            nn.ReLU()\n",
        "        )\n",
        "        self.fc_mu = nn.Linear(128, latent_dim)   # Mean\n",
        "        self.fc_logvar = nn.Linear(128, latent_dim)  # Log-Variance\n",
        "\n",
        "        # Decoder\n",
        "        self.decoder = nn.Sequential(\n",
        "            nn.Linear(latent_dim, 128),\n",
        "            nn.ReLU(),\n",
        "            nn.Linear(128, 256),\n",
        "            nn.ReLU(),\n",
        "            nn.Linear(256, 28*28),\n",
        "            nn.Sigmoid()  # Outputs between 0 and 1\n",
        "        )\n",
        "\n",
        "    def reparameterize(self, mu, logvar):\n",
        "        std = torch.exp(0.5 * logvar)  # Standard deviation\n",
        "        eps = torch.randn_like(std)  # Sample noise\n",
        "        return mu + eps * std  # Reparameterization trick\n",
        "\n",
        "    def forward(self, x):\n",
        "        x = self.encoder(x)\n",
        "        mu, logvar = self.fc_mu(x), self.fc_logvar(x)  # Get mean & variance\n",
        "        z = self.reparameterize(mu, logvar)  # Sample latent vector\n",
        "        x_reconstructed = self.decoder(z)\n",
        "        return x_reconstructed, mu, logvar\n",
        "\n",
        "\n",
        "# Initialize model, optimizer\n",
        "model = VAE().to(device)\n",
        "optimizer = optim.Adam(model.parameters(), lr=0.001)\n",
        "\n",
        "# Training loop\n",
        "epochs = 10\n",
        "for epoch in range(epochs):\n",
        "    total_loss = 0\n",
        "    for images, _ in train_loader:\n",
        "        images = images.view(images.size(0), -1).to(device)  # Flatten images\n",
        "\n",
        "        optimizer.zero_grad()\n",
        "        recon_images, mu, logvar = model(images)  # Forward pass\n",
        "        loss = loss_function(recon_images, images, mu, logvar)  # Compute loss\n",
        "        loss.backward()\n",
        "        optimizer.step()\n",
        "\n",
        "        total_loss += loss.item()\n",
        "\n",
        "    print(f\"Epoch [{epoch+1}/{epochs}], Loss: {total_loss/len(train_loader.dataset):.4f}\")\n",
        "\n",
        "print(\"Training completed!\")"
      ],
      "metadata": {
        "id": "ScWSvm04F-D_"
      },
      "execution_count": null,
      "outputs": []
    },
    {
      "cell_type": "markdown",
      "source": [
        "### Convolutional Autoencoder (CAE)"
      ],
      "metadata": {
        "id": "i8fFeuccIiIH"
      }
    },
    {
      "cell_type": "markdown",
      "source": [
        "A Convolutional Autoencoder (CAE) is an autoencoder that `uses Convolutional Neural Networks (CNNs)` instead of fully connected layers.\n",
        "\n",
        "It is particularly useful for `image-based tasks` because it captures spatial hierarchies and local patterns efficiently.\n",
        "\n",
        "Preserves spatial structure of images."
      ],
      "metadata": {
        "id": "O1BGnwWQI4dI"
      }
    },
    {
      "cell_type": "markdown",
      "source": [
        "- Structure: Uses `CNN layers` instead of fully connected layers for image processing.\n",
        "- Objective: Extract `hierarchical features` and reconstruct images efficiently.\n",
        "- Loss Function: `MSE` or `BCE`.\n",
        "- Use Cases: Image compression, feature extraction, denoising, anomaly detection.\n",
        "- Implementation: `Encoder → Conv + Pooling`, `Decoder → UpSampling + Conv`."
      ],
      "metadata": {
        "id": "HDN724nzIn4G"
      }
    },
    {
      "cell_type": "code",
      "source": [
        "import torch\n",
        "import torch.nn as nn\n",
        "import torch.optim as optim\n",
        "import torchvision.transforms as transforms\n",
        "from torchvision.datasets import MNIST\n",
        "from torch.utils.data import DataLoader\n",
        "\n",
        "# Device setup\n",
        "device = torch.device(\"cuda\" if torch.cuda.is_available() else \"cpu\")\n",
        "\n",
        "# Load MNIST dataset\n",
        "transform = transforms.Compose([transforms.ToTensor()])\n",
        "train_dataset = MNIST(root='./data', train=True, transform=transform, download=True)\n",
        "train_loader = DataLoader(train_dataset, batch_size=64, shuffle=True)\n",
        "\n",
        "# Define the Convolutional Autoencoder model\n",
        "class ConvAutoencoder(nn.Module):\n",
        "    def __init__(self):\n",
        "        super(ConvAutoencoder, self).__init__()\n",
        "\n",
        "        # Encoder\n",
        "        self.encoder = nn.Sequential(\n",
        "            nn.Conv2d(1, 16, kernel_size=3, stride=2, padding=1),  # Output: 14x14\n",
        "            nn.ReLU(),\n",
        "            nn.Conv2d(16, 32, kernel_size=3, stride=2, padding=1), # Output: 7x7\n",
        "            nn.ReLU(),\n",
        "            nn.Conv2d(32, 64, kernel_size=3, stride=2, padding=1)  # Output: 3x3\n",
        "        )\n",
        "\n",
        "        # Decoder\n",
        "        self.decoder = nn.Sequential(\n",
        "            nn.ConvTranspose2d(64, 32, kernel_size=3, stride=2, padding=1, output_padding=1),  # Output: 7x7\n",
        "            nn.ReLU(),\n",
        "            nn.ConvTranspose2d(32, 16, kernel_size=3, stride=2, padding=1, output_padding=1),  # Output: 14x14\n",
        "            nn.ReLU(),\n",
        "            nn.ConvTranspose2d(16, 1, kernel_size=3, stride=2, padding=1, output_padding=1),   # Output: 28x28\n",
        "            nn.Sigmoid()  # Normalize output to [0,1]\n",
        "        )\n",
        "\n",
        "    def forward(self, x):\n",
        "        x = self.encoder(x)\n",
        "        x = self.decoder(x)\n",
        "        return x\n",
        "\n",
        "# Initialize model, loss function, and optimizer\n",
        "model = ConvAutoencoder().to(device)\n",
        "criterion = nn.MSELoss()\n",
        "optimizer = optim.Adam(model.parameters(), lr=0.001)\n",
        "\n",
        "# Training loop\n",
        "epochs = 10\n",
        "for epoch in range(epochs):\n",
        "    for images, _ in train_loader:\n",
        "        images = images.to(device)\n",
        "\n",
        "        # Forward pass\n",
        "        outputs = model(images)\n",
        "        loss = criterion(outputs, images)\n",
        "\n",
        "        # Backward pass\n",
        "        optimizer.zero_grad()\n",
        "        loss.backward()\n",
        "        optimizer.step()\n",
        "\n",
        "    print(f\"Epoch [{epoch+1}/{epochs}], Loss: {loss.item():.4f}\")\n",
        "\n",
        "print(\"Training completed!\")"
      ],
      "metadata": {
        "id": "4VI49AafJImV"
      },
      "execution_count": null,
      "outputs": []
    },
    {
      "cell_type": "markdown",
      "source": [
        "### Contractive Autoencoder (CAE)"
      ],
      "metadata": {
        "id": "CMp2_iTGJoxD"
      }
    },
    {
      "cell_type": "markdown",
      "source": [
        "A Contractive Autoencoder (CAE) is a type of autoencoder that improves the robustness of learned representations by adding a `contractive loss term`.\n",
        "\n",
        "It penalizes the sensitivity of the latent space to small input variations, ensuring that the learned features are more stable and generalizable."
      ],
      "metadata": {
        "id": "ysvQvvRfJmnW"
      }
    },
    {
      "cell_type": "markdown",
      "source": [
        "- Structure: A standard autoencoder with an `additional regularization term`.\n",
        "- Objective: Improve robustness to small variations in the input.\n",
        "- Loss Function: `MSE + Frobenius Norm` (penalizes sensitivity to small changes).\n",
        "- Use Cases: Learning stable representations, feature extraction.\n",
        "- Implementation: `Add a contractive loss term` using the **Jacobian matrix** of activations."
      ],
      "metadata": {
        "id": "K54lKBz0Jc1a"
      }
    },
    {
      "cell_type": "markdown",
      "source": [
        "Loss Function:\n",
        "\n",
        "    L = ∥X−X'∥^2 + λ∥∇Z∥^2\n",
        "\n",
        "- Reconstruction Loss: Measures the difference between input X and output X' (Mean Squared Error - MSE).\n",
        "- Jacobian Penalty: Encourages the encoder to produce a smooth and stable latent representation."
      ],
      "metadata": {
        "id": "W4gtxNOJKC-6"
      }
    },
    {
      "cell_type": "code",
      "source": [
        "# Contractive loss function\n",
        "def contractive_loss(reconstruction_loss, encoded, inputs, model, lambda_val=1e-4):\n",
        "    \"\"\"\n",
        "    Contractive Loss = Reconstruction Loss + λ * Regularization Term\n",
        "    Regularization Term: Frobenius Norm of the Jacobian matrix of the encoder\n",
        "    \"\"\"\n",
        "    # Compute the Jacobian penalty (gradient of encoded wrt input)\n",
        "    W = list(model.encoder.parameters())[0]  # First layer weights\n",
        "    encoded_sqr = torch.sum(encoded**2, dim=1)\n",
        "    W_sqr = torch.sum(W**2, dim=1)\n",
        "    jacobian_norm = torch.mean(encoded_sqr * W_sqr)  # Contractive penalty\n",
        "\n",
        "    return reconstruction_loss + lambda_val * jacobian_norm"
      ],
      "metadata": {
        "id": "nXpGMhHHKdT8"
      },
      "execution_count": null,
      "outputs": []
    },
    {
      "cell_type": "markdown",
      "source": [
        "**Robust to Small Variations:** Unlike standard autoencoders, CAE ensures small input changes do not drastically alter the latent space."
      ],
      "metadata": {
        "id": "RhyEivlRKz_R"
      }
    },
    {
      "cell_type": "code",
      "source": [
        "import torch\n",
        "import torch.nn as nn\n",
        "import torch.optim as optim\n",
        "import torchvision.transforms as transforms\n",
        "from torchvision.datasets import MNIST\n",
        "from torch.utils.data import DataLoader\n",
        "\n",
        "# Device setup\n",
        "device = torch.device(\"cuda\" if torch.cuda.is_available() else \"cpu\")\n",
        "\n",
        "# Load MNIST dataset\n",
        "transform = transforms.Compose([transforms.ToTensor()])\n",
        "train_dataset = MNIST(root='./data', train=True, transform=transform, download=True)\n",
        "train_loader = DataLoader(train_dataset, batch_size=64, shuffle=True)\n",
        "\n",
        "# Define Contractive Autoencoder model\n",
        "class ContractiveAutoencoder(nn.Module):\n",
        "    def __init__(self):\n",
        "        super(ContractiveAutoencoder, self).__init__()\n",
        "        # Encoder\n",
        "        self.encoder = nn.Sequential(\n",
        "            nn.Linear(28*28, 128),\n",
        "            nn.ReLU(),\n",
        "            nn.Linear(128, 64),\n",
        "            nn.ReLU(),\n",
        "            nn.Linear(64, 32)  # Latent space\n",
        "        )\n",
        "        # Decoder\n",
        "        self.decoder = nn.Sequential(\n",
        "            nn.Linear(32, 64),\n",
        "            nn.ReLU(),\n",
        "            nn.Linear(64, 128),\n",
        "            nn.ReLU(),\n",
        "            nn.Linear(128, 28*28),\n",
        "            nn.Sigmoid()\n",
        "        )\n",
        "\n",
        "    def forward(self, x):\n",
        "        encoded = self.encoder(x)\n",
        "        decoded = self.decoder(encoded)\n",
        "        return encoded, decoded\n",
        "\n",
        "\n",
        "# Initialize model, optimizer, and loss function\n",
        "model = ContractiveAutoencoder().to(device)\n",
        "optimizer = optim.Adam(model.parameters(), lr=0.001)\n",
        "mse_loss = nn.MSELoss()\n",
        "\n",
        "# Training loop\n",
        "epochs = 10\n",
        "lambda_val = 1e-4  # Regularization strength\n",
        "\n",
        "for epoch in range(epochs):\n",
        "    total_loss = 0\n",
        "    for images, _ in train_loader:\n",
        "        images = images.view(images.size(0), -1).to(device)\n",
        "\n",
        "        # Forward pass\n",
        "        encoded, decoded = model(images)\n",
        "        recon_loss = mse_loss(decoded, images)  # Standard reconstruction loss\n",
        "\n",
        "        # Compute contractive loss\n",
        "        loss = contractive_loss(recon_loss, encoded, images, model, lambda_val)\n",
        "\n",
        "        # Backpropagation\n",
        "        optimizer.zero_grad()\n",
        "        loss.backward()\n",
        "        optimizer.step()\n",
        "\n",
        "        total_loss += loss.item()\n",
        "\n",
        "    print(f\"Epoch [{epoch+1}/{epochs}], Loss: {total_loss/len(train_loader):.4f}\")\n",
        "\n",
        "print(\"Training completed!\")"
      ],
      "metadata": {
        "id": "vd1r63AFKY4z"
      },
      "execution_count": null,
      "outputs": []
    },
    {
      "cell_type": "markdown",
      "source": [
        "### Adversarial Autoencoder (AAE)"
      ],
      "metadata": {
        "id": "2iSBHmTELT_r"
      }
    },
    {
      "cell_type": "markdown",
      "source": [
        "An Adversarial Autoencoder (AAE) combines `Autoencoders (AE) with Generative Adversarial Networks (GANs)`. It improves the latent space regularization by enforcing a prior distribution using an `adversarial loss`."
      ],
      "metadata": {
        "id": "7M-8puJuL3kF"
      }
    },
    {
      "cell_type": "markdown",
      "source": [
        "- Structure: Combines autoencoders with GANs. The encoder is trained as a generator, while the decoder acts as a discriminator.\n",
        "- Objective: Enforce latent space to follow a target distribution (Gaussian, Uniform, etc.)."
      ],
      "metadata": {
        "id": "e1Dh8HftLaJf"
      }
    },
    {
      "cell_type": "markdown",
      "source": [
        "How AAE Works?\n",
        "\n",
        "- Encoder: Maps input X to a latent representation Z.\n",
        "- Decoder: Reconstructs X′ from Z.\n",
        "- Discriminator (like in GANs): Tries to distinguish between:\n",
        "  - Real samples from a desired latent distribution (e.g., Gaussian).\n",
        "  - Fake samples from the encoder's output."
      ],
      "metadata": {
        "id": "VTLzsBIOMIRA"
      }
    },
    {
      "cell_type": "markdown",
      "source": [
        "    Reconstruction Loss (MSE/BCE): Ensures the decoder can reconstruct input.\n",
        "    Adversarial Loss (Cross-Entropy Loss): Enforces latent Z to match a target distribution.\n",
        "\n",
        "- Loss Function: Reconstruction Loss + Adversarial Loss.\n",
        "- Use Cases: Semi-supervised learning, disentangled representation learning.\n",
        "- Implementation: Train the encoder adversarially using a discriminator (like GANs)."
      ],
      "metadata": {
        "id": "OtCQvdW2MfiP"
      }
    },
    {
      "cell_type": "markdown",
      "source": [
        "Useful for semi-supervised learning, anomaly detection, generative modeling."
      ],
      "metadata": {
        "id": "h59tjcZyNQv_"
      }
    },
    {
      "cell_type": "code",
      "source": [
        "import torch\n",
        "import torch.nn as nn\n",
        "import torch.optim as optim\n",
        "import torchvision.transforms as transforms\n",
        "from torchvision.datasets import MNIST\n",
        "from torch.utils.data import DataLoader\n",
        "\n",
        "# Device setup\n",
        "device = torch.device(\"cuda\" if torch.cuda.is_available() else \"cpu\")\n",
        "\n",
        "# Load MNIST dataset\n",
        "transform = transforms.Compose([transforms.ToTensor()])\n",
        "train_dataset = MNIST(root='./data', train=True, transform=transform, download=True)\n",
        "train_loader = DataLoader(train_dataset, batch_size=128, shuffle=True)\n",
        "\n",
        "# Define Encoder\n",
        "class Encoder(nn.Module):\n",
        "    def __init__(self, latent_dim=10):\n",
        "        super(Encoder, self).__init__()\n",
        "        self.model = nn.Sequential(\n",
        "            nn.Linear(28*28, 256),\n",
        "            nn.ReLU(),\n",
        "            nn.Linear(256, 128),\n",
        "            nn.ReLU(),\n",
        "            nn.Linear(128, latent_dim)  # Latent space\n",
        "        )\n",
        "\n",
        "    def forward(self, x):\n",
        "        return self.model(x)\n",
        "\n",
        "# Define Decoder\n",
        "class Decoder(nn.Module):\n",
        "    def __init__(self, latent_dim=10):\n",
        "        super(Decoder, self).__init__()\n",
        "        self.model = nn.Sequential(\n",
        "            nn.Linear(latent_dim, 128),\n",
        "            nn.ReLU(),\n",
        "            nn.Linear(128, 256),\n",
        "            nn.ReLU(),\n",
        "            nn.Linear(256, 28*28),\n",
        "            nn.Sigmoid()  # Output between 0 and 1\n",
        "        )\n",
        "\n",
        "    def forward(self, z):\n",
        "        return self.model(z)\n",
        "\n",
        "# Define Discriminator (GAN Component)\n",
        "class Discriminator(nn.Module):\n",
        "    def __init__(self, latent_dim=10):\n",
        "        super(Discriminator, self).__init__()\n",
        "        self.model = nn.Sequential(\n",
        "            nn.Linear(latent_dim, 128),\n",
        "            nn.ReLU(),\n",
        "            nn.Linear(128, 1),\n",
        "            nn.Sigmoid()  # Probability of being real\n",
        "        )\n",
        "\n",
        "    def forward(self, z):\n",
        "        return self.model(z)\n",
        "\n",
        "# Initialize models\n",
        "latent_dim = 10\n",
        "encoder = Encoder(latent_dim).to(device)\n",
        "decoder = Decoder(latent_dim).to(device)\n",
        "discriminator = Discriminator(latent_dim).to(device)\n",
        "\n",
        "# Loss and Optimizers\n",
        "reconstruction_loss = nn.MSELoss()\n",
        "adversarial_loss = nn.BCELoss()\n",
        "optimizer_AE = optim.Adam(list(encoder.parameters()) + list(decoder.parameters()), lr=0.001)\n",
        "optimizer_D = optim.Adam(discriminator.parameters(), lr=0.001)\n",
        "\n",
        "# Training loop\n",
        "epochs = 20\n",
        "for epoch in range(epochs):\n",
        "    for images, _ in train_loader:\n",
        "        images = images.view(images.size(0), -1).to(device)\n",
        "\n",
        "        # ---------------------\n",
        "        # 1. Train Autoencoder (Reconstruction)\n",
        "        # ---------------------\n",
        "        encoded = encoder(images)\n",
        "        reconstructed = decoder(encoded)\n",
        "        loss_reconstruction = reconstruction_loss(reconstructed, images)\n",
        "\n",
        "        optimizer_AE.zero_grad()\n",
        "        loss_reconstruction.backward()\n",
        "        optimizer_AE.step()\n",
        "\n",
        "        # ---------------------\n",
        "        # 2. Train Discriminator (Adversarial Loss)\n",
        "        # ---------------------\n",
        "        real_samples = torch.randn(images.size(0), latent_dim).to(device)  # Sampled from standard normal\n",
        "        fake_samples = encoder(images).detach()  # Encoded output (latent representation)\n",
        "\n",
        "        real_preds = discriminator(real_samples)\n",
        "        fake_preds = discriminator(fake_samples)\n",
        "\n",
        "        real_loss = adversarial_loss(real_preds, torch.ones_like(real_preds))\n",
        "        fake_loss = adversarial_loss(fake_preds, torch.zeros_like(fake_preds))\n",
        "\n",
        "        loss_discriminator = (real_loss + fake_loss) / 2\n",
        "\n",
        "        optimizer_D.zero_grad()\n",
        "        loss_discriminator.backward()\n",
        "        optimizer_D.step()\n",
        "\n",
        "    print(f\"Epoch [{epoch+1}/{epochs}], Reconstruction Loss: {loss_reconstruction.item():.4f}, Discriminator Loss: {loss_discriminator.item():.4f}\")\n",
        "\n",
        "print(\"Training completed!\")"
      ],
      "metadata": {
        "id": "UA1KRpGrIjcO"
      },
      "execution_count": null,
      "outputs": []
    },
    {
      "cell_type": "markdown",
      "source": [
        "### Beta-VAE (β-VAE)"
      ],
      "metadata": {
        "id": "uad5BFtlNhR-"
      }
    },
    {
      "cell_type": "markdown",
      "source": [
        "β-VAE is an extension of Variational Autoencoders (VAEs) that introduces a hyperparameter β to control the `trade-off` between `reconstruction quality` and `disentanglement` of latent features."
      ],
      "metadata": {
        "id": "GQhm9NnFN_qx"
      }
    },
    {
      "cell_type": "markdown",
      "source": [
        "- Standard VAE: Uses KL Divergence loss to ensure a smooth latent space.\n",
        "  - L = Reconstruction Loss + α⋅KL Divergence\n",
        "- β-VAE: Increases the KL term’s weight, forcing the model to learn more independent, interpretable latent factors.\n",
        "  - Lβ = Reconstruction Loss + β⋅KL Divergence\n",
        "\n",
        "\n",
        "    KL Divergence: Forces the latent space to follow a normal distribution.\n",
        "    β (Beta Parameter): Controls the strength of KL regularization (higher β = stronger disentanglement)."
      ],
      "metadata": {
        "id": "J9KgYCnyOSVX"
      }
    },
    {
      "cell_type": "markdown",
      "source": [
        "- Structure: A variant of VAE with a β hyperparameter that controls disentanglement.\n",
        "- Objective: Enforce more independent factors in the latent space.\n",
        "- Loss Function: Weighted KL Divergence + Reconstruction Loss.\n",
        "- Use Cases: Disentangled representation learning, generative modeling.\n",
        "- Implementation: Tune β (higher values encourage disentanglement but may degrade reconstruction)."
      ],
      "metadata": {
        "id": "PRil5KW9NmkT"
      }
    },
    {
      "cell_type": "code",
      "source": [
        "beta = 4.0"
      ],
      "metadata": {
        "id": "exaovtYGO9DJ"
      },
      "execution_count": null,
      "outputs": []
    },
    {
      "cell_type": "markdown",
      "source": [
        "Useful in generative modeling, representation learning, and explainable AI.\n",
        "\n",
        "Can be extended to image synthesis (VQ-VAE, StyleGAN), disentangled learning, and structured latent spaces."
      ],
      "metadata": {
        "id": "d3v_cZPVPwFu"
      }
    },
    {
      "cell_type": "code",
      "source": [
        "import torch\n",
        "import torch.nn as nn\n",
        "import torch.optim as optim\n",
        "from torchvision import datasets, transforms\n",
        "from torch.utils.data import DataLoader\n",
        "\n",
        "# Define Beta-VAE Model\n",
        "class BetaVAE(nn.Module):\n",
        "    def __init__(self, latent_dim=10, beta=4.0):  # Increase β for stronger disentanglement\n",
        "        super(BetaVAE, self).__init__()\n",
        "        self.beta = beta  # Control disentanglement strength\n",
        "\n",
        "        # Encoder\n",
        "        self.encoder = nn.Sequential(\n",
        "            nn.Linear(28*28, 256),\n",
        "            nn.ReLU(),\n",
        "            nn.Linear(256, 128),\n",
        "            nn.ReLU()\n",
        "        )\n",
        "        self.fc_mu = nn.Linear(128, latent_dim)  # Mean\n",
        "        self.fc_logvar = nn.Linear(128, latent_dim)  # Log variance\n",
        "\n",
        "        # Decoder\n",
        "        self.decoder = nn.Sequential(\n",
        "            nn.Linear(latent_dim, 128),\n",
        "            nn.ReLU(),\n",
        "            nn.Linear(128, 256),\n",
        "            nn.ReLU(),\n",
        "            nn.Linear(256, 28*28),\n",
        "            nn.Sigmoid()  # Output range [0,1]\n",
        "        )\n",
        "\n",
        "    def encode(self, x):\n",
        "        x = self.encoder(x)\n",
        "        mu = self.fc_mu(x)\n",
        "        logvar = self.fc_logvar(x)\n",
        "        return mu, logvar\n",
        "\n",
        "    def reparameterize(self, mu, logvar):\n",
        "        std = torch.exp(0.5 * logvar)\n",
        "        eps = torch.randn_like(std)\n",
        "        return mu + eps * std\n",
        "\n",
        "    def decode(self, z):\n",
        "        return self.decoder(z)\n",
        "\n",
        "    def forward(self, x):\n",
        "        mu, logvar = self.encode(x)\n",
        "        z = self.reparameterize(mu, logvar)\n",
        "        return self.decode(z), mu, logvar\n",
        "\n",
        "    def loss_function(self, recon_x, x, mu, logvar):\n",
        "        recon_loss = nn.functional.mse_loss(recon_x, x, reduction='sum')\n",
        "        kl_div = -0.5 * torch.sum(1 + logvar - mu.pow(2) - logvar.exp())\n",
        "        return recon_loss + self.beta * kl_div  # Adjusted KL weight\n",
        "\n",
        "# Load Data\n",
        "transform = transforms.Compose([transforms.ToTensor(), transforms.Lambda(lambda x: x.view(-1))])\n",
        "train_dataset = datasets.MNIST(root=\"./data\", train=True, transform=transform, download=True)\n",
        "train_loader = DataLoader(train_dataset, batch_size=64, shuffle=True)\n",
        "\n",
        "# Initialize Model\n",
        "device = torch.device(\"cuda\" if torch.cuda.is_available() else \"cpu\")\n",
        "model = BetaVAE(latent_dim=10, beta=4.0).to(device)\n",
        "optimizer = optim.Adam(model.parameters(), lr=1e-3)\n",
        "\n",
        "# Training Loop\n",
        "epochs = 10\n",
        "for epoch in range(epochs):\n",
        "    total_loss = 0\n",
        "    for images, _ in train_loader:\n",
        "        images = images.to(device)\n",
        "\n",
        "        optimizer.zero_grad()\n",
        "        recon_images, mu, logvar = model(images)\n",
        "        loss = model.loss_function(recon_images, images, mu, logvar)\n",
        "        loss.backward()\n",
        "        optimizer.step()\n",
        "\n",
        "        total_loss += loss.item()\n",
        "\n",
        "    print(f\"Epoch [{epoch+1}/{epochs}], Loss: {total_loss / len(train_loader.dataset):.4f}\")\n",
        "\n",
        "print(\"Training complete!\")"
      ],
      "metadata": {
        "id": "69U8RNDrNiuu"
      },
      "execution_count": null,
      "outputs": []
    },
    {
      "cell_type": "markdown",
      "source": [
        "### Vector Quantized VAE (VQ-VAE)"
      ],
      "metadata": {
        "id": "63N3Up88P_iw"
      }
    },
    {
      "cell_type": "markdown",
      "source": [
        "VQ-VAE is a variant of the Variational Autoencoder (VAE) that uses a `discrete latent space` instead of a continuous one.\n",
        "\n",
        "This makes it useful for `generative tasks` like image synthesis (DALL·E), speech generation (WaveNet), and text-to-image models."
      ],
      "metadata": {
        "id": "yeY7h_i9QeTZ"
      }
    },
    {
      "cell_type": "markdown",
      "source": [
        "- Structure: Uses discrete latent variables instead of continuous ones.\n",
        "- Objective: Learn a codebook of discrete latent vectors for better generation.\n",
        "- Loss Function: Reconstruction Loss + Codebook Loss (ensures proper discrete encoding).\n",
        "- Use Cases: DALL·E, GPT-like image synthesis, text-to-image models.\n",
        "- Implementation: Uses a discrete codebook to force latent vectors into a limited set of representations."
      ],
      "metadata": {
        "id": "Hkv3LyBVQCh-"
      }
    },
    {
      "cell_type": "markdown",
      "source": [
        "`No KL divergence loss` (as in VAEs). Instead, it uses a `codebook loss` to ensure latent vectors stay close to discrete embeddings."
      ],
      "metadata": {
        "id": "eVwQXtvRQu37"
      }
    },
    {
      "cell_type": "markdown",
      "source": [
        "Architecture of VQ-VAE\n",
        "- Encoder – Converts input into a feature map (latent representation).\n",
        "- Vector Quantization (Codebook) – Maps latent vectors to the closest codebook vectors.\n",
        "- Decoder – Reconstructs the input using the quantized latent space.\n",
        "- Commitment Loss – Ensures encoded vectors stay close to the chosen codebook vectors."
      ],
      "metadata": {
        "id": "KtIxUC7dQ29W"
      }
    },
    {
      "cell_type": "code",
      "source": [
        "import torch\n",
        "import torch.nn as nn\n",
        "import torch.optim as optim\n",
        "import torchvision.transforms as transforms\n",
        "from torchvision.datasets import MNIST\n",
        "from torch.utils.data import DataLoader\n",
        "import torch.nn.functional as F\n",
        "\n",
        "# Device setup\n",
        "device = torch.device(\"cuda\" if torch.cuda.is_available() else \"cpu\")\n",
        "\n",
        "# Load MNIST dataset\n",
        "transform = transforms.Compose([transforms.ToTensor()])\n",
        "train_dataset = MNIST(root='./data', train=True, transform=transform, download=True)\n",
        "train_loader = DataLoader(train_dataset, batch_size=64, shuffle=True)\n",
        "\n",
        "# Vector Quantization Layer\n",
        "class VectorQuantizer(nn.Module):\n",
        "    def __init__(self, num_embeddings=128, embedding_dim=32, commitment_cost=0.25):\n",
        "        super(VectorQuantizer, self).__init__()\n",
        "        self.num_embeddings = num_embeddings\n",
        "        self.embedding_dim = embedding_dim\n",
        "        self.commitment_cost = commitment_cost\n",
        "\n",
        "        # Codebook (Embedding Table)\n",
        "        self.embeddings = nn.Embedding(num_embeddings, embedding_dim)\n",
        "        self.embeddings.weight.data.uniform_(-1/num_embeddings, 1/num_embeddings)\n",
        "\n",
        "    def forward(self, x):\n",
        "        # Reshape input to (batch_size, num_features)\n",
        "        flat_x = x.view(-1, self.embedding_dim)\n",
        "\n",
        "        # Compute L2 distance between input and embedding table\n",
        "        distances = (torch.sum(flat_x**2, dim=1, keepdim=True)\n",
        "                     + torch.sum(self.embeddings.weight**2, dim=1)\n",
        "                     - 2 * torch.matmul(flat_x, self.embeddings.weight.t()))\n",
        "\n",
        "        # Get nearest embedding index\n",
        "        encoding_indices = torch.argmin(distances, dim=1).unsqueeze(1)\n",
        "\n",
        "        # Quantized output from embedding table\n",
        "        quantized = self.embeddings(encoding_indices).view(x.shape)\n",
        "\n",
        "        # Commitment loss\n",
        "        loss = self.commitment_cost * F.mse_loss(quantized.detach(), x)\n",
        "\n",
        "        # Straight-through estimator: Pass gradients to input\n",
        "        quantized = x + (quantized - x).detach()\n",
        "\n",
        "        return quantized, loss\n",
        "\n",
        "# Define VQ-VAE Model\n",
        "class VQVAE(nn.Module):\n",
        "    def __init__(self, num_embeddings=128, embedding_dim=32):\n",
        "        super(VQVAE, self).__init__()\n",
        "\n",
        "        # Encoder\n",
        "        self.encoder = nn.Sequential(\n",
        "            nn.Linear(28*28, 256),\n",
        "            nn.ReLU(),\n",
        "            nn.Linear(256, embedding_dim)\n",
        "        )\n",
        "\n",
        "        # Vector Quantizer\n",
        "        self.vq = VectorQuantizer(num_embeddings, embedding_dim)\n",
        "\n",
        "        # Decoder\n",
        "        self.decoder = nn.Sequential(\n",
        "            nn.Linear(embedding_dim, 256),\n",
        "            nn.ReLU(),\n",
        "            nn.Linear(256, 28*28),\n",
        "            nn.Sigmoid()\n",
        "        )\n",
        "\n",
        "    def forward(self, x):\n",
        "        x = x.view(x.size(0), -1)  # Flatten image\n",
        "        encoded = self.encoder(x)\n",
        "        quantized, vq_loss = self.vq(encoded)\n",
        "        decoded = self.decoder(quantized)\n",
        "        return decoded, vq_loss\n",
        "\n",
        "# Initialize Model, Loss, and Optimizer\n",
        "model = VQVAE().to(device)\n",
        "criterion = nn.MSELoss()\n",
        "optimizer = optim.Adam(model.parameters(), lr=0.001)\n",
        "\n",
        "# Training Loop\n",
        "epochs = 10\n",
        "for epoch in range(epochs):\n",
        "    total_loss = 0\n",
        "    for images, _ in train_loader:\n",
        "        images = images.to(device)\n",
        "\n",
        "        # Forward Pass\n",
        "        reconstructed, vq_loss = model(images)\n",
        "        loss = criterion(reconstructed, images.view(images.size(0), -1)) + vq_loss\n",
        "\n",
        "        # Backward Pass\n",
        "        optimizer.zero_grad()\n",
        "        loss.backward()\n",
        "        optimizer.step()\n",
        "\n",
        "        total_loss += loss.item()\n",
        "\n",
        "    print(f\"Epoch [{epoch+1}/{epochs}], Loss: {total_loss/len(train_loader):.4f}\")\n",
        "\n",
        "print(\"Training Completed!\")"
      ],
      "metadata": {
        "id": "7ScInzUbQAZQ"
      },
      "execution_count": null,
      "outputs": []
    },
    {
      "cell_type": "markdown",
      "source": [
        "Applications of VQ-VAE\n",
        "\n",
        "- Image Generation (DALL·E, VQ-GAN) – Generates high-quality images from text.\n",
        "- Speech Synthesis (WaveNet) – Used in Google’s text-to-speech models.\n",
        "- Video Prediction – Predicts future frames in a video.\n",
        "- Disentangled Representation Learning – Learns structured representations of data."
      ],
      "metadata": {
        "id": "bpmR7Rg2RSWx"
      }
    },
    {
      "cell_type": "markdown",
      "source": [
        "### Transformer Autoencoders"
      ],
      "metadata": {
        "id": "pU2kFXoHRfzx"
      }
    },
    {
      "cell_type": "markdown",
      "source": [
        "ransformer Autoencoders leverage the power of `self-attention mechanisms` (from Transformers) instead of traditional CNNs or RNNs for encoding and decoding data.\n",
        "\n",
        "They are highly effective in text generation, speech processing, and image reconstruction."
      ],
      "metadata": {
        "id": "CbDr8zcjSBk3"
      }
    },
    {
      "cell_type": "markdown",
      "source": [
        "- Structure: Uses self-attention mechanisms instead of CNNs/RNNs.\n",
        "- Objective: Capture long-range dependencies in text, images, and audio.\n",
        "- Loss Function: Cross-Entropy for text, MSE for images.\n",
        "- Use Cases: Text representation learning (BERT), Speech synthesis, Image inpainting.\n",
        "- Implementation: Uses Transformer encoders & decoders (Multi-Head Attention, Positional Encoding)."
      ],
      "metadata": {
        "id": "exyvcx-RRjvU"
      }
    },
    {
      "cell_type": "markdown",
      "source": [
        "Architecture of a Transformer Autoencoder\n",
        "\n",
        "- Encoder: Uses a stack of Transformer Encoder Layers to convert input into a latent representation.\n",
        "- Decoder: Uses Transformer Decoder Layers to reconstruct the original input from the latent space.\n",
        "- Positional Encoding: Since transformers lack sequential bias, we add positional embeddings.\n",
        "- Loss Function: Mean Squared Error (MSE) or Cross-Entropy to compare input vs. reconstructed output."
      ],
      "metadata": {
        "id": "ZnLjC24YSUEf"
      }
    },
    {
      "cell_type": "code",
      "source": [
        "import torch\n",
        "import torch.nn as nn\n",
        "import torch.optim as optim\n",
        "\n",
        "# Define Transformer Autoencoder Model\n",
        "class TransformerAutoencoder(nn.Module):\n",
        "    def __init__(self, input_dim=512, embed_dim=128, num_heads=4, num_layers=3):\n",
        "        super(TransformerAutoencoder, self).__init__()\n",
        "\n",
        "        # Positional Encoding (Ensures order awareness)\n",
        "        self.positional_encoding = nn.Embedding(100, embed_dim)\n",
        "\n",
        "        # Encoder: Transformer Encoder Layer\n",
        "        self.encoder_layer = nn.TransformerEncoderLayer(d_model=embed_dim, nhead=num_heads)\n",
        "        self.encoder = nn.TransformerEncoder(self.encoder_layer, num_layers=num_layers)\n",
        "\n",
        "        # Decoder: Transformer Decoder Layer\n",
        "        self.decoder_layer = nn.TransformerDecoderLayer(d_model=embed_dim, nhead=num_heads)\n",
        "        self.decoder = nn.TransformerDecoder(self.decoder_layer, num_layers=num_layers)\n",
        "\n",
        "        # Input and Output Projection Layers\n",
        "        self.input_projection = nn.Linear(input_dim, embed_dim)\n",
        "        self.output_projection = nn.Linear(embed_dim, input_dim)\n",
        "\n",
        "    def forward(self, x):\n",
        "        seq_length, batch_size, _ = x.shape  # (Seq_len, Batch, Input_dim)\n",
        "        positions = torch.arange(seq_length).unsqueeze(1).expand(seq_length, batch_size).to(x.device)\n",
        "        x = self.input_projection(x) + self.positional_encoding(positions)\n",
        "\n",
        "        # Encode\n",
        "        latent_representation = self.encoder(x)\n",
        "\n",
        "        # Decode\n",
        "        reconstructed = self.decoder(latent_representation, latent_representation)\n",
        "        reconstructed = self.output_projection(reconstructed)\n",
        "        return reconstructed\n",
        "\n",
        "# Training Setup\n",
        "device = torch.device(\"cuda\" if torch.cuda.is_available() else \"cpu\")\n",
        "model = TransformerAutoencoder().to(device)\n",
        "criterion = nn.MSELoss()\n",
        "optimizer = optim.Adam(model.parameters(), lr=0.001)\n",
        "\n",
        "# Dummy Data (Simulating Input)\n",
        "batch_size = 32\n",
        "seq_length = 50\n",
        "input_dim = 512\n",
        "dummy_input = torch.randn(seq_length, batch_size, input_dim).to(device)\n",
        "\n",
        "# Train Model for One Step\n",
        "model.train()\n",
        "optimizer.zero_grad()\n",
        "output = model(dummy_input)\n",
        "loss = criterion(output, dummy_input)\n",
        "loss.backward()\n",
        "optimizer.step()\n",
        "\n",
        "print(f\"Initial Training Loss: {loss.item():.4f}\")"
      ],
      "metadata": {
        "id": "Qi6EiBGxRVHG"
      },
      "execution_count": null,
      "outputs": []
    },
    {
      "cell_type": "markdown",
      "source": [
        "### Masked Autoencoder (MAE)"
      ],
      "metadata": {
        "id": "rEgD2UiITYyn"
      }
    },
    {
      "cell_type": "markdown",
      "source": [
        "Masked Autoencoder (MAE) is a self-supervised learning technique used for learning deep representations, especially in computer vision (e.g., image inpainting, feature learning). It is inspired by the Masked Language Model (MLM) from BERT, but applied to images."
      ],
      "metadata": {
        "id": "6dA_mUSaVA_0"
      }
    },
    {
      "cell_type": "markdown",
      "source": [
        "- The input image is divided into non-overlapping patches (like ViTs).\n",
        "- A large fraction (e.g., 75%) of patches are randomly masked.\n",
        "- Only the remaining patches are given to the encoder."
      ],
      "metadata": {
        "id": "bjoMCzMEW2Vz"
      }
    },
    {
      "cell_type": "code",
      "source": [
        "import torch\n",
        "import torch.nn as nn\n",
        "import torch.optim as optim\n",
        "from torchvision import transforms, datasets\n",
        "from timm.models.vision_transformer import VisionTransformer\n",
        "import numpy as np\n",
        "\n",
        "# -------------------------\n",
        "# Masked Autoencoder Model\n",
        "# -------------------------\n",
        "\n",
        "class MaskedAutoencoder(nn.Module):\n",
        "    def __init__(self, img_size=224, patch_size=16, embed_dim=768, mask_ratio=0.75):\n",
        "        super().__init__()\n",
        "        self.patch_size = patch_size\n",
        "        self.embed_dim = embed_dim\n",
        "        self.mask_ratio = mask_ratio\n",
        "\n",
        "        # Vision Transformer Encoder (only visible patches)\n",
        "        self.encoder = VisionTransformer(img_size=img_size, patch_size=patch_size, embed_dim=embed_dim, depth=12, num_heads=12)\n",
        "\n",
        "        # Decoder (reconstruct masked patches)\n",
        "        self.decoder = nn.Sequential(\n",
        "            nn.Linear(embed_dim, embed_dim),\n",
        "            nn.ReLU(),\n",
        "            nn.Linear(embed_dim, img_size * img_size * 3)  # Output size (reconstructed image)\n",
        "        )\n",
        "\n",
        "    def forward(self, x):\n",
        "        # Convert image into patches\n",
        "        batch_size, _, H, W = x.shape\n",
        "        num_patches = (H // self.patch_size) * (W // self.patch_size)\n",
        "\n",
        "        # Flatten into patches\n",
        "        x = x.unfold(2, self.patch_size, self.patch_size).unfold(3, self.patch_size, self.patch_size)\n",
        "        x = x.permute(0, 2, 3, 1, 4, 5).reshape(batch_size, num_patches, -1)\n",
        "\n",
        "        # Apply random masking\n",
        "        mask = torch.rand(batch_size, num_patches) < self.mask_ratio\n",
        "        masked_x = x.clone()\n",
        "        masked_x[mask] = 0  # Set masked patches to 0\n",
        "\n",
        "        # Encode only visible patches\n",
        "        encoded = self.encoder(masked_x)\n",
        "\n",
        "        # Decode and reconstruct masked patches\n",
        "        reconstructed = self.decoder(encoded)\n",
        "\n",
        "        return reconstructed, mask\n",
        "\n",
        "# -------------------------\n",
        "# Training Setup\n",
        "# -------------------------\n",
        "\n",
        "# Hyperparameters\n",
        "device = torch.device(\"cuda\" if torch.cuda.is_available() else \"cpu\")\n",
        "model = MaskedAutoencoder().to(device)\n",
        "optimizer = optim.Adam(model.parameters(), lr=0.001)\n",
        "criterion = nn.MSELoss()\n",
        "\n",
        "# Load dataset (CIFAR-10 as example)\n",
        "transform = transforms.Compose([transforms.Resize((224, 224)), transforms.ToTensor()])\n",
        "dataset = datasets.CIFAR10(root=\"./data\", train=True, transform=transform, download=True)\n",
        "dataloader = torch.utils.data.DataLoader(dataset, batch_size=32, shuffle=True)\n",
        "\n",
        "# Train the model\n",
        "for epoch in range(10):\n",
        "    for imgs, _ in dataloader:\n",
        "        imgs = imgs.to(device)\n",
        "        reconstructed, mask = model(imgs)\n",
        "\n",
        "        # Compute loss on **only masked** patches\n",
        "        loss = criterion(reconstructed[mask], imgs.view(imgs.shape[0], -1)[mask])\n",
        "        optimizer.zero_grad()\n",
        "        loss.backward()\n",
        "        optimizer.step()\n",
        "\n",
        "    print(f\"Epoch {epoch}, Loss: {loss.item():.4f}\")"
      ],
      "metadata": {
        "id": "YLBH-R-RWsyQ"
      },
      "execution_count": null,
      "outputs": []
    },
    {
      "cell_type": "markdown",
      "source": [
        "## Advanced Autoencoder Techniques"
      ],
      "metadata": {
        "id": "62f_u7puSwQX"
      }
    },
    {
      "cell_type": "markdown",
      "source": [
        "### Self-Supervised Learning with Autoencoders"
      ],
      "metadata": {
        "id": "KUF-a6xcUAnD"
      }
    },
    {
      "cell_type": "markdown",
      "source": [
        "Self-supervised learning (SSL) is a form of unsupervised learning where the model `generates its own labels from data`. Autoencoders play a key role in SSL by learning meaningful latent representations without requiring labeled data."
      ],
      "metadata": {
        "id": "KXZIZW6vTD5t"
      }
    },
    {
      "cell_type": "markdown",
      "source": [
        "**SSL Framework Using Autoencoders**\n",
        "\n",
        "Step 1: Define a Pretext Task (Self-Supervised Learning Objective)\n",
        "- Reconstruction Task – Train an autoencoder to reconstruct input data\n",
        "- Denoising Task – Train a denoising autoencoder (DAE) to remove noise\n",
        "- Inpainting Task – Mask parts of an image and predict missing regions\n",
        "- Contrastive Learning with Autoencoders – Learn invariant representations\n",
        "\n",
        "Step 2: Train the Autoencoder on Unlabeled Data\n",
        "- Encoder learns a compressed representation (latent space)\n",
        "- Decoder reconstructs the original input\n",
        "\n",
        "Step 3: Use the Learned Representations for Downstream Tasks\n",
        "- Feature Extraction for Classification\n",
        "- Clustering (K-Means, t-SNE, UMAP on latent space)\n",
        "- Anomaly Detection (Compare reconstruction errors)"
      ],
      "metadata": {
        "id": "p0pKMN07TdMl"
      }
    },
    {
      "cell_type": "markdown",
      "source": [
        "**Why Use Autoencoders for Self-Supervised Learning?**\n",
        "\n",
        "- Unlabeled Data Utilization – No need for labeled datasets\n",
        "- Feature Learning – Extracts rich feature representations\n",
        "- Data Augmentation-Friendly – Works well with transformations\n",
        "- Downstream Tasks – Helps in classification, clustering, anomaly detection"
      ],
      "metadata": {
        "id": "F13_DNj0Twmj"
      }
    },
    {
      "cell_type": "markdown",
      "source": [
        "### Neural Style Transfer using Autoencoders"
      ],
      "metadata": {
        "id": "qCrn7_rYUPtk"
      }
    },
    {
      "cell_type": "markdown",
      "source": [
        "Neural Style Transfer (NST) is a deep learning technique that combines the content of one image with the artistic style of another. While traditional NST uses pretrained CNNs like VGG-19, autoencoders offer an efficient and flexible alternative for real-time style transfer."
      ],
      "metadata": {
        "id": "e_VbWkoOUn5G"
      }
    },
    {
      "cell_type": "code",
      "source": [],
      "metadata": {
        "id": "sEyLKHD4SxvH"
      },
      "execution_count": null,
      "outputs": []
    }
  ]
}