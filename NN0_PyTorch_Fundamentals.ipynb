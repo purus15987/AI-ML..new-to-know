{
 "cells": [
  {
   "cell_type": "markdown",
   "metadata": {
    "id": "o301L3_zJxhY"
   },
   "source": [
    "# Table of Contents"
   ]
  },
  {
   "cell_type": "markdown",
   "metadata": {
    "colab_type": "toc",
    "id": "_kVXcFK8JjCi"
   },
   "source": [
    ">[Table of Contents](#scrollTo=o301L3_zJxhY)\n",
    "\n",
    ">[PyTorch Fundamentals](#scrollTo=ZkNBqnnd1TzP)\n",
    "\n",
    ">>[PyTorch Tensors](#scrollTo=TF9gLCFz1nSb)\n",
    "\n",
    ">>>[Creating Tensors](#scrollTo=USMknpTg11dn)\n",
    "\n",
    ">>>[P1 - Grayscale Image processing in Tensor](#scrollTo=2DF_lFL36AIo)\n",
    "\n",
    ">>>[Tensor Types](#scrollTo=OAHYaruK2Un0)\n",
    "\n",
    ">>>[Tensor Shape & Reshaping](#scrollTo=L9NIcMsA27WM)\n",
    "\n",
    ">>>[P2 - Image Data Processing - Tensor Reshaping](#scrollTo=T6RuPvEX9YIj)\n",
    "\n",
    ">>>[Tensor Operations](#scrollTo=LOn_8qJx_UD6)\n",
    "\n",
    ">>>[Tensor Broadcasting Rules](#scrollTo=XFG6MZdn3oOB)\n",
    "\n",
    ">>[Device Management (CPU vs. GPU)](#scrollTo=ol1U1FOH47kI)\n",
    "\n",
    ">>>[Checking for GPU Availability](#scrollTo=DRyfzbFNDVrk)\n",
    "\n",
    ">>>[Setting the Device (CPU vs. GPU)](#scrollTo=2B7aCPjiDj0t)\n",
    "\n",
    ">>>[Moving Models to GPU](#scrollTo=Eu6TFdKDDyng)\n",
    "\n",
    ">>>[Multi-GPU Training](#scrollTo=2WIe4A9wD_rB)\n",
    "\n",
    ">>>[Freeing Up GPU Memory](#scrollTo=CmJL6YGJEOy2)\n",
    "\n",
    ">>>[Memory debugging](#scrollTo=85ad0-uFEZ3k)\n",
    "\n",
    ">>[Autograd & Computational Graph](#scrollTo=e4XSsLJtFacn)\n",
    "\n",
    ">>>[What is a Computational Graph?](#scrollTo=PZBCFz6lhFEf)\n",
    "\n",
    ">>>[Basics of Autograd](#scrollTo=T5lwRKxAhi7l)\n",
    "\n",
    ">>>[Linear Regression using Autograd](#scrollTo=YlHsOOfQmFVF)\n",
    "\n",
    ">>>[Gradient Accumulation](#scrollTo=zth1g0xIjetN)\n",
    "\n",
    ">>>[torchviz - Computational Graph Analysis](#scrollTo=s3ElMoyVpjWK)\n",
    "\n",
    ">>>[Gradient Clipping](#scrollTo=Wq0iFy2Lq-1w)\n",
    "\n",
    ">>>[Types of Gradient Clipping](#scrollTo=Dxp_NLr6tjrp)\n",
    "\n",
    ">>>[Autograd & Mixed Precision (AMP) - Training](#scrollTo=fFYe81RFrtEt)\n",
    "\n",
    ">>>[Gradient Checkpointing](#scrollTo=c_YGlRvi0o_9)\n",
    "\n",
    ">>[Common Neural Network Layers](#scrollTo=ae7tJSrt1bak)\n",
    "\n",
    ">>>[Fully Connected (Dense) Layers](#scrollTo=HoZCkuQk2DAd)\n",
    "\n",
    ">>>[Fully Connected (Embedding) Layer](#scrollTo=3yjJrBYS7XYj)\n",
    "\n",
    ">>>[Convolutional Layers (CNNs)](#scrollTo=nQQw5JkO38PC)\n",
    "\n",
    ">>>[Transposed Convolutions](#scrollTo=nN0Gwlkz4ZdQ)\n",
    "\n",
    ">>>[Recurrent Layers (RNNs, LSTMs, GRUs)](#scrollTo=r-LGjVGQ5M9_)\n",
    "\n",
    ">>>[Pooling Layers](#scrollTo=LGgu3Z2b6S2F)\n",
    "\n",
    ">>>[Normalization Layers](#scrollTo=pJesnSWo5nS5)\n",
    "\n",
    ">>>[Dropout & Regularization Layers](#scrollTo=-6QCkUdI8wmi)\n",
    "\n",
    ">>>[Activation Layers (For Non-Linearity)](#scrollTo=EgUU1_Ik91nY)\n",
    "\n",
    ">>>[Custom Layers](#scrollTo=WgMoOwRl6E3d)\n",
    "\n",
    ">>[Data Handling with Dataset & DataLoader](#scrollTo=fA0exUp8_1tJ)\n",
    "\n",
    ">>>[PyTorch Dataset Overview](#scrollTo=uoCFnmhHp9LB)\n",
    "\n",
    ">>>[Creating Custom Datasets](#scrollTo=Qktw_2iD1Zqq)\n",
    "\n",
    ">>>>[torch.utils.data.Dataset](#scrollTo=vlma1QhH1bZ1)\n",
    "\n",
    ">>>>[torch.utils.data.DataLoader](#scrollTo=9TykkpIw3NVQ)\n",
    "\n",
    ">>>>[PyTorch Dataset Implementation](#scrollTo=PoalfzGi2Rk-)\n",
    "\n",
    ">>>>[num_workers](#scrollTo=auI7BYQI3vrf)\n",
    "\n",
    ">>>>[pin_memory](#scrollTo=RjcKbji-7W6T)\n",
    "\n",
    ">>>>[collate_fn](#scrollTo=MCPOvbgx5ors)\n",
    "\n",
    ">>>>[drop_last](#scrollTo=cO0f07Xr6e9t)\n",
    "\n",
    ">>>>[IterableDataset](#scrollTo=wCA5aviy6Adx)\n",
    "\n",
    ">>>>[DistributedSampler](#scrollTo=psZmiJbH69yJ)\n",
    "\n",
    ">>>[Applying Transformations](#scrollTo=IL4OLExE8QlI)\n",
    "\n",
    ">>>>[torchvision.transforms](#scrollTo=EQZDAjCX8SuH)\n",
    "\n",
    ">>>>[list of some transformations available](#scrollTo=ksFHZ5_F9udP)\n",
    "\n",
    ">>>>[Data Augmentation (Random Transformations)](#scrollTo=IbKExtVn-0mT)\n",
    "\n",
    ">>>>[note](#scrollTo=vK8LkMMh_jde)\n",
    "\n",
    ">>>>[Custom Transformations (Lambda, Custom Classes)](#scrollTo=U-hNRtft-IRv)\n",
    "\n",
    ">>>>[Applying Transforms in Dataset Class](#scrollTo=mBGhGZ7m-bl6)\n",
    "\n",
    ">>>>[Albumentations](#scrollTo=mYBF2A5TKdJK)\n",
    "\n",
    ">>>[torchvision.datasets](#scrollTo=xyn2t9jar9-Y)\n",
    "\n",
    ">>>>[CV Datasets](#scrollTo=VtWz2syV0yW6)\n",
    "\n",
    ">>>>[NLP Datasets](#scrollTo=KUT8VnCk09Z5)\n",
    "\n",
    ">>[Loss Functions & Optimizers](#scrollTo=BshFZciX__R-)\n",
    "\n",
    ">>>[Loss Functions in PyTorch (torch.nn module)](#scrollTo=RVeOjK9fAUzO)\n",
    "\n",
    ">>>>[Regression Losses](#scrollTo=_GZBmmxGAnzh)\n",
    "\n",
    ">>>>[Classification Losses](#scrollTo=zExc3ofyA6sk)\n",
    "\n",
    ">>>>[Margin-Based Losses](#scrollTo=G9ellvtzA9kg)\n",
    "\n",
    ">>>>[Similarity Losses](#scrollTo=kBoNjjzCBBMF)\n",
    "\n",
    ">>>>[Sequence & NLP Losses](#scrollTo=w-H8lwIYBDzn)\n",
    "\n",
    ">>>[Optimizers in PyTorch (torch.optim)](#scrollTo=pJG-pHkdBrHI)\n",
    "\n",
    ">>>>[Basic Optimizers](#scrollTo=Z52T8Xw3B1cP)\n",
    "\n",
    ">>>>[Momentum-Based Optimizers](#scrollTo=3O0ZxxMfCVjA)\n",
    "\n",
    ">>>>[Adaptive Learning Rate Optimizers](#scrollTo=EYWkObzmCX3O)\n",
    "\n",
    ">>>>[Second-Order Optimizers](#scrollTo=7kKKUfFiCauT)\n",
    "\n",
    ">>>>[Special Cases](#scrollTo=2pERVyvGCeAY)\n",
    "\n",
    ">>>[Learning Rate Schedulers (torch.optim.lr_scheduler)](#scrollTo=s7O0h_V0CJ7a)\n",
    "\n",
    ">>>[Gradient Clipping](#scrollTo=QmgZBB4mDnbV)\n",
    "\n",
    ">>[PyTorch Model Training & Evaluation Workflow](#scrollTo=NdliUbW8AC3g)\n",
    "\n",
    ">>>[Define the Dataset & DataLoader](#scrollTo=Sl_wUK-hLbv7)\n",
    "\n",
    ">>>[Define the Model](#scrollTo=6bSagYArLo9U)\n",
    "\n",
    ">>>[Define Loss Function & Optimizer](#scrollTo=v5xdYRowLhLF)\n",
    "\n",
    ">>>[Training Loop](#scrollTo=jc1o_O75MF-K)\n",
    "\n",
    ">>>[Evaluation Loop (Testing)](#scrollTo=WjcCRiJAMQMG)\n",
    "\n",
    ">>>[Saving & Loading the Model](#scrollTo=kFnJ2BjsAOUS)\n",
    "\n",
    ">>>[Hyperparameter Tuning](#scrollTo=uzs8DaWIM5Zy)\n",
    "\n",
    ">[Neural Network Building Blocks](#scrollTo=JmvIheZXAlP6)\n",
    "\n"
   ]
  },
  {
   "cell_type": "markdown",
   "metadata": {
    "id": "ZkNBqnnd1TzP"
   },
   "source": [
    "# PyTorch Fundamentals"
   ]
  },
  {
   "cell_type": "markdown",
   "metadata": {
    "id": "TF9gLCFz1nSb"
   },
   "source": [
    "## PyTorch Tensors"
   ]
  },
  {
   "cell_type": "markdown",
   "metadata": {
    "id": "iJ3gaZu_1yGj"
   },
   "source": [
    "Tensors are the fundamental building blocks in PyTorch, similar to NumPy arrays but optimized for deep learning. They support GPU acceleration and automatic differentiation."
   ]
  },
  {
   "cell_type": "markdown",
   "metadata": {
    "id": "USMknpTg11dn"
   },
   "source": [
    "### Creating Tensors\n",
    "\n",
    "torch.tensor, torch.zeros,torch.ones, torch.randn"
   ]
  },
  {
   "cell_type": "code",
   "execution_count": null,
   "metadata": {
    "colab": {
     "base_uri": "https://localhost:8080/"
    },
    "id": "2nN8VZdqz3Wz",
    "outputId": "070fa0e8-e798-4f24-acd6-954c59e74d8a"
   },
   "outputs": [
    {
     "name": "stdout",
     "output_type": "stream",
     "text": [
      "tensor([[1, 2],\n",
      "        [3, 4]])\n",
      "tensor([[0., 0., 0.],\n",
      "        [0., 0., 0.],\n",
      "        [0., 0., 0.]])\n",
      "tensor([[1., 1.],\n",
      "        [1., 1.]])\n",
      "tensor([[ 1.4376,  0.9965,  0.6736],\n",
      "        [-1.3948, -2.2488,  0.9777]])\n",
      "tensor([0, 2, 4, 6, 8])\n",
      "tensor([0.0000, 0.2500, 0.5000, 0.7500, 1.0000])\n",
      "tensor([[0.3376, 0.0779, 0.5742],\n",
      "        [0.4022, 0.6995, 0.3950]])\n",
      "tensor([[-3.1888e+11,  4.5900e-41],\n",
      "        [-3.1888e+11,  4.5900e-41]])\n"
     ]
    }
   ],
   "source": [
    "import torch\n",
    "\n",
    "# tensor from a Python list\n",
    "t1 = torch.tensor([[1, 2], [3, 4]])  # Default dtype = int64\n",
    "print(t1)\n",
    "\n",
    "# tensor of zeros\n",
    "t2 = torch.zeros(3, 3)  # Shape (3x3)\n",
    "print(t2)\n",
    "\n",
    "# tensor of ones\n",
    "t3 = torch.ones(2, 2, dtype=torch.float32)  # Specify dtype\n",
    "print(t3)\n",
    "\n",
    "# with random values\n",
    "t4 = torch.randn(2, 3)  # Standard normal distribution\n",
    "print(t4)\n",
    "\n",
    "# with a specific range\n",
    "t5 = torch.arange(0, 10, 2)  # Start=0, End=10, Step=2\n",
    "print(t5)\n",
    "\n",
    "# with linearly spaced values\n",
    "t6 = torch.linspace(0, 1, steps=5)  # 5 equally spaced points between 0 and 1\n",
    "print(t6)\n",
    "\n",
    "# Random values (uniform distribution between 0 and 1)\n",
    "t7 = torch.rand(2, 3)\n",
    "print(t7)\n",
    "\n",
    "# Uninitialized tensor (contains random garbage values)\n",
    "t8 = torch.empty(2, 2)  # Shape (2x2)\n",
    "print(t8)"
   ]
  },
  {
   "cell_type": "markdown",
   "metadata": {
    "id": "koP2esq15IKG"
   },
   "source": [
    "**Creating Tensors from Lists & NumPy Arrays**"
   ]
  },
  {
   "cell_type": "code",
   "execution_count": null,
   "metadata": {
    "colab": {
     "base_uri": "https://localhost:8080/"
    },
    "id": "6H3mwuKo5Kv0",
    "outputId": "f9b7e924-6f96-4449-bc8a-918beb64ec04"
   },
   "outputs": [
    {
     "name": "stdout",
     "output_type": "stream",
     "text": [
      "tensor([[1, 2],\n",
      "        [3, 4]])\n",
      "tensor([[5, 6],\n",
      "        [7, 8]])\n",
      "[[5 6]\n",
      " [7 8]]\n"
     ]
    }
   ],
   "source": [
    "import torch\n",
    "import numpy as np\n",
    "\n",
    "# From a Python list\n",
    "py_list = [[1, 2], [3, 4]]\n",
    "t1 = torch.tensor(py_list)  # Default dtype = int64\n",
    "print(t1)\n",
    "\n",
    "# From a NumPy array\n",
    "np_array = np.array([[5, 6], [7, 8]])\n",
    "t2 = torch.tensor(np_array)  # Converts NumPy array to Tensor\n",
    "print(t2)\n",
    "\n",
    "# Converting Tensor back to NumPy\n",
    "np_converted = t2.numpy()\n",
    "print(np_converted)"
   ]
  },
  {
   "cell_type": "code",
   "execution_count": null,
   "metadata": {
    "colab": {
     "base_uri": "https://localhost:8080/"
    },
    "id": "Z_N2D5zN5aRV",
    "outputId": "56b038f4-d582-42a3-af17-0ba6548ab633"
   },
   "outputs": [
    {
     "name": "stdout",
     "output_type": "stream",
     "text": [
      "tensor([[1., 0., 0., 0.],\n",
      "        [0., 1., 0., 0.],\n",
      "        [0., 0., 1., 0.],\n",
      "        [0., 0., 0., 1.]])\n"
     ]
    }
   ],
   "source": [
    "# Identity matrix\n",
    "t5 = torch.eye(4)  # 4x4 Identity matrix\n",
    "print(t5)"
   ]
  },
  {
   "cell_type": "markdown",
   "metadata": {
    "id": "lp6SF_5_5wiS"
   },
   "source": [
    "**Creating Tensors Like Existing Tensors**"
   ]
  },
  {
   "cell_type": "code",
   "execution_count": null,
   "metadata": {
    "colab": {
     "base_uri": "https://localhost:8080/"
    },
    "id": "QbTHa00G5zMT",
    "outputId": "3b3faab6-d645-43ed-ce04-fd93303e0a90"
   },
   "outputs": [
    {
     "name": "stdout",
     "output_type": "stream",
     "text": [
      "tensor([[0, 0, 0],\n",
      "        [0, 0, 0]])\n",
      "tensor([[1, 1, 1],\n",
      "        [1, 1, 1]])\n",
      "tensor([[0.1940, 0.3619, 0.6416],\n",
      "        [0.4014, 0.1250, 0.7311]])\n"
     ]
    }
   ],
   "source": [
    "existing_tensor = torch.tensor([[1, 2, 3], [4, 5, 6]])\n",
    "\n",
    "# Create a zeros tensor with the same shape\n",
    "zeros_like = torch.zeros_like(existing_tensor)\n",
    "print(zeros_like)\n",
    "\n",
    "# Create a ones tensor with the same shape\n",
    "ones_like = torch.ones_like(existing_tensor)\n",
    "print(ones_like)\n",
    "\n",
    "# Create a random tensor with the same shape\n",
    "rand_like = torch.rand_like(existing_tensor, dtype=torch.float32)\n",
    "print(rand_like)"
   ]
  },
  {
   "cell_type": "markdown",
   "metadata": {
    "id": "2DF_lFL36AIo"
   },
   "source": [
    "### P1 - Grayscale Image processing in Tensor"
   ]
  },
  {
   "cell_type": "code",
   "execution_count": null,
   "metadata": {
    "colab": {
     "base_uri": "https://localhost:8080/",
     "height": 1000
    },
    "id": "fslT9oX_6FGY",
    "outputId": "d87c2d87-5c2f-484a-ac97-fdb786c8a9f1"
   },
   "outputs": [
    {
     "data": {
      "image/png": "[encoded data removed]",
      "text/plain": [
       "<Figure size 640x480 with 2 Axes>"
      ]
     },
     "metadata": {},
     "output_type": "display_data"
    },
    {
     "data": {
      "image/png": "[encoded data removed]",
      "text/plain": [
       "<Figure size 640x480 with 2 Axes>"
      ]
     },
     "metadata": {},
     "output_type": "display_data"
    },
    {
     "data": {
      "image/png": "[encoded data removed]",
      "text/plain": [
       "<Figure size 640x480 with 2 Axes>"
      ]
     },
     "metadata": {},
     "output_type": "display_data"
    },
    {
     "data": {
      "image/png": "[encoded data removed]",
      "text/plain": [
       "<Figure size 640x480 with 2 Axes>"
      ]
     },
     "metadata": {},
     "output_type": "display_data"
    },
    {
     "name": "stdout",
     "output_type": "stream",
     "text": [
      "True\n"
     ]
    },
    {
     "name": "stderr",
     "output_type": "stream",
     "text": [
      "<ipython-input-20-c4a62e2db6fb>:45: FutureWarning: You are using `torch.load` with `weights_only=False` (the current default value), which uses the default pickle module implicitly. It is possible to construct malicious pickle data which will execute arbitrary code during unpickling (See https://github.com/pytorch/pytorch/blob/main/SECURITY.md#untrusted-models for more details). In a future release, the default value for `weights_only` will be flipped to `True`. This limits the functions that could be executed during unpickling. Arbitrary objects will no longer be allowed to be loaded via this mode unless they are explicitly allowlisted by the user via `torch.serialization.add_safe_globals`. We recommend you start setting `weights_only=True` for any use case where you don't have full control of the loaded file. Please open an issue on GitHub for any issues related to this experimental feature.\n",
      "  loaded_image = torch.load(\"grayscale_image.pt\")\n"
     ]
    }
   ],
   "source": [
    "import torch\n",
    "import matplotlib.pyplot as plt\n",
    "\n",
    "# Create a 5x5 random grayscale image (values between 0 and 1)\n",
    "image = torch.rand(5, 5)\n",
    "\n",
    "# Display the image\n",
    "plt.imshow(image, cmap='gray')\n",
    "plt.colorbar()\n",
    "plt.title(\"Original Random Image\")\n",
    "plt.show()\n",
    "\n",
    "inverted_image = 1 - image  # Invert pixel values\n",
    "\n",
    "# Display the inverted image\n",
    "plt.imshow(inverted_image, cmap='gray')\n",
    "plt.colorbar()\n",
    "plt.title(\"Inverted Image (Negative Effect)\")\n",
    "plt.show()\n",
    "\n",
    "brightness_factor = 0.2  # Increase brightness by 20%\n",
    "bright_image = torch.clamp(image + brightness_factor, 0, 1)  # Ensure values stay in [0,1]\n",
    "\n",
    "# Display the brightened image\n",
    "plt.imshow(bright_image, cmap='gray')\n",
    "plt.colorbar()\n",
    "plt.title(\"Brightened Image\")\n",
    "plt.show()\n",
    "\n",
    "mean = image.mean()\n",
    "std = image.std()\n",
    "\n",
    "normalized_image = (image - mean) / std  # Standardization\n",
    "\n",
    "# Display the normalized image\n",
    "plt.imshow(normalized_image, cmap='gray')\n",
    "plt.colorbar()\n",
    "plt.title(\"Normalized Image\")\n",
    "plt.show()\n",
    "\n",
    "# Save the image tensor\n",
    "torch.save(image, \"grayscale_image.pt\")\n",
    "\n",
    "# Load it back\n",
    "loaded_image = torch.load(\"grayscale_image.pt\")\n",
    "\n",
    "# Verify it's the same\n",
    "print(torch.equal(image, loaded_image))  # Should print True"
   ]
  },
  {
   "cell_type": "markdown",
   "metadata": {
    "id": "OAHYaruK2Un0"
   },
   "source": [
    "### Tensor Types\n",
    "torch.float64, torch.float32, torch.float16, torch.bfloat16, torch.int32, torch.int16, torch.int64, torch.uint8, torch.bool"
   ]
  },
  {
   "cell_type": "code",
   "execution_count": null,
   "metadata": {
    "colab": {
     "base_uri": "https://localhost:8080/"
    },
    "id": "Ww4-ZZTH2Id8",
    "outputId": "ebb13136-fc94-4bd8-8dea-d58c0a776678"
   },
   "outputs": [
    {
     "name": "stdout",
     "output_type": "stream",
     "text": [
      "torch.float32\n",
      "torch.int64\n",
      "torch.bool\n",
      "torch.float32\n"
     ]
    }
   ],
   "source": [
    "t_float = torch.tensor([1.5, 2.5, 3.5], dtype=torch.float32)  # Default for float\n",
    "t_int = torch.tensor([1, 2, 3], dtype=torch.int64)  # Default for integers\n",
    "t_bool = torch.tensor([0, 1, 0, 1], dtype=torch.bool)  # Boolean tensor\n",
    "\n",
    "print(t_float.dtype)  # torch.float32\n",
    "print(t_int.dtype)    # torch.int64\n",
    "print(t_bool.dtype)   # torch.bool\n",
    "\n",
    "# Convert between data types:\n",
    "t_int_to_float = t_int.to(torch.float32)\n",
    "print(t_int_to_float.dtype)  # torch.float32"
   ]
  },
  {
   "cell_type": "markdown",
   "metadata": {
    "id": "L9NIcMsA27WM"
   },
   "source": [
    "### Tensor Shape & Reshaping\n",
    "view, reshape, permute, squeeze, unsqueeze"
   ]
  },
  {
   "cell_type": "code",
   "execution_count": null,
   "metadata": {
    "colab": {
     "base_uri": "https://localhost:8080/"
    },
    "id": "8jbUqXBn2vw_",
    "outputId": "c9895678-693f-4e18-cb7d-5db356c0ebb7"
   },
   "outputs": [
    {
     "name": "stdout",
     "output_type": "stream",
     "text": [
      "torch.Size([2, 3])\n",
      "tensor([[1, 2],\n",
      "        [3, 4],\n",
      "        [5, 6]])\n",
      "tensor([[1, 2],\n",
      "        [3, 4],\n",
      "        [5, 6]])\n",
      "torch.Size([1, 2, 3])\n",
      "tensor([[[1, 2, 3],\n",
      "         [4, 5, 6]]])\n",
      "torch.Size([2, 3])\n"
     ]
    }
   ],
   "source": [
    "t = torch.tensor([[1, 2, 3], [4, 5, 6]])\n",
    "print(t.shape)  # torch.Size([2, 3])\n",
    "\n",
    "# Reshape tensor\n",
    "t_reshaped = t.reshape(3, 2)  # Change shape\n",
    "print(t_reshaped)\n",
    "\n",
    "# Change shape using .view() (requires contiguous memory)\n",
    "t_view = t.view(3, 2)\n",
    "print(t_view)\n",
    "\n",
    "# Add or remove dimensions\n",
    "t_unsqueezed = t.unsqueeze(0)  # Add a dimension at index 0\n",
    "print(t_unsqueezed.shape)  # torch.Size([1, 2, 3])\n",
    "print(t_unsqueezed)\n",
    "\n",
    "t_squeezed = t_unsqueezed.squeeze()  # Remove extra dimensions\n",
    "print(t_squeezed.shape)  # torch.Size([2, 3])"
   ]
  },
  {
   "cell_type": "markdown",
   "metadata": {
    "id": "LTn6_B9H8g65"
   },
   "source": [
    "**To check a tensor's shape, use .shape or .size()**"
   ]
  },
  {
   "cell_type": "code",
   "execution_count": 2,
   "metadata": {
    "colab": {
     "base_uri": "https://localhost:8080/"
    },
    "id": "2niwcKnx8jp1",
    "outputId": "9a5889df-f9fc-4fc9-d76a-ece56ef2431d"
   },
   "outputs": [
    {
     "name": "stdout",
     "output_type": "stream",
     "text": [
      "torch.Size([2, 3])\n",
      "torch.Size([2, 3])\n"
     ]
    }
   ],
   "source": [
    "import torch\n",
    "\n",
    "# Create a tensor\n",
    "t = torch.tensor([[1, 2, 3], [4, 5, 6]])\n",
    "print(t.shape)  # torch.Size([2, 3])\n",
    "print(t.size())  # Also returns torch.Size([2, 3])\n"
   ]
  },
  {
   "cell_type": "markdown",
   "metadata": {
    "id": "SjYp5RAf8nKU"
   },
   "source": [
    "**Reshaping Tensors (view(), reshape())**"
   ]
  },
  {
   "cell_type": "code",
   "execution_count": null,
   "metadata": {
    "id": "rKp8M73W8qyX"
   },
   "outputs": [],
   "source": [
    "t = torch.arange(6)  # [0, 1, 2, 3, 4, 5]\n",
    "t_reshaped = t.reshape(2, 3)  # Reshape to (2x3)\n",
    "print(t_reshaped)\n",
    "\n",
    "t_view = t.view(2, 3)\n",
    "print(t_view)"
   ]
  },
  {
   "cell_type": "markdown",
   "metadata": {},
   "source": [
    ".reshape() and .transpose()"
   ]
  },
  {
   "cell_type": "code",
   "execution_count": 30,
   "metadata": {},
   "outputs": [
    {
     "name": "stdout",
     "output_type": "stream",
     "text": [
      "tensor([[1, 4],\n",
      "        [2, 5],\n",
      "        [3, 6]])\n",
      "tensor([[1, 2],\n",
      "        [3, 4],\n",
      "        [5, 6]])\n",
      "tensor([[1, 2],\n",
      "        [3, 4],\n",
      "        [5, 6]])\n"
     ]
    }
   ],
   "source": [
    "x = torch.tensor([[1, 2, 3],\n",
    "                  [4, 5, 6]])  # Shape: (2, 3)\n",
    "\n",
    "x_t = x.transpose(0, 1)        # Shape: (3, 2)\n",
    "print(x_t)\n",
    "\n",
    "x_r = x.reshape(3, 2)      # Shape: (3, 2)\n",
    "print(x_r)\n",
    "\n",
    "\n",
    "x_v = x.view(3, 2)      # Shape: (3, 2)\n",
    "print(x_v)"
   ]
  },
  {
   "cell_type": "code",
   "execution_count": 31,
   "metadata": {},
   "outputs": [
    {
     "name": "stdout",
     "output_type": "stream",
     "text": [
      "Is transposed tensor contiguous? False\n",
      "Is reshaped tensor contiguous? True\n"
     ]
    }
   ],
   "source": [
    "print(f\"Is transposed tensor contiguous? {x_t.is_contiguous()}\")\n",
    "print(f\"Is reshaped tensor contiguous? {x_r.is_contiguous()}\")"
   ]
  },
  {
   "cell_type": "markdown",
   "metadata": {},
   "source": [
    "view() is more strict, and if the tensor is not contiguous, you would need to call .contiguous() first."
   ]
  },
  {
   "cell_type": "code",
   "execution_count": 34,
   "metadata": {},
   "outputs": [
    {
     "name": "stdout",
     "output_type": "stream",
     "text": [
      "Is tensor contiguous? True\n",
      "Is transposed tensor contiguous? False\n",
      "\n",
      "Error using .view(): view size is not compatible with input tensor's size and stride (at least one dimension spans across two contiguous subspaces). Use .reshape(...) instead.\n",
      "Successfully reshaped the tensor: torch.Size([2, 3])\n"
     ]
    }
   ],
   "source": [
    "import torch\n",
    "\n",
    "# Create a tensor\n",
    "t = torch.randn(2, 3)\n",
    "\n",
    "# Check if it's contiguous\n",
    "print(f\"Is tensor contiguous? {t.is_contiguous()}\")\n",
    "\n",
    "\n",
    "# Transpose the tensor, which will make it non-contiguous\n",
    "t_transposed = t.T\n",
    "print(f\"Is transposed tensor contiguous? {t_transposed.is_contiguous()}\")\n",
    "\n",
    "# Now try using .view() (will raise an error)\n",
    "try:\n",
    "    t_view = t_transposed.view(2, 3)\n",
    "    print(f\"tensor.view(): {t_view.shape}\")\n",
    "except Exception as e:\n",
    "    print(f\"\\nError using .view(): {e}\")\n",
    "\n",
    "# To fix the non-contiguous tensor, call .contiguous() and then .view()\n",
    "t_contiguous = t_transposed.contiguous()\n",
    "\n",
    "# Now we can use .view() after making the tensor contiguous\n",
    "t_view_fixed = t_contiguous.view(2, 3)\n",
    "print(\"Successfully reshaped the tensor:\", t_view_fixed.shape)"
   ]
  },
  {
   "cell_type": "markdown",
   "metadata": {
    "id": "qv8828jE8v9a"
   },
   "source": [
    "**Changing Dimensions (unsqueeze(), squeeze())**"
   ]
  },
  {
   "cell_type": "code",
   "execution_count": 4,
   "metadata": {
    "colab": {
     "base_uri": "https://localhost:8080/"
    },
    "id": "dEH39Z-E80Um",
    "outputId": "1fa078d7-f133-4ce8-f6bf-9abd5bf35945"
   },
   "outputs": [
    {
     "name": "stdout",
     "output_type": "stream",
     "text": [
      "torch.Size([1, 3])\n",
      "tensor([[1, 2, 3]])\n",
      "torch.Size([3])\n",
      "tensor([1, 2, 3])\n"
     ]
    }
   ],
   "source": [
    "t = torch.tensor([1, 2, 3])  # Shape: (3,)\n",
    "t_unsqueezed = t.unsqueeze(0)  # Add dimension at index 0\n",
    "print(t_unsqueezed.shape)  # torch.Size([1, 3])\n",
    "print(t_unsqueezed)\n",
    "\n",
    "t = torch.tensor([[1, 2, 3]])  # Shape: (1, 3)\n",
    "t_squeezed = t.squeeze()  # Removes extra dimension\n",
    "print(t_squeezed.shape)  # torch.Size([3])\n",
    "print(t_squeezed)"
   ]
  },
  {
   "cell_type": "code",
   "execution_count": 8,
   "metadata": {},
   "outputs": [
    {
     "name": "stdout",
     "output_type": "stream",
     "text": [
      "torch.Size([1, 2, 3])\n",
      "torch.Size([2, 1, 3])\n",
      "torch.Size([2, 3, 1])\n",
      "error: Dimension out of range (expected to be in range of [-3, 2], but got 3)\n"
     ]
    }
   ],
   "source": [
    "import torch\n",
    "t = torch.randn(2,3)\n",
    "t0 = t.unsqueeze(0)\n",
    "t1 = t.unsqueeze(1)\n",
    "t2 = t.unsqueeze(2)\n",
    "\n",
    "print(t0.shape)\n",
    "print(t1.shape)\n",
    "print(t2.shape)\n",
    "\n",
    "try:\n",
    "    t3 = t.unsqueeze(3)\n",
    "except Exception as e:\n",
    "    print(f\"error: {e}\")"
   ]
  },
  {
   "cell_type": "code",
   "execution_count": 18,
   "metadata": {},
   "outputs": [
    {
     "name": "stdout",
     "output_type": "stream",
     "text": [
      "torch.Size([2, 3])\n",
      "torch.Size([2, 1, 3])\n",
      "torch.Size([2, 3])\n",
      "torch.Size([2, 1, 3])\n",
      "error: Dimension out of range (expected to be in range of [-3, 2], but got 3)\n"
     ]
    }
   ],
   "source": [
    "import torch\n",
    "t = torch.randn(2,1,3)\n",
    "t_x = t.squeeze()\n",
    "t0 = t.squeeze(0)\n",
    "t1 = t.squeeze(1)\n",
    "t2 = t.squeeze(2)\n",
    "\n",
    "print(t_x.shape)\n",
    "print(t0.shape)\n",
    "print(t1.shape)\n",
    "print(t2.shape)\n",
    "\n",
    "try:\n",
    "    t3 = t.squeeze(3)\n",
    "except Exception as e:\n",
    "    print(f\"error: {e}\")"
   ]
  },
  {
   "cell_type": "code",
   "execution_count": 19,
   "metadata": {},
   "outputs": [
    {
     "name": "stdout",
     "output_type": "stream",
     "text": [
      "torch.Size([1, 2, 1, 3])\n",
      "torch.Size([2, 3])\n",
      "torch.Size([2, 1, 3])\n",
      "torch.Size([1, 2, 1, 3])\n",
      "torch.Size([1, 2, 3])\n",
      "torch.Size([1, 2, 1, 3])\n",
      "error: Dimension out of range (expected to be in range of [-3, 2], but got 4)\n"
     ]
    }
   ],
   "source": [
    "import torch\n",
    "t = torch.randn(2,1,3)\n",
    "t_us = t.unsqueeze(0)\n",
    "\n",
    "t_x = t_us.squeeze()\n",
    "t0 = t_us.squeeze(0)\n",
    "t1 = t_us.squeeze(1)\n",
    "t2 = t_us.squeeze(2)\n",
    "t3 = t_us.squeeze(3)\n",
    "\n",
    "print(t_us.shape)\n",
    "print(t_x.shape)\n",
    "print(t0.shape)\n",
    "print(t1.shape)\n",
    "print(t2.shape)\n",
    "print(t3.shape)\n",
    "\n",
    "try:\n",
    "    t4 = t.squeeze(4)\n",
    "except Exception as e:\n",
    "    print(f\"error: {e}\")"
   ]
  },
  {
   "cell_type": "code",
   "execution_count": 22,
   "metadata": {},
   "outputs": [
    {
     "name": "stdout",
     "output_type": "stream",
     "text": [
      "torch.Size([2, 3])\n",
      "torch.Size([2, 1, 3])\n",
      "torch.Size([2, 1, 3, 1])\n",
      "torch.Size([2, 3, 1])\n",
      "error: Dimension out of range (expected to be in range of [-4, 3], but got 4)\n"
     ]
    }
   ],
   "source": [
    "import torch\n",
    "t = torch.randn(2,1,3)\n",
    "t0 = t.unsqueeze(0).squeeze()\n",
    "t1 = t.unsqueeze(0).squeeze(0)\n",
    "t2 = t.unsqueeze(3).squeeze(0)\n",
    "t3 = t.unsqueeze(3).squeeze(1)\n",
    "\n",
    "print(t0.shape)\n",
    "print(t1.shape)\n",
    "print(t2.shape)\n",
    "print(t3.shape)\n",
    "\n",
    "try:\n",
    "    t4 = t.unsqueeze(4)\n",
    "except Exception as e:\n",
    "    print(f\"error: {e}\")"
   ]
  },
  {
   "cell_type": "markdown",
   "metadata": {
    "id": "hFBRM6R_80CY"
   },
   "source": [
    "**Permuting & Transposing (permute(), transpose())**"
   ]
  },
  {
   "cell_type": "code",
   "execution_count": 5,
   "metadata": {
    "colab": {
     "base_uri": "https://localhost:8080/"
    },
    "id": "4IlyEspI88sZ",
    "outputId": "27f6f284-8b6d-4f3f-960c-263610cb23d6"
   },
   "outputs": [
    {
     "name": "stdout",
     "output_type": "stream",
     "text": [
      "torch.Size([3, 2])\n",
      "torch.Size([4, 3, 2])\n"
     ]
    }
   ],
   "source": [
    "t = torch.rand(2, 3)  # Shape: (2,3)\n",
    "t_transposed = t.transpose(0, 1)  # Swap dimensions 0 & 1\n",
    "print(t_transposed.shape)  # torch.Size([3,2])\n",
    "\n",
    "t = torch.rand(3, 2, 4)  # Shape: (3,2,4)\n",
    "t_permuted = t.permute(2, 0, 1)  # Change to (4,3,2)\n",
    "print(t_permuted.shape)  # torch.Size([4,3,2])"
   ]
  },
  {
   "cell_type": "code",
   "execution_count": 48,
   "metadata": {},
   "outputs": [
    {
     "name": "stdout",
     "output_type": "stream",
     "text": [
      "error: transpose() received an invalid combination of arguments - got (int, int, int), but expected one of:\n",
      " * (int dim0, int dim1)\n",
      " * (name dim0, name dim1)\n",
      "\n"
     ]
    }
   ],
   "source": [
    "x = torch.randn(2, 3, 4)   # Shape: (2, 3, 4)\n",
    "try:\n",
    "    x_t = x.transpose(0, 2, 1)   # try to transpose dim1, dim2\n",
    "except Exception as e:\n",
    "    print(f\"error: {e}\")"
   ]
  },
  {
   "cell_type": "code",
   "execution_count": 49,
   "metadata": {},
   "outputs": [
    {
     "name": "stdout",
     "output_type": "stream",
     "text": [
      "tensor([[[ 0.9983,  0.8829,  0.6871, -0.7019],\n",
      "         [-0.4630, -1.2919, -0.4912, -0.2266],\n",
      "         [-0.2003,  0.9069,  1.4963, -0.1375]],\n",
      "\n",
      "        [[-1.6625,  1.1777, -1.4985, -0.0494],\n",
      "         [ 0.3443, -0.1455,  0.6399,  0.3157],\n",
      "         [-0.5858,  1.3175,  0.3878, -0.9017]]])\n",
      "torch.Size([2, 4, 3])\n",
      "tensor([[[ 0.9983, -0.4630, -0.2003],\n",
      "         [ 0.8829, -1.2919,  0.9069],\n",
      "         [ 0.6871, -0.4912,  1.4963],\n",
      "         [-0.7019, -0.2266, -0.1375]],\n",
      "\n",
      "        [[-1.6625,  0.3443, -0.5858],\n",
      "         [ 1.1777, -0.1455,  1.3175],\n",
      "         [-1.4985,  0.6399,  0.3878],\n",
      "         [-0.0494,  0.3157, -0.9017]]])\n"
     ]
    }
   ],
   "source": [
    "x = torch.randn(2, 3, 4)   # Shape: (2, 3, 4)\n",
    "print(x)\n",
    "\n",
    "try:\n",
    "    x_t = x.transpose(2, 1)\n",
    "    print(x_t.shape)\n",
    "    print(x_t)\n",
    "except Exception as e:\n",
    "    print(f\"error: {e}\")"
   ]
  },
  {
   "cell_type": "code",
   "execution_count": 38,
   "metadata": {},
   "outputs": [
    {
     "name": "stdout",
     "output_type": "stream",
     "text": [
      "tensor([[[-1.3716, -0.1985,  0.1375, -1.8799],\n",
      "         [ 0.8287,  0.5453, -0.0210, -0.2245]],\n",
      "\n",
      "        [[-1.3054,  1.4226, -1.1337, -0.0585],\n",
      "         [ 0.6455, -0.6739, -1.6322,  0.5937]],\n",
      "\n",
      "        [[-0.4726,  1.0753, -0.3710, -1.6728],\n",
      "         [-0.2443,  0.2798,  0.9240,  1.1422]]])\n",
      "tensor([[[-1.3716, -0.1985,  0.1375, -1.8799],\n",
      "         [-1.3054,  1.4226, -1.1337, -0.0585]],\n",
      "\n",
      "        [[-0.4726,  1.0753, -0.3710, -1.6728],\n",
      "         [ 0.8287,  0.5453, -0.0210, -0.2245]],\n",
      "\n",
      "        [[ 0.6455, -0.6739, -1.6322,  0.5937],\n",
      "         [-0.2443,  0.2798,  0.9240,  1.1422]]])\n"
     ]
    }
   ],
   "source": [
    "x = torch.randn(2, 3, 4)   # Shape: (2, 3, 4)\n",
    "x_p = x.permute(1, 0, 2)   # Shape: (3, 2, 4)\n",
    "x_r = x.reshape(3, 2, 4)   # Shape: (3, 2, 4)\n",
    "\n",
    "print(x_p)\n",
    "print(x_r)\n",
    "\n",
    "#same then why need reshape?"
   ]
  },
  {
   "cell_type": "code",
   "execution_count": 51,
   "metadata": {},
   "outputs": [
    {
     "name": "stdout",
     "output_type": "stream",
     "text": [
      "tensor([[[ 0,  1,  2,  3],\n",
      "         [ 4,  5,  6,  7],\n",
      "         [ 8,  9, 10, 11]],\n",
      "\n",
      "        [[12, 13, 14, 15],\n",
      "         [16, 17, 18, 19],\n",
      "         [20, 21, 22, 23]]])\n",
      "error: permute(sparse_coo): number of dimensions in the tensor input does not match the length of the desired ordering of dimensions i.e. input.dim() = 1 is not equal to len(dims) = 3\n"
     ]
    }
   ],
   "source": [
    "x = torch.arange(24)       # Shape: (24,)\n",
    "x_r = x.reshape(2, 3, 4)     # Shape: (2, 3, 4)\n",
    "print(x_r)\n",
    "\n",
    "try:\n",
    "    x_p = x.permute(1, 0, 2)\n",
    "    print(x_p.shape)\n",
    "except Exception as e:\n",
    "    print(f\"error: {e}\")\n",
    "\n",
    "# then why need permute?"
   ]
  },
  {
   "cell_type": "code",
   "execution_count": 54,
   "metadata": {},
   "outputs": [
    {
     "name": "stdout",
     "output_type": "stream",
     "text": [
      "tensor([[[1, 2],\n",
      "         [3, 4]],\n",
      "\n",
      "        [[5, 6],\n",
      "         [7, 8]]])\n",
      "torch.Size([2, 2, 2])\n",
      "tensor([[[1, 3],\n",
      "         [2, 4]],\n",
      "\n",
      "        [[5, 7],\n",
      "         [6, 8]]])\n",
      "tensor([[[1, 2],\n",
      "         [3, 4]],\n",
      "\n",
      "        [[5, 6],\n",
      "         [7, 8]]])\n"
     ]
    }
   ],
   "source": [
    "x = torch.tensor([[[1, 2], [3, 4]],\n",
    "                  [[5, 6], [7, 8]]])   # Shape: (2, 2, 2)\n",
    "print(x)\n",
    "print(x.shape)\n",
    "\n",
    "# we need to swap dim1, dim2\n",
    "x_p = x.permute(0, 2, 1)\n",
    "print(x_p)\n",
    "\n",
    "x_r = x.reshape(2,2,2) #cannot\n",
    "print(x_r)\n"
   ]
  },
  {
   "cell_type": "code",
   "execution_count": 59,
   "metadata": {},
   "outputs": [
    {
     "name": "stdout",
     "output_type": "stream",
     "text": [
      "tensor([[[1, 3],\n",
      "         [2, 4]],\n",
      "\n",
      "        [[5, 7],\n",
      "         [6, 8]]])\n"
     ]
    }
   ],
   "source": [
    "x_t = x.transpose(2,1)\n",
    "print(x_t)"
   ]
  },
  {
   "cell_type": "markdown",
   "metadata": {
    "id": "tvo1QyYx8_aO"
   },
   "source": [
    "**Flattening (flatten())**"
   ]
  },
  {
   "cell_type": "code",
   "execution_count": null,
   "metadata": {
    "id": "DYc_VFOI9CKp"
   },
   "outputs": [],
   "source": [
    "t = torch.tensor([[1, 2], [3, 4]])  # Shape: (2,2)\n",
    "t_flat = t.flatten()\n",
    "print(t_flat)  # [1, 2, 3, 4]"
   ]
  },
  {
   "cell_type": "code",
   "execution_count": 72,
   "metadata": {},
   "outputs": [
    {
     "name": "stdout",
     "output_type": "stream",
     "text": [
      "tensor([[[[ 0,  1],\n",
      "          [ 2,  3],\n",
      "          [ 4,  5],\n",
      "          [ 6,  7],\n",
      "          [ 8,  9]],\n",
      "\n",
      "         [[10, 11],\n",
      "          [12, 13],\n",
      "          [14, 15],\n",
      "          [16, 17],\n",
      "          [18, 19]]],\n",
      "\n",
      "\n",
      "        [[[20, 21],\n",
      "          [22, 23],\n",
      "          [24, 25],\n",
      "          [26, 27],\n",
      "          [28, 29]],\n",
      "\n",
      "         [[30, 31],\n",
      "          [32, 33],\n",
      "          [34, 35],\n",
      "          [36, 37],\n",
      "          [38, 39]]]])\n",
      "tensor([ 0,  1,  2,  3,  4,  5,  6,  7,  8,  9, 10, 11, 12, 13, 14, 15, 16, 17,\n",
      "        18, 19, 20, 21, 22, 23, 24, 25, 26, 27, 28, 29, 30, 31, 32, 33, 34, 35,\n",
      "        36, 37, 38, 39])\n"
     ]
    }
   ],
   "source": [
    "t = torch.arange(40).view(2,2,5,2)\n",
    "print(t)\n",
    "t_flat = t.flatten()\n",
    "print(t_flat)"
   ]
  },
  {
   "cell_type": "markdown",
   "metadata": {
    "id": "_2tG7X8q-CyV"
   },
   "source": [
    "**Splitting & Merging Tensors**"
   ]
  },
  {
   "cell_type": "code",
   "execution_count": 73,
   "metadata": {},
   "outputs": [
    {
     "name": "stdout",
     "output_type": "stream",
     "text": [
      "torch.Size([8, 512])\n",
      "torch.Size([8, 512])\n"
     ]
    }
   ],
   "source": [
    "# Create a batch of 16 samples (Batch=16, Features=512)\n",
    "batch = torch.randn(16, 512)\n",
    "\n",
    "b1 = batch[:8]\n",
    "b2 = batch[8:]\n",
    "\n",
    "print(b1.shape)\n",
    "print(b2.shape)\n",
    "\n",
    "# to do this, u need to pass batch-split(8)\n",
    "# for 2 batches it is simple, what else splitting into 4, 8, 10, ...."
   ]
  },
  {
   "cell_type": "code",
   "execution_count": 74,
   "metadata": {
    "colab": {
     "base_uri": "https://localhost:8080/"
    },
    "id": "6vQDYljR-Do4",
    "outputId": "2243e254-1e2a-4079-fb44-c9377b8a03dd"
   },
   "outputs": [
    {
     "name": "stdout",
     "output_type": "stream",
     "text": [
      "torch.Size([4, 512])\n",
      "torch.Size([4, 512])\n",
      "torch.Size([4, 512])\n",
      "torch.Size([4, 512])\n"
     ]
    }
   ],
   "source": [
    "# Create a batch of 16 samples (Batch=16, Features=512)\n",
    "batch = torch.randn(16, 512)\n",
    "\n",
    "# Split\n",
    "split_batches = torch.chunk(batch, 4)  # Returns 4 tensors of shape [4, 512]\n",
    "print(split_batches[0].shape)  # torch.Size([4, 512])\n",
    "print(split_batches[1].shape)  # torch.Size([4, 512])\n",
    "print(split_batches[2].shape)  # torch.Size([4, 512])\n",
    "print(split_batches[3].shape)  # torch.Size([4, 512])"
   ]
  },
  {
   "cell_type": "code",
   "execution_count": 76,
   "metadata": {
    "colab": {
     "base_uri": "https://localhost:8080/"
    },
    "id": "O-wF4kx5kTZG",
    "outputId": "8040fca8-abaa-4769-c02e-ad221afc42c4"
   },
   "outputs": [
    {
     "name": "stdout",
     "output_type": "stream",
     "text": [
      "torch.Size([8, 512])\n",
      "torch.Size([4, 1024])\n",
      "torch.Size([4, 1024])\n"
     ]
    }
   ],
   "source": [
    "tens_merge = torch.cat((split_batches[0], split_batches[1]), 0)\n",
    "print(tens_merge.shape)  # torch.Size([8, 512])\n",
    "\n",
    "tens_merge_rev = torch.cat((split_batches[0], split_batches[1]), -1)\n",
    "print(tens_merge_rev.shape)  # torch.Size([4, 1024])\n",
    "\n",
    "\n",
    "tens_merge_dim1 = torch.cat((split_batches[0], split_batches[1]), 1)\n",
    "print(tens_merge_dim1.shape)  # torch.Size([4, 1024])"
   ]
  },
  {
   "cell_type": "markdown",
   "metadata": {
    "id": "T6RuPvEX9YIj"
   },
   "source": [
    "### P2 - Image Data Processing - Tensor Reshaping"
   ]
  },
  {
   "cell_type": "code",
   "execution_count": null,
   "metadata": {
    "id": "5FXG42FQ9hAh"
   },
   "outputs": [],
   "source": [
    "import torch\n",
    "\n",
    "# Simulate a batch of 5 grayscale images of shape (batch_size, height, width)\n",
    "batch_size = 5\n",
    "height, width = 28, 28\n",
    "images = torch.randn(batch_size, height, width)  # Random grayscale images\n",
    "print(\"Original Shape:\", images.shape)  # (5, 28, 28)\n",
    "\n",
    "\n",
    "# Add a channel dimension (from (5, 28, 28) → (5, 1, 28, 28))\n",
    "images_reshaped = images.unsqueeze(1)  # Add a new dimension at index 1\n",
    "print(\"Reshaped Shape:\", images_reshaped.shape)  # (5, 1, 28, 28)\n",
    "\n",
    "\n",
    "# Flatten each image (from (5, 1, 28, 28) → (5, 784))\n",
    "images_flattened = images_reshaped.view(batch_size, -1)\n",
    "print(\"Flattened Shape:\", images_flattened.shape)  # (5, 784)\n",
    "\n",
    "\n",
    "# Convert from (batch_size, 1, height, width) → (batch_size, height, width, channels)\n",
    "images_permuted = images_reshaped.permute(0, 2, 3, 1)  # Move channel last\n",
    "print(\"Permuted Shape:\", images_permuted.shape)  # (5, 28, 28, 1)\n"
   ]
  },
  {
   "cell_type": "code",
   "execution_count": null,
   "metadata": {
    "id": "H1-Obork-4NU"
   },
   "outputs": [],
   "source": [
    "import torchvision.transforms as transforms\n",
    "from PIL import Image\n",
    "\n",
    "# Load an image\n",
    "image_path = \"sample_image.jpg\"  # Replace with an actual image path\n",
    "image = Image.open(image_path).convert(\"L\")  # Convert to grayscale\n",
    "\n",
    "# Define transformation\n",
    "transform = transforms.Compose([\n",
    "    transforms.Resize((28, 28)),  # Resize to 28x28\n",
    "    transforms.ToTensor()  # Convert to tensor (C, H, W)\n",
    "])\n",
    "\n",
    "# Apply transformation\n",
    "image_tensor = transform(image)\n",
    "print(\"Image Shape before Unsqueeze:\", image_tensor.shape)  # (1, 28, 28)\n",
    "\n",
    "# Add batch dimension to match (batch_size, channels, height, width)\n",
    "image_tensor = image_tensor.unsqueeze(0)  # (1, 1, 28, 28)\n",
    "print(\"Final Image Shape:\", image_tensor.shape)  # (1, 1, 28, 28)"
   ]
  },
  {
   "cell_type": "markdown",
   "metadata": {
    "id": "LOn_8qJx_UD6"
   },
   "source": [
    "### Tensor Operations"
   ]
  },
  {
   "cell_type": "code",
   "execution_count": 78,
   "metadata": {
    "id": "CEFvJFex_d0E"
   },
   "outputs": [
    {
     "name": "stdout",
     "output_type": "stream",
     "text": [
      "tensor([5, 7, 9])\n",
      "tensor([-3, -3, -3])\n",
      "tensor([ 4, 10, 18])\n",
      "tensor([0.2500, 0.4000, 0.5000])\n",
      "tensor([1, 4, 9])\n"
     ]
    }
   ],
   "source": [
    "x = torch.tensor([1, 2, 3])\n",
    "y = torch.tensor([4, 5, 6])\n",
    "\n",
    "# Addition, subtraction, multiplication, division\n",
    "print(x + y)  # [5, 7, 9]\n",
    "print(x - y)  # [-3, -3, -3]\n",
    "print(x * y)  # [4, 10, 18]\n",
    "print(x / y)  # [0.25, 0.4, 0.5]\n",
    "\n",
    "# Exponentiation\n",
    "print(x ** 2)  # [1, 4, 9]\n"
   ]
  },
  {
   "cell_type": "code",
   "execution_count": 81,
   "metadata": {},
   "outputs": [
    {
     "name": "stdout",
     "output_type": "stream",
     "text": [
      "tensor([[-1.0352,  0.0978,  0.3229],\n",
      "        [ 1.6283,  0.4295,  0.1326]])\n",
      "tensor([[-0.9768,  0.9862, -0.6916],\n",
      "        [ 0.7975,  0.3079, -0.2545]]) \n",
      "\n",
      "tensor([[-2.0120,  1.0840, -0.3688],\n",
      "        [ 2.4258,  0.7374, -0.1219]])\n",
      "tensor([[-0.0583, -0.8884,  1.0145],\n",
      "        [ 0.8308,  0.1215,  0.3872]])\n",
      "tensor([[ 1.0112,  0.0964, -0.2233],\n",
      "        [ 1.2986,  0.1323, -0.0338]])\n",
      "tensor([[ 1.0597,  0.0992, -0.4668],\n",
      "        [ 2.0417,  1.3946, -0.5210]])\n",
      "tensor([[1.0716, 0.0096, 0.1042],\n",
      "        [2.6514, 0.1845, 0.0176]])\n"
     ]
    }
   ],
   "source": [
    "x = torch.randn(2, 3)\n",
    "y = torch.randn(2, 3)\n",
    "\n",
    "print(x)\n",
    "print(y,'\\n')\n",
    "\n",
    "# Addition, subtraction, multiplication, division\n",
    "print(x + y)\n",
    "print(x - y)\n",
    "print(x * y)\n",
    "print(x / y)\n",
    "\n",
    "# Exponentiation\n",
    "print(x ** 2)"
   ]
  },
  {
   "cell_type": "markdown",
   "metadata": {
    "id": "0FJTuZH5_uE5"
   },
   "source": [
    "**Reduction Operations**"
   ]
  },
  {
   "cell_type": "code",
   "execution_count": 91,
   "metadata": {
    "id": "MkuOseIX_0JK"
   },
   "outputs": [
    {
     "name": "stdout",
     "output_type": "stream",
     "text": [
      "tensor(21)\n",
      "tensor(6)\n",
      "tensor(1)\n",
      "tensor(5)\n",
      "tensor(0)\n",
      "tensor([5, 7, 9])\n",
      "tensor([ 6, 15])\n",
      "torch.int64\n",
      "error: mean(): could not infer output dtype. Input dtype must be either a floating point or complex dtype. Got: Long\n",
      "tensor(3.5000)\n",
      "tensor([2.5000, 3.5000, 4.5000])\n",
      "tensor([2., 5.])\n"
     ]
    }
   ],
   "source": [
    "A = torch.tensor([[1, 2, 3], [4, 5, 6]])\n",
    "\n",
    "# Sum of all elements\n",
    "print(torch.sum(A))  # 21\n",
    "\n",
    "# Maximum and Minimum values\n",
    "print(torch.max(A))  # 6\n",
    "print(torch.min(A))  # 1\n",
    "\n",
    "# Index of Maximum/Minimum\n",
    "print(torch.argmax(A))  # Index 5 (Flattened)\n",
    "print(torch.argmin(A))  # Index 0 (Flattened)\n",
    "\n",
    "# Row-wise or Column-wise operations\n",
    "print(torch.sum(A, dim=0))  # Sum across rows (axis 0) -> [5, 7, 9]\n",
    "print(torch.sum(A, dim=1))  # Sum across columns (axis 1) -> [6, 15]\n",
    "\n",
    "\n",
    "# Mean (average) of all elements\n",
    "try:\n",
    "    print(torch.mean(A))  # dtype is int\n",
    "except Exception as e:\n",
    "    print(f\"{A.dtype}\")\n",
    "    print(f\"error: {e}\")\n",
    "print(torch.mean(A.float()))  # 3.5\n",
    "print(torch.mean(A.float(), dim=0))\n",
    "print(torch.mean(A.float(), dim=1))"
   ]
  },
  {
   "cell_type": "markdown",
   "metadata": {
    "id": "wXeYx66s_8bX"
   },
   "source": [
    "**Linear Algebra Operations**"
   ]
  },
  {
   "cell_type": "code",
   "execution_count": 92,
   "metadata": {
    "id": "9bzLsLNt__2M"
   },
   "outputs": [
    {
     "name": "stdout",
     "output_type": "stream",
     "text": [
      "torch.Size([2, 4])\n",
      "torch.Size([2, 4])\n",
      "torch.Size([3, 2])\n",
      "tensor([[ 0.8000, -0.6000],\n",
      "        [-0.2000,  0.4000]])\n",
      "tensor(5.)\n",
      "tensor([1.+0.j, 5.+0.j])\n",
      "tensor([[-0.9487+0.j, -0.7071+0.j],\n",
      "        [ 0.3162+0.j, -0.7071+0.j]])\n"
     ]
    }
   ],
   "source": [
    "# Matrix Multiplication (Dot Product)\n",
    "A = torch.randn(2, 3)\n",
    "B = torch.randn(3, 4)\n",
    "\n",
    "C = torch.matmul(A, B)  # Preferred way\n",
    "print(C.shape)  # (2,4)\n",
    "\n",
    "# Using \"@\" operator (same as torch.matmul)\n",
    "C2 = A @ B\n",
    "print(C2.shape)  # (2,4)\n",
    "\n",
    "# Transpose\n",
    "A_T = A.T\n",
    "print(A_T.shape)  # (3,2)\n",
    "\n",
    "# Inverse (Only for square matrices)\n",
    "square_matrix = torch.tensor([[2.0, 3.0], [1.0, 4.0]])\n",
    "inverse_matrix = torch.inverse(square_matrix)\n",
    "print(inverse_matrix)\n",
    "\n",
    "# Determinant\n",
    "det = torch.det(square_matrix)\n",
    "print(det)\n",
    "\n",
    "# Eigenvalues & Eigenvectors\n",
    "eigenvalues, eigenvectors = torch.linalg.eig(square_matrix)\n",
    "print(eigenvalues)\n",
    "print(eigenvectors)"
   ]
  },
  {
   "cell_type": "markdown",
   "metadata": {
    "id": "7XfuXuFjAH-p"
   },
   "source": [
    "**Cloning & In-place Operations**"
   ]
  },
  {
   "cell_type": "code",
   "execution_count": 96,
   "metadata": {
    "id": "WdTtPqvJAKSJ"
   },
   "outputs": [
    {
     "name": "stdout",
     "output_type": "stream",
     "text": [
      "tensor([1, 2, 3])\n",
      "tensor([100,   2,   3])\n",
      "tensor([6, 7, 8])\n"
     ]
    }
   ],
   "source": [
    "x = torch.tensor([1, 2, 3])\n",
    "\n",
    "# Clone (creates a copy)\n",
    "y = x.clone()\n",
    "y[0] = 100\n",
    "print(x)  # [1, 2, 3] (unchanged)\n",
    "print(y)  # [100, 2, 3] (modified)\n",
    "\n",
    "# In-place operations (modifies the tensor directly)\n",
    "x.add_(5)\n",
    "print(x)  # [6, 7, 8]"
   ]
  },
  {
   "cell_type": "markdown",
   "metadata": {
    "id": "hJxfLSbAAXXC"
   },
   "source": [
    "**GPU Operations**"
   ]
  },
  {
   "cell_type": "code",
   "execution_count": null,
   "metadata": {
    "id": "vjoHbn96Abos"
   },
   "outputs": [],
   "source": [
    "# Check if GPU is available\n",
    "device = \"cuda\" if torch.cuda.is_available() else \"cpu\"\n",
    "\n",
    "# Move tensor to GPU\n",
    "x_gpu = x.to(device)\n",
    "print(x_gpu.device)  # cuda (if available)"
   ]
  },
  {
   "cell_type": "markdown",
   "metadata": {
    "id": "XFG6MZdn3oOB"
   },
   "source": [
    "### Tensor Broadcasting Rules"
   ]
  },
  {
   "cell_type": "markdown",
   "metadata": {
    "id": "UF1M2xqs45yt"
   },
   "source": [
    "\n",
    "* Broadcasting allows operations between tensors of different shapes by automatically expanding dimensions where necessary.\n",
    "* Smaller tensor dimensions are \"stretched\" (not copied) to match the larger tensor.\n",
    "* No new memory is allocated for broadcasting—it’s just a virtual expansion."
   ]
  },
  {
   "cell_type": "markdown",
   "metadata": {
    "id": "79-C_Dvk4zkH"
   },
   "source": [
    "Works from right to left, expanding 1s or missing dimensions."
   ]
  },
  {
   "cell_type": "code",
   "execution_count": null,
   "metadata": {
    "colab": {
     "base_uri": "https://localhost:8080/"
    },
    "id": "3hK3JXte2-YG",
    "outputId": "dbf6ce39-5ef3-4178-d97e-57b463638dc5"
   },
   "outputs": [
    {
     "name": "stdout",
     "output_type": "stream",
     "text": [
      "tensor([[5, 6, 7],\n",
      "        [6, 7, 8]])\n",
      "torch.Size([2, 3])\n"
     ]
    }
   ],
   "source": [
    "# Example 1: Basic Broadcasting\n",
    "import torch\n",
    "\n",
    "A = torch.tensor([[1, 2, 3]])   # Shape: (1, 3)\n",
    "B = torch.tensor([[4], [5]])    # Shape: (2, 1)\n",
    "\n",
    "C = A + B  # Broadcasting happens\n",
    "print(C)\n",
    "print(C.shape)  # Output: torch.Size([2, 3])"
   ]
  },
  {
   "cell_type": "markdown",
   "metadata": {
    "id": "euiGX8QN4voU"
   },
   "source": [
    "Broadcasting expands dimensions without memory overhead."
   ]
  },
  {
   "cell_type": "code",
   "execution_count": null,
   "metadata": {
    "colab": {
     "base_uri": "https://localhost:8080/"
    },
    "id": "ytkHwo7d37v0",
    "outputId": "967ca14e-ec4d-4f51-93ee-c74969bda293"
   },
   "outputs": [
    {
     "name": "stdout",
     "output_type": "stream",
     "text": [
      "tensor([[2, 3, 4],\n",
      "        [3, 4, 5],\n",
      "        [4, 5, 6]])\n",
      "torch.Size([3, 3])\n"
     ]
    }
   ],
   "source": [
    "# Example 2: Expanding a Single Dimension\n",
    "A = torch.tensor([1, 2, 3])  # Shape: (3,)\n",
    "B = torch.tensor([[1], [2], [3]])  # Shape: (3, 1)\n",
    "\n",
    "C = A + B  # Broadcasting\n",
    "print(C)\n",
    "print(C.shape)  # Output: torch.Size([3, 3])\n"
   ]
  },
  {
   "cell_type": "markdown",
   "metadata": {
    "id": "dAD8EDir42Jc"
   },
   "source": [
    "Fails when dimensions don't match & can't be expanded."
   ]
  },
  {
   "cell_type": "code",
   "execution_count": 98,
   "metadata": {
    "id": "r12jhNEp4E8c"
   },
   "outputs": [
    {
     "name": "stdout",
     "output_type": "stream",
     "text": [
      "error: The size of tensor a (2) must match the size of tensor b (3) at non-singleton dimension 1\n"
     ]
    }
   ],
   "source": [
    "# Example 3: Mismatched Dimensions (Fails)\n",
    "\n",
    "A = torch.randn(3, 2)\n",
    "B = torch.randn(3, 3)\n",
    "\n",
    "# C = A + B  # RuntimeError: The size of tensor A (2) must match the size of tensor B (3)\n",
    "try:\n",
    "    C = A+B\n",
    "except Exception as e:\n",
    "    print(f\"error: {e}\")\n"
   ]
  },
  {
   "cell_type": "code",
   "execution_count": 12,
   "metadata": {
    "colab": {
     "base_uri": "https://localhost:8080/"
    },
    "id": "EBzkFDr74RkV",
    "outputId": "219bd2f7-a038-4b23-c687-947ca98de83f"
   },
   "outputs": [
    {
     "name": "stdout",
     "output_type": "stream",
     "text": [
      "torch.Size([5, 10])\n"
     ]
    }
   ],
   "source": [
    "# Adding Bias in Neural Networks:\n",
    "X = torch.randn(5, 10)  # 5 samples, 10 features\n",
    "W = torch.rand(10)\n",
    "bias = torch.randn(10)  # 10 feature-wise biases\n",
    "\n",
    "Y = W * X + bias  # Broadcasting applies across batch\n",
    "print(Y.shape)  # (5, 10)\n"
   ]
  },
  {
   "cell_type": "code",
   "execution_count": null,
   "metadata": {
    "colab": {
     "base_uri": "https://localhost:8080/"
    },
    "id": "DNDzg6Qx4WTL",
    "outputId": "7242e99c-9d7d-4421-c2e6-c735e5fe9bb4"
   },
   "outputs": [
    {
     "name": "stdout",
     "output_type": "stream",
     "text": [
      "torch.Size([32, 3, 64, 64])\n"
     ]
    }
   ],
   "source": [
    "# Scaling Images (Batch Processing in CNNs)\n",
    "images = torch.randn(32, 3, 64, 64)  # (Batch, Channels, Height, Width)\n",
    "scale = torch.tensor([0.5, 1.0, 1.5]).view(1, 3, 1, 1)  # Shape (1, 3, 1, 1)\n",
    "\n",
    "scaled_images = images * scale  # Broadcasting scales each channel\n",
    "print(scaled_images.shape)  # (32, 3, 64, 64)"
   ]
  },
  {
   "cell_type": "markdown",
   "metadata": {
    "id": "ol1U1FOH47kI"
   },
   "source": [
    "## Device Management (CPU vs. GPU)"
   ]
  },
  {
   "cell_type": "markdown",
   "metadata": {
    "id": "DRyfzbFNDVrk"
   },
   "source": [
    "### Checking for GPU Availability"
   ]
  },
  {
   "cell_type": "markdown",
   "metadata": {
    "id": "CNbT7l5tDgDt"
   },
   "source": [
    "If CUDA is unavailable, PyTorch runs computations on the CPU by default."
   ]
  },
  {
   "cell_type": "code",
   "execution_count": 13,
   "metadata": {
    "colab": {
     "base_uri": "https://localhost:8080/"
    },
    "id": "1_55APxbDaRl",
    "outputId": "bfaa385f-edef-4ac6-89c4-07e98d159ad6"
   },
   "outputs": [
    {
     "name": "stdout",
     "output_type": "stream",
     "text": [
      "True\n",
      "1\n",
      "Tesla T4\n"
     ]
    }
   ],
   "source": [
    "import torch\n",
    "\n",
    "# Check if CUDA is available\n",
    "print(torch.cuda.is_available())  # True if a GPU is available\n",
    "\n",
    "# Get the number of available GPUs\n",
    "print(torch.cuda.device_count())\n",
    "\n",
    "# Get the name of the GPU\n",
    "if torch.cuda.is_available():\n",
    "    print(torch.cuda.get_device_name(0))  # GPU name"
   ]
  },
  {
   "cell_type": "code",
   "execution_count": 99,
   "metadata": {},
   "outputs": [
    {
     "name": "stdout",
     "output_type": "stream",
     "text": [
      "False\n",
      "0\n"
     ]
    }
   ],
   "source": [
    "import torch\n",
    "\n",
    "# Check if CUDA is available\n",
    "print(torch.cuda.is_available())  # True if a GPU is available\n",
    "\n",
    "# Get the number of available GPUs\n",
    "print(torch.cuda.device_count())"
   ]
  },
  {
   "cell_type": "markdown",
   "metadata": {
    "id": "uHwKSFjWEwkI"
   },
   "source": [
    "**Measure Execution Time on CPU vs. GPU:**"
   ]
  },
  {
   "cell_type": "code",
   "execution_count": 14,
   "metadata": {
    "colab": {
     "base_uri": "https://localhost:8080/"
    },
    "id": "R9H7shNEEzu8",
    "outputId": "358232d2-3905-48d7-fd23-ad9136de2197"
   },
   "outputs": [
    {
     "name": "stdout",
     "output_type": "stream",
     "text": [
      "CPU Time: 15.2666 sec\n",
      "GPU Time: 0.6839 sec\n"
     ]
    }
   ],
   "source": [
    "import time\n",
    "\n",
    "device = \"cuda\" if torch.cuda.is_available() else \"cpu\"\n",
    "\n",
    "# Large tensor operation\n",
    "x = torch.randn(10000, 10000)\n",
    "\n",
    "# CPU timing\n",
    "start_time = time.time()\n",
    "y = x @ x\n",
    "print(f\"CPU Time: {time.time() - start_time:.4f} sec\")\n",
    "\n",
    "# GPU timing (ensure warm-up for accurate results)\n",
    "x = x.to(device)\n",
    "torch.cuda.synchronize()  # Ensure previous ops are done\n",
    "start_time = time.time()\n",
    "y = x @ x\n",
    "torch.cuda.synchronize()  # Ensure computation finishes before timing\n",
    "print(f\"GPU Time: {time.time() - start_time:.4f} sec\")"
   ]
  },
  {
   "cell_type": "markdown",
   "metadata": {
    "id": "2B7aCPjiDj0t"
   },
   "source": [
    "### Setting the Device (CPU vs. GPU)"
   ]
  },
  {
   "cell_type": "code",
   "execution_count": 15,
   "metadata": {
    "colab": {
     "base_uri": "https://localhost:8080/"
    },
    "id": "gMpSC2vuDjjI",
    "outputId": "89fe56a8-3843-4478-fa5f-a3d6fe2a0d8a"
   },
   "outputs": [
    {
     "name": "stdout",
     "output_type": "stream",
     "text": [
      "Using device: cuda\n",
      "cuda:0\n"
     ]
    }
   ],
   "source": [
    "# Set device: Use GPU if available, else fallback to CPU\n",
    "device = \"cuda\" if torch.cuda.is_available() else \"cpu\"\n",
    "print(f\"Using device: {device}\")\n",
    "\n",
    "# Move tensor to GPU\n",
    "tensor = torch.randn(3, 3)\n",
    "tensor_gpu = tensor.to(device)  # Moves tensor to GPU\n",
    "print(tensor_gpu.device)  # Output: cuda:0 (if available)\n"
   ]
  },
  {
   "cell_type": "markdown",
   "metadata": {
    "id": "OsvJLWRpDp6K"
   },
   "source": [
    "**Alternative ways to specify devices:**"
   ]
  },
  {
   "cell_type": "code",
   "execution_count": 16,
   "metadata": {
    "id": "6FwXi_wVDUge"
   },
   "outputs": [],
   "source": [
    "tensor_gpu = tensor.cuda()   # Moves to GPU (if available)\n",
    "tensor_cpu = tensor_gpu.cpu()  # Moves back to CPU"
   ]
  },
  {
   "cell_type": "markdown",
   "metadata": {
    "id": "Eu6TFdKDDyng"
   },
   "source": [
    "### Moving Models to GPU"
   ]
  },
  {
   "cell_type": "code",
   "execution_count": 17,
   "metadata": {
    "colab": {
     "base_uri": "https://localhost:8080/"
    },
    "id": "zNfEzjqtDzyl",
    "outputId": "2bb8c572-7e1d-4210-a467-8c65d44761bb"
   },
   "outputs": [
    {
     "name": "stdout",
     "output_type": "stream",
     "text": [
      "cpu\n",
      "cuda:0\n"
     ]
    }
   ],
   "source": [
    "import torch.nn as nn\n",
    "\n",
    "# Define a simple model\n",
    "model = nn.Linear(10, 5)  # Default: on CPU\n",
    "print(next(model.parameters()).device)  # Output: cpu\n",
    "\n",
    "# Move model to GPU\n",
    "model.to(device)\n",
    "print(next(model.parameters()).device)  # Output: cuda:0 (if available)\n"
   ]
  },
  {
   "cell_type": "markdown",
   "metadata": {
    "id": "WEFRp4zfD4gc"
   },
   "source": [
    "**Best Practice:**\n",
    "\n",
    "Ensure both tensors and models are on the same device before computations."
   ]
  },
  {
   "cell_type": "code",
   "execution_count": null,
   "metadata": {
    "id": "JTHloolGD7wk"
   },
   "outputs": [],
   "source": [
    "# Forward pass (ensure input tensor is on the same device as the model)\n",
    "input_tensor = torch.randn(2, 10).to(device)\n",
    "output = model(input_tensor)  # Works correctly\n"
   ]
  },
  {
   "cell_type": "markdown",
   "metadata": {
    "id": "2WIe4A9wD_rB"
   },
   "source": [
    "### Multi-GPU Training"
   ]
  },
  {
   "cell_type": "markdown",
   "metadata": {
    "id": "0aI83MREEBTp"
   },
   "source": [
    "For training on multiple GPUs, use:\n",
    "\n",
    "1. torch.nn.DataParallel(model) (Simpler, but slower)\n",
    "2. torch.nn.parallel.DistributedDataParallel(model) (More efficient)"
   ]
  },
  {
   "cell_type": "code",
   "execution_count": null,
   "metadata": {
    "id": "0nxxztDyEA50"
   },
   "outputs": [],
   "source": [
    "if torch.cuda.device_count() > 1:\n",
    "    print(f\"Using {torch.cuda.device_count()} GPUs!\")\n",
    "    model = nn.DataParallel(model)  # Wrap model for multi-GPU use\n",
    "\n",
    "model.to(device)  # Move to GPU(s)"
   ]
  },
  {
   "cell_type": "markdown",
   "metadata": {
    "id": "CmJL6YGJEOy2"
   },
   "source": [
    "### Freeing Up GPU Memory"
   ]
  },
  {
   "cell_type": "markdown",
   "metadata": {
    "id": "ETPrHfvGETjF"
   },
   "source": [
    "If you encounter CUDA out of memory (OOM) errors, clear memory with:"
   ]
  },
  {
   "cell_type": "code",
   "execution_count": 19,
   "metadata": {
    "id": "i5Ni-wgUEPg5"
   },
   "outputs": [],
   "source": [
    "torch.cuda.empty_cache()  # Frees unused memory"
   ]
  },
  {
   "cell_type": "markdown",
   "metadata": {
    "id": "85ad0-uFEZ3k"
   },
   "source": [
    "### Memory debugging"
   ]
  },
  {
   "cell_type": "code",
   "execution_count": 20,
   "metadata": {
    "colab": {
     "base_uri": "https://localhost:8080/"
    },
    "id": "qApEaTRCEZY9",
    "outputId": "5afb718d-771b-48dd-d818-1c9c10755fed"
   },
   "outputs": [
    {
     "name": "stdout",
     "output_type": "stream",
     "text": [
      "809633280\n",
      "824180736\n"
     ]
    }
   ],
   "source": [
    "print(torch.cuda.memory_allocated())  # Check memory usage\n",
    "print(torch.cuda.memory_reserved())   # Reserved memory for future use"
   ]
  },
  {
   "cell_type": "markdown",
   "metadata": {
    "id": "FgQjZSRyxZn4"
   },
   "source": [
    "___\n",
    "___\n",
    "___"
   ]
  },
  {
   "cell_type": "markdown",
   "metadata": {
    "id": "e4XSsLJtFacn"
   },
   "source": [
    "## Autograd & Computational Graph"
   ]
  },
  {
   "cell_type": "markdown",
   "metadata": {
    "id": "d0KDQdQ7hBWS"
   },
   "source": [
    "Autograd is PyTorch's automatic differentiation engine. It dynamically builds a computational graph and calculates gradients for backpropagation."
   ]
  },
  {
   "cell_type": "markdown",
   "metadata": {
    "id": "PZBCFz6lhFEf"
   },
   "source": [
    "### What is a Computational Graph?"
   ]
  },
  {
   "cell_type": "markdown",
   "metadata": {
    "id": "9CIci8HFhJ41"
   },
   "source": [
    "A computational graph is a structure where:\n",
    "\n",
    "* Nodes represent Tensors and operations.\n",
    "* Edges represent dependencies between operations.\n",
    "\n",
    "PyTorch dynamically creates this graph at runtime (unlike TensorFlow’s static graph). - `requires_grad=True`"
   ]
  },
  {
   "cell_type": "code",
   "execution_count": null,
   "metadata": {
    "colab": {
     "base_uri": "https://localhost:8080/"
    },
    "id": "_6b5WIsRFbNh",
    "outputId": "3c54f926-3b0f-49a1-ad9d-e3c0c5ee2a93"
   },
   "outputs": [
    {
     "name": "stdout",
     "output_type": "stream",
     "text": [
      "tensor(4.)\n"
     ]
    }
   ],
   "source": [
    "x = torch.tensor(2.0, requires_grad=True)\n",
    "y = x ** 2  # y = x^2\n",
    "z = y + 3  # z = x^2 + 3\n",
    "z.backward()  # Computes dz/dx\n",
    "print(x.grad)  # Output: 4 (dz/dx = 2x = 2*2)"
   ]
  },
  {
   "cell_type": "markdown",
   "metadata": {
    "id": "ixeykDV1hQaN"
   },
   "source": [
    "    x (2.0) ---> [Square] ---> y (4.0) ---> [Add 3] ---> z (7.0)\n",
    "                                        |\n",
    "                                    backward()\n"
   ]
  },
  {
   "cell_type": "code",
   "execution_count": 16,
   "metadata": {},
   "outputs": [
    {
     "name": "stdout",
     "output_type": "stream",
     "text": [
      "tensor(4.)\n"
     ]
    }
   ],
   "source": [
    "import torch\n",
    "\n",
    "x = torch.tensor(2.0, requires_grad=True)\n",
    "y = 3\n",
    "z = x ** 2 + y**2  # z = x^2 + y**2\n",
    "try:\n",
    "    z.backward()  # Computes dz/dx\n",
    "except Exception as e:\n",
    "    print(f\"error: {e}\")\n",
    "\n",
    "print(x.grad)  # Output: 4 (dz/dx = 2x = 2*2)"
   ]
  },
  {
   "cell_type": "code",
   "execution_count": 12,
   "metadata": {},
   "outputs": [
    {
     "name": "stdout",
     "output_type": "stream",
     "text": [
      "error: 'int' object has no attribute 'grad'\n"
     ]
    }
   ],
   "source": [
    "try:\n",
    "    print(y.grad)  # no gradient, since y is not defined\n",
    "except Exception as e:\n",
    "    print(f\"error: {e}\")"
   ]
  },
  {
   "cell_type": "code",
   "execution_count": 13,
   "metadata": {},
   "outputs": [
    {
     "name": "stdout",
     "output_type": "stream",
     "text": [
      "tensor(4.)\n",
      "tensor(6.)\n"
     ]
    }
   ],
   "source": [
    "import torch\n",
    "\n",
    "x = torch.tensor(2.0, requires_grad=True)\n",
    "y = torch.tensor(3.0, requires_grad=True)\n",
    "z = x**2 + y**2  # z = x^2 + y^2\n",
    "try:\n",
    "    z.backward()  # Computes dz/dx,dz/dy\n",
    "except Exception as e:\n",
    "    print(f\"error: {e}\")\n",
    "\n",
    "print(x.grad)  # Output: 4 (dz/dx = 2x = 2*2)\n",
    "print(y.grad)  # Output: 6 (dz/dy = 2y = 2*3)"
   ]
  },
  {
   "cell_type": "code",
   "execution_count": 14,
   "metadata": {},
   "outputs": [
    {
     "name": "stdout",
     "output_type": "stream",
     "text": [
      "tensor(4.)\n",
      "None\n"
     ]
    }
   ],
   "source": [
    "import torch\n",
    "\n",
    "x = torch.tensor(2.0, requires_grad=True)\n",
    "y = torch.tensor(3.0, requires_grad=False)\n",
    "z = x**2 + y**2  # z = x^2 + y^2\n",
    "try:\n",
    "    z.backward()  # Computes dz/dx\n",
    "except Exception as e:\n",
    "    print(f\"error: {e}\")\n",
    "\n",
    "print(x.grad)  # Output: 4 (dz/dx = 2x = 2*2)\n",
    "print(y.grad)"
   ]
  },
  {
   "cell_type": "markdown",
   "metadata": {
    "id": "PQ6kiljgxXXQ"
   },
   "source": [
    "___\n",
    "___"
   ]
  },
  {
   "cell_type": "markdown",
   "metadata": {
    "id": "T5lwRKxAhi7l"
   },
   "source": [
    "### Basics of Autograd"
   ]
  },
  {
   "cell_type": "markdown",
   "metadata": {
    "id": "cAC4WxCcjDyk"
   },
   "source": [
    "Autograd is PyTorch's automatic differentiation engine.\n",
    "\n",
    "It automatically computes ***gradients*** for tensors, making it easy to train deep learning models using ***backpropagation***."
   ]
  },
  {
   "cell_type": "markdown",
   "metadata": {
    "id": "9GkTJN26heH3"
   },
   "source": [
    "✔ `requires_grad=True` → Enables gradient tracking\n",
    "\n",
    "✔ `backward()` → Computes gradients\n",
    "\n",
    "✔ `.grad` → Stores the gradient"
   ]
  },
  {
   "cell_type": "code",
   "execution_count": 37,
   "metadata": {
    "colab": {
     "base_uri": "https://localhost:8080/"
    },
    "id": "magp5fK3hRLj",
    "outputId": "50c02f7d-46be-4569-9e83-7913af5f7989"
   },
   "outputs": [
    {
     "name": "stdout",
     "output_type": "stream",
     "text": [
      "tensor(2.0200, grad_fn=<AddBackward0>)\n",
      "tensor(-0.8400)\n"
     ]
    }
   ],
   "source": [
    "x = torch.tensor(1.0, requires_grad=True)\n",
    "m = torch.tensor(2.0, requires_grad=False)\n",
    "c = torch.tensor(0.02, requires_grad=False)\n",
    "y = m*x+c                    # y = mx+c\n",
    "loss = (2.23 - y)**2          # loss: mean square error\n",
    "loss.backward()  # Compute dloss/dx\n",
    "\n",
    "print(y)\n",
    "print(x.grad)  # Output: -0.8400 = dloss/dx = - 2.(2.23 - (mx+c)).m"
   ]
  },
  {
   "cell_type": "markdown",
   "metadata": {
    "id": "pMdshc3PiLVi"
   },
   "source": [
    "✔\t`create_graph=True`  → Higher-Order Gradients"
   ]
  },
  {
   "cell_type": "code",
   "execution_count": 27,
   "metadata": {
    "colab": {
     "base_uri": "https://localhost:8080/"
    },
    "id": "_w1DS8PLiRUC",
    "outputId": "6b0ca04a-6f19-402a-9a93-aadde4e7c06b"
   },
   "outputs": [
    {
     "name": "stdout",
     "output_type": "stream",
     "text": [
      "tensor(-0.8400, grad_fn=<MulBackward0>)\n",
      "tensor(8.)\n"
     ]
    }
   ],
   "source": [
    "x = torch.tensor(1.0, requires_grad=True)\n",
    "m = torch.tensor(2.0, requires_grad=False)\n",
    "c = torch.tensor(0.02, requires_grad=False)\n",
    "y = m*x+c                    # y = mx+c\n",
    "loss = (y - 2.23)**2          # loss: mean square error\n",
    "\n",
    "grad_loss = torch.autograd.grad(loss, x, create_graph=True)[0]  # dloss/dx = 2.(2.23 - (mx+c)).m\n",
    "\n",
    "# 2nd order derivative\n",
    "grad_loss_x = torch.autograd.grad(grad_loss, x)[0]  # d²loss/d²x = -2.m.m\n",
    "\n",
    "print(grad_loss)\n",
    "print(grad_loss_x)"
   ]
  },
  {
   "cell_type": "code",
   "execution_count": 47,
   "metadata": {},
   "outputs": [
    {
     "name": "stdout",
     "output_type": "stream",
     "text": [
      "tensor(-0.8400)\n",
      "tensor(-1.6800)\n"
     ]
    }
   ],
   "source": [
    "x = torch.tensor(1.0, requires_grad=True)\n",
    "m = torch.tensor(2.0, requires_grad=False)\n",
    "c = torch.tensor(0.02, requires_grad=False)\n",
    "y = m*x+c                  # y = mx+c\n",
    "loss = (y - 2.23)**2          # loss: mean square error\n",
    "\n",
    "loss.backward(retain_graph=True)  # Compute dloss/dx\n",
    "print(x.grad)  # Output: -0.8400 = dloss/dx = 2.((mx+c)-2.23).m\n",
    "\n",
    "# retain_graph=True\n",
    "# didn't clear the gradients first!\n",
    "# accumulates gradients by default\n",
    "\n",
    "loss.backward()\n",
    "print(x.grad)  # New x.grad=−0.84(first pass)+−0.84(second pass)=−1.68"
   ]
  },
  {
   "cell_type": "markdown",
   "metadata": {},
   "source": [
    "x.grad.zero_()"
   ]
  },
  {
   "cell_type": "code",
   "execution_count": 50,
   "metadata": {},
   "outputs": [
    {
     "name": "stdout",
     "output_type": "stream",
     "text": [
      "tensor(-0.8400)\n",
      "tensor(-0.8400)\n"
     ]
    }
   ],
   "source": [
    "x = torch.tensor(1.0, requires_grad=True)\n",
    "m = torch.tensor(2.0, requires_grad=False)\n",
    "c = torch.tensor(0.02, requires_grad=False)\n",
    "y = m*x+c                  # y = mx+c\n",
    "loss = (y - 2.23)**2          # loss: mean square error\n",
    "\n",
    "loss.backward(retain_graph=True)  # Compute dloss/dx\n",
    "print(x.grad)  # Output: -0.8400 = dloss/dx = 2.((mx+c)-2.23).m\n",
    "\n",
    "# Zero Gradients to Prevent Accumulation\n",
    "x.grad.zero_()\n",
    "\n",
    "loss.backward()\n",
    "print(x.grad)  # New x.grad=−0.84(first pass)+−0.84(second pass)=−1.68"
   ]
  },
  {
   "cell_type": "markdown",
   "metadata": {
    "id": "nG9jxugmieU5"
   },
   "source": [
    "\n",
    "✔ detach() → Stops gradient tracking\n",
    "\n",
    "✔ no_grad() → Disables autograd for inference"
   ]
  },
  {
   "cell_type": "code",
   "execution_count": 29,
   "metadata": {
    "colab": {
     "base_uri": "https://localhost:8080/"
    },
    "id": "OK7OrzyliZl5",
    "outputId": "5821a79c-e590-4e7b-8cd6-1dd17e9bee02"
   },
   "outputs": [
    {
     "name": "stdout",
     "output_type": "stream",
     "text": [
      "True\n",
      "False\n"
     ]
    }
   ],
   "source": [
    "x = torch.tensor(5.0, requires_grad=True)\n",
    "y = x * 2\n",
    "print(y.requires_grad)\n",
    "\n",
    "# Detached tensor (no gradient tracking)\n",
    "y_detached = y.detach()\n",
    "print(y_detached.requires_grad)  # Output: False"
   ]
  },
  {
   "cell_type": "code",
   "execution_count": 53,
   "metadata": {},
   "outputs": [
    {
     "name": "stdout",
     "output_type": "stream",
     "text": [
      "True\n",
      "True\n",
      "False\n",
      "False\n"
     ]
    }
   ],
   "source": [
    "x = torch.tensor(5.0, requires_grad=True)\n",
    "y = x * 2\n",
    "print(y.requires_grad)\n",
    "\n",
    "# Disable autograd for inference (faster & memory efficient)\n",
    "with torch.no_grad():\n",
    "    print(y.requires_grad)\n",
    "    \n",
    "    z = x * 3\n",
    "    print(z.requires_grad)\n",
    "print(z.requires_grad)  # Output: False"
   ]
  },
  {
   "cell_type": "markdown",
   "metadata": {
    "id": "aoUCeUdixVOy"
   },
   "source": [
    "___\n",
    "___"
   ]
  },
  {
   "cell_type": "markdown",
   "metadata": {
    "id": "YlHsOOfQmFVF"
   },
   "source": [
    "### Linear Regression using Autograd"
   ]
  },
  {
   "cell_type": "markdown",
   "metadata": {
    "id": "hT7kf61PnaYz"
   },
   "source": [
    "Gradient Descent - Linear Regression parameter estimation"
   ]
  },
  {
   "cell_type": "code",
   "execution_count": null,
   "metadata": {
    "colab": {
     "base_uri": "https://localhost:8080/"
    },
    "id": "lEiFXjhRmGQ5",
    "outputId": "f4c7d8b9-b1bd-4f1e-9b99-66e43e550b4b"
   },
   "outputs": [
    {
     "name": "stdout",
     "output_type": "stream",
     "text": [
      "Epoch 100, Loss: 5.4273, w: 3.4028, b: 2.1060\n",
      "Epoch 200, Loss: 3.7175, w: 3.2144, b: 3.3828\n",
      "Epoch 300, Loss: 3.0613, w: 3.0977, b: 4.1738\n",
      "Epoch 400, Loss: 2.8095, w: 3.0254, b: 4.6638\n",
      "Epoch 500, Loss: 2.7129, w: 2.9806, b: 4.9673\n",
      "Epoch 600, Loss: 2.6758, w: 2.9528, b: 5.1554\n",
      "Epoch 700, Loss: 2.6616, w: 2.9356, b: 5.2719\n",
      "Epoch 800, Loss: 2.6561, w: 2.9250, b: 5.3440\n",
      "Epoch 900, Loss: 2.6540, w: 2.9184, b: 5.3887\n",
      "Epoch 1000, Loss: 2.6532, w: 2.9143, b: 5.4164\n",
      "\n",
      "Final Parameters: w = 2.914299964904785 , b = 5.416415214538574\n"
     ]
    }
   ],
   "source": [
    "import torch\n",
    "import torch.nn as nn\n",
    "\n",
    "# Step 1: Generate Dummy Data (y = 3x + 5)\n",
    "torch.manual_seed(42)\n",
    "X = torch.rand(100, 1) * 10  # 100 data points between 0 and 10\n",
    "y = 3 * X + 5 + torch.randn(100, 1) * 2  # Add some noise\n",
    "\n",
    "# Step 2: Initialize Parameters (Weight and Bias)\n",
    "w = torch.randn(1, requires_grad=True)  # Random initial weight\n",
    "b = torch.randn(1, requires_grad=True)  # Random initial bias\n",
    "\n",
    "# Step 3: Define Model, Loss Function, and Learning Rate\n",
    "def linear_model(X):\n",
    "    return w * X + b\n",
    "\n",
    "learning_rate = 0.01\n",
    "num_epochs = 1000\n",
    "\n",
    "# Step 4: Training Loop (Gradient Descent)\n",
    "for epoch in range(num_epochs):\n",
    "    # Forward Pass (Prediction)\n",
    "    y_pred = linear_model(X)\n",
    "\n",
    "    # Compute Loss (Mean Squared Error)\n",
    "    loss = torch.mean((y_pred - y) ** 2)\n",
    "\n",
    "    # Backward Pass (Compute Gradients)\n",
    "    loss.backward()\n",
    "\n",
    "    # Update Parameters (Gradient Descent Step)\n",
    "    with torch.no_grad():                                     # note: with torch.no_grad():\n",
    "        w -= learning_rate * w.grad\n",
    "        b -= learning_rate * b.grad\n",
    "\n",
    "    # Zero Gradients to Prevent Accumulation\n",
    "    w.grad.zero_()\n",
    "    b.grad.zero_()\n",
    "\n",
    "    # Print Progress Every 100 Epochs\n",
    "    if (epoch + 1) % 100 == 0:\n",
    "        print(f\"Epoch {epoch+1}, Loss: {loss.item():.4f}, w: {w.item():.4f}, b: {b.item():.4f}\")\n",
    "\n",
    "# Step 5: Final Parameters\n",
    "print(\"\\nFinal Parameters: w =\", w.item(), \", b =\", b.item())"
   ]
  },
  {
   "cell_type": "code",
   "execution_count": null,
   "metadata": {
    "colab": {
     "base_uri": "https://localhost:8080/",
     "height": 430
    },
    "id": "sZXSZQTFmypU",
    "outputId": "f028e15e-28c5-4578-d0be-a005ddb65249"
   },
   "outputs": [
    {
     "data": {
      "image/png": "[encoded data removed]",
      "text/plain": [
       "<Figure size 640x480 with 1 Axes>"
      ]
     },
     "metadata": {},
     "output_type": "display_data"
    }
   ],
   "source": [
    "import matplotlib.pyplot as plt\n",
    "\n",
    "plt.scatter(X.numpy(), y.numpy(), label=\"Data\")\n",
    "plt.plot(X.numpy(), linear_model(X).detach().numpy(), color=\"red\", label=\"Fitted Line\") # note: linear_model(X).detach().numpy()\n",
    "plt.legend()\n",
    "plt.show()"
   ]
  },
  {
   "cell_type": "markdown",
   "metadata": {
    "id": "vkYwylu8xQOQ"
   },
   "source": [
    "___\n",
    "___"
   ]
  },
  {
   "cell_type": "markdown",
   "metadata": {
    "id": "zth1g0xIjetN"
   },
   "source": [
    "### Gradient Accumulation"
   ]
  },
  {
   "cell_type": "markdown",
   "metadata": {
    "id": "27PJQhqMjuHD"
   },
   "source": [
    "**What is Gradient Accumulation?**\n",
    "\n",
    "Normally, gradients are computed and updated after every batch. But in gradient accumulation, we:\n",
    "\n",
    "* Accumulate gradients over multiple batches.\n",
    "* Update model weights only after accumulating over N batches instead of after every batch.\n",
    "\n",
    "For example:\n",
    "  * If your GPU can only fit batch size = 16, but you want batch size = 64:\n",
    "* You can accumulate gradients for 4 steps (16 × 4 = 64) before updating weights."
   ]
  },
  {
   "cell_type": "markdown",
   "metadata": {
    "id": "wAooVtb7kG3d"
   },
   "source": [
    "    Batch 1 → Compute Gradients → Store  \n",
    "    Batch 2 → Compute Gradients → Accumulate  \n",
    "    Batch 3 → Compute Gradients → Accumulate  \n",
    "    Batch 4 → Compute Gradients → Accumulate → Update Weights  \n",
    "    (Then reset and repeat)"
   ]
  },
  {
   "cell_type": "markdown",
   "metadata": {
    "id": "dbgS3v54pMgh"
   },
   "source": [
    "x.grad.zero_() -> Always reset gradients before backprop!"
   ]
  },
  {
   "cell_type": "code",
   "execution_count": null,
   "metadata": {
    "colab": {
     "base_uri": "https://localhost:8080/"
    },
    "id": "5VzHCipxn_eA",
    "outputId": "cf0c8e0d-222b-420d-93d3-fbb7743c921a"
   },
   "outputs": [
    {
     "name": "stdout",
     "output_type": "stream",
     "text": [
      "tensor(4.)\n",
      "tensor(8.)\n",
      "tensor(4.)\n"
     ]
    }
   ],
   "source": [
    "x = torch.tensor(2.0, requires_grad=True)\n",
    "y = x ** 2\n",
    "y.backward(retain_graph=True)\n",
    "print(x.grad)  # Output: 4   --> first batch\n",
    "\n",
    "# Calling backward again accumulates gradients\n",
    "y.backward(retain_graph=True)\n",
    "print(x.grad)  # Output: 8 (Incorrect due to accumulation). --> second batch\n",
    "\n",
    "# Always reset gradients before backprop!\n",
    "x.grad.zero_()\n",
    "y.backward()\n",
    "print(x.grad)  # Output: 4 (Correct)"
   ]
  },
  {
   "cell_type": "markdown",
   "metadata": {
    "id": "N_9ajGi8kN2i"
   },
   "source": [
    "___\n",
    "**How Does It Work?**\n",
    "\n",
    "Normally:\n",
    "\n",
    "    for batch in dataloader:\n",
    "        optimizer.zero_grad()   # Reset gradients\n",
    "        loss = model(batch)\n",
    "        loss.backward()         # Compute gradients\n",
    "        optimizer.step()        # Update weights\n",
    "\n",
    "But in gradient accumulation, we skip optimizer.step() until N iterations:\n",
    "\n",
    "    accumulation_steps = 4  # Accumulate gradients for 4 batches before update\n",
    "\n",
    "    for i, batch in enumerate(dataloader):\n",
    "        loss = model(batch)\n",
    "        loss.backward()  # Compute gradients\n",
    "        \n",
    "        if (i + 1) % accumulation_steps == 0:  # Update every N batches\n",
    "            optimizer.step()  # Update weights\n",
    "            optimizer.zero_grad()  # Reset gradients"
   ]
  },
  {
   "cell_type": "markdown",
   "metadata": {
    "id": "Mzb-Ngeslaxu"
   },
   "source": [
    "Since each weight update happens less frequently, we may need to ***scale the learning rate*** to match the new effective batch size:\n",
    "\n",
    "Rule of Thumb: Scale learning rate proportionally to the accumulation steps.\n",
    "    \n",
    "    new_lr = base_lr * accumulation_steps"
   ]
  },
  {
   "cell_type": "code",
   "execution_count": null,
   "metadata": {
    "id": "c3Aq5IT0ijJ7"
   },
   "outputs": [],
   "source": [
    "import torch\n",
    "import torch.nn as nn\n",
    "import torch.optim as optim\n",
    "\n",
    "# Dummy model\n",
    "model = nn.Linear(10, 2).cuda()\n",
    "optimizer = optim.Adam(model.parameters(), lr=1e-3)\n",
    "criterion = nn.CrossEntropyLoss()\n",
    "\n",
    "# Simulated dataloader\n",
    "dataloader = [torch.randn(16, 10).cuda() for _ in range(100)]\n",
    "accumulation_steps = 4\n",
    "\n",
    "for i, batch in enumerate(dataloader):\n",
    "    optimizer.zero_grad() if i % accumulation_steps == 0 else None  # Zero only when needed\n",
    "\n",
    "    output = model(batch)\n",
    "    loss = criterion(output, torch.randint(0, 2, (16,)).cuda())\n",
    "    loss.backward()\n",
    "\n",
    "    if (i + 1) % accumulation_steps == 0:  # Update weights every N batches\n",
    "        optimizer.step()\n",
    "        optimizer.zero_grad()"
   ]
  },
  {
   "cell_type": "markdown",
   "metadata": {
    "id": "lION5GGtk-vE"
   },
   "source": [
    "**Why Use Gradient Accumulation?**\n",
    "\n",
    "✔ Train with larger effective batch sizes (helpful for small GPUs)\n",
    "\n",
    "✔ Reduce memory consumption (avoids increasing batch size directly)\n",
    "\n",
    "✔ Improve gradient estimation stability (especially in small batch scenarios)\n",
    "___\n",
    "___"
   ]
  },
  {
   "cell_type": "markdown",
   "metadata": {
    "id": "s3ElMoyVpjWK"
   },
   "source": [
    "### torchviz - Computational Graph Analysis\n",
    "A computational graph dynamically tracks operations and dependencies. Let’s visualize it with torchviz:"
   ]
  },
  {
   "cell_type": "code",
   "execution_count": 55,
   "metadata": {
    "id": "Z-CVSMf7puCU"
   },
   "outputs": [
    {
     "name": "stdout",
     "output_type": "stream",
     "text": [
      "Collecting torchviz\n",
      "  Downloading torchviz-0.0.3-py3-none-any.whl (5.7 kB)\n",
      "Collecting graphviz\n",
      "  Downloading graphviz-0.20.3-py3-none-any.whl (47 kB)\n",
      "\u001b[2K     \u001b[90m━━━━━━━━━━━━━━━━━━━━━━━━━━━━━━━━━━━━━━━\u001b[0m \u001b[32m47.1/47.1 kB\u001b[0m \u001b[31m481.6 kB/s\u001b[0m eta \u001b[36m0:00:00\u001b[0ma \u001b[36m0:00:01\u001b[0m\n",
      "\u001b[?25hRequirement already satisfied: torch in /Users/purus15987/anaconda3/lib/python3.10/site-packages (from torchviz) (2.0.1)\n",
      "Requirement already satisfied: networkx in /Users/purus15987/anaconda3/lib/python3.10/site-packages (from torch->torchviz) (2.8.4)\n",
      "Requirement already satisfied: typing-extensions in /Users/purus15987/anaconda3/lib/python3.10/site-packages (from torch->torchviz) (4.4.0)\n",
      "Requirement already satisfied: sympy in /Users/purus15987/anaconda3/lib/python3.10/site-packages (from torch->torchviz) (1.11.1)\n",
      "Requirement already satisfied: filelock in /Users/purus15987/anaconda3/lib/python3.10/site-packages (from torch->torchviz) (3.9.0)\n",
      "Requirement already satisfied: jinja2 in /Users/purus15987/anaconda3/lib/python3.10/site-packages (from torch->torchviz) (3.1.2)\n",
      "Requirement already satisfied: MarkupSafe>=2.0 in /Users/purus15987/anaconda3/lib/python3.10/site-packages (from jinja2->torch->torchviz) (2.1.1)\n",
      "Requirement already satisfied: mpmath>=0.19 in /Users/purus15987/anaconda3/lib/python3.10/site-packages/mpmath-1.2.1-py3.10.egg (from sympy->torch->torchviz) (1.2.1)\n",
      "Installing collected packages: graphviz, torchviz\n",
      "Successfully installed graphviz-0.20.3 torchviz-0.0.3\n"
     ]
    }
   ],
   "source": [
    "!pip install torchviz"
   ]
  },
  {
   "cell_type": "code",
   "execution_count": null,
   "metadata": {
    "colab": {
     "base_uri": "https://localhost:8080/",
     "height": 36
    },
    "id": "T9cneic3kvZQ",
    "outputId": "e8949b96-d414-4139-fd2c-bb22b35e3a6d"
   },
   "outputs": [
    {
     "data": {
      "application/vnd.google.colaboratory.intrinsic+json": {
       "type": "string"
      },
      "text/plain": [
       "'computational_graph.png'"
      ]
     },
     "execution_count": 15,
     "metadata": {},
     "output_type": "execute_result"
    }
   ],
   "source": [
    "import torch\n",
    "from torchviz import make_dot\n",
    "\n",
    "x = torch.tensor(3.0, requires_grad=True)\n",
    "y = x ** 2 + 2 * x + 1  # y = x^2 + 2x + 1\n",
    "y.backward()  # Compute gradients\n",
    "\n",
    "# Visualize the computational graph\n",
    "make_dot(y, params={\"x\": x}).render(\"computational_graph\", format=\"png\")\n"
   ]
  },
  {
   "cell_type": "markdown",
   "metadata": {
    "id": "DVRZA3XFqVSW"
   },
   "source": [
    "![image.png](data:image/png;base64,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)"
   ]
  },
  {
   "cell_type": "code",
   "execution_count": null,
   "metadata": {},
   "outputs": [],
   "source": [
    "import torch\n",
    "from torchviz import make_dot\n",
    "\n",
    "x = torch.tensor(3.0, requires_grad=True)\n",
    "y = x ** 2 + 2 * x + 1  # y = x^2 + 2x + 1\n",
    "y.backward(retain_graph=True)  # Compute gradients\n",
    "y.backward()\n",
    "\n",
    "# Visualize the computational graph\n",
    "make_dot(y, params={\"x\": x}).render(\"computational_graph\", format=\"png\")"
   ]
  },
  {
   "cell_type": "markdown",
   "metadata": {},
   "source": [
    "nn.Linear()"
   ]
  },
  {
   "cell_type": "code",
   "execution_count": 104,
   "metadata": {},
   "outputs": [
    {
     "name": "stdout",
     "output_type": "stream",
     "text": [
      "weight: torch.Size([1, 5])\n",
      "bias: torch.Size([1])\n"
     ]
    }
   ],
   "source": [
    "# learn about nn.Linear(), before going futher\n",
    "\n",
    "import torch.nn as nn\n",
    "\n",
    "linear_layer = nn.Linear(5, 1)\n",
    "\n",
    "for name, param in linear_layer.named_parameters():\n",
    "    print(f\"{name}: {param.shape}\")"
   ]
  },
  {
   "cell_type": "code",
   "execution_count": 105,
   "metadata": {},
   "outputs": [
    {
     "data": {
      "text/plain": [
       "(Parameter containing:\n",
       " tensor([[ 0.4379,  0.2985,  0.2301,  0.1198, -0.1462]], requires_grad=True),\n",
       " Parameter containing:\n",
       " tensor([0.2927], requires_grad=True))"
      ]
     },
     "execution_count": 105,
     "metadata": {},
     "output_type": "execute_result"
    }
   ],
   "source": [
    "linear_layer.weight, linear_layer.bias"
   ]
  },
  {
   "cell_type": "code",
   "execution_count": 106,
   "metadata": {},
   "outputs": [
    {
     "data": {
      "text/plain": [
       "OrderedDict([('weight',\n",
       "              tensor([[ 0.4379,  0.2985,  0.2301,  0.1198, -0.1462]])),\n",
       "             ('bias', tensor([0.2927]))])"
      ]
     },
     "execution_count": 106,
     "metadata": {},
     "output_type": "execute_result"
    }
   ],
   "source": [
    "linear_layer.state_dict()"
   ]
  },
  {
   "cell_type": "code",
   "execution_count": 107,
   "metadata": {},
   "outputs": [
    {
     "name": "stdout",
     "output_type": "stream",
     "text": [
      "tensor([[ 0.0854],\n",
      "        [ 0.2197],\n",
      "        [-0.5855]], grad_fn=<AddmmBackward0>)\n"
     ]
    }
   ],
   "source": [
    "x = torch.randn(3,5) # 3 inputs, of 5 feature-size\n",
    "output1 = linear_layer.forward(x)\n",
    "print(output1)"
   ]
  },
  {
   "cell_type": "code",
   "execution_count": 108,
   "metadata": {},
   "outputs": [
    {
     "data": {
      "text/plain": [
       "(tensor([[-0.4959, -1.2066,  0.4255,  0.7083, -0.0578]]), tensor([1.]))"
      ]
     },
     "execution_count": 108,
     "metadata": {},
     "output_type": "execute_result"
    }
   ],
   "source": [
    "loss = output1.mean()\n",
    "loss.backward()\n",
    "\n",
    "linear_layer.weight.grad, linear_layer.bias.grad"
   ]
  },
  {
   "cell_type": "markdown",
   "metadata": {
    "id": "Wq0iFy2Lq-1w"
   },
   "source": [
    "### Gradient Clipping"
   ]
  },
  {
   "cell_type": "markdown",
   "metadata": {
    "id": "sxt5jRikrJKN"
   },
   "source": [
    "Exploding Gradient Issue:\n",
    "\n",
    "* Happens when gradients become too large and cause NaNs. Common issue in deep neural networks, especially RNNs, LSTMs, and deep Transformers.\n",
    "* Solution: Gradient Clipping\n",
    "___"
   ]
  },
  {
   "cell_type": "markdown",
   "metadata": {
    "id": "SxtHKKnFtMgq"
   },
   "source": [
    "Gradient Clipping limits the norm of the gradients during backpropagation to prevent them from becoming too large.\n",
    "\n",
    "* Gradient Clipping scales down large gradients before updating model parameters.\n",
    "\n",
    "* This ensures that weights don’t diverge and keeps learning stable."
   ]
  },
  {
   "cell_type": "markdown",
   "metadata": {
    "id": "Vf61n-4JtX4n"
   },
   "source": [
    "**Analogy:** Imagine training a model as driving a car.\n",
    "\n",
    "Exploding Gradients = Car speeding uncontrollably. 🚀💥\n",
    "\n",
    "Gradient Clipping = Braking to maintain control. 🚗💨"
   ]
  },
  {
   "cell_type": "code",
   "execution_count": 102,
   "metadata": {
    "colab": {
     "base_uri": "https://localhost:8080/"
    },
    "id": "tPJ-eFNzpq0z",
    "outputId": "e0e2695a-e96d-4bba-823b-89e151e1c6e1"
   },
   "outputs": [
    {
     "name": "stdout",
     "output_type": "stream",
     "text": [
      "0.weight: 0.6245344281196594\n",
      "0.bias: 0.3212537169456482\n",
      "2.weight: 2.1344456672668457\n",
      "2.bias: 1.0\n"
     ]
    }
   ],
   "source": [
    "import torch\n",
    "import torch.nn as nn\n",
    "\n",
    "# Define a simple model\n",
    "model = nn.Sequential(nn.Linear(10, 50), nn.ReLU(), nn.Linear(50, 1))\n",
    "\n",
    "# Simulate a forward pass\n",
    "inputs = torch.randn(5, 10)\n",
    "outputs = model(inputs)\n",
    "loss = outputs.mean()\n",
    "\n",
    "# Backpropagation\n",
    "loss.backward()\n",
    "\n",
    "# Print gradient norms before clipping\n",
    "for name, param in model.named_parameters():\n",
    "    print(f\"{name}: {param.grad.norm()}\")  # Might be very large\n"
   ]
  },
  {
   "cell_type": "markdown",
   "metadata": {
    "id": "Dxp_NLr6tjrp"
   },
   "source": [
    "### Types of Gradient Clipping"
   ]
  },
  {
   "cell_type": "markdown",
   "metadata": {
    "id": "tpnE678dtoII"
   },
   "source": [
    "1. **Norm-Based Gradient Clipping (Most Common)**\n",
    "\n",
    "This limits the total gradient norm to a defined threshold (max_norm).\n",
    "\n",
    "* If gradient norm exceeds max_norm, all gradients are scaled down proportionally to prevent large updates.\n",
    "\n",
    "    torch.nn.utils.clip_grad_norm_(model.parameters(), max_norm=1.0)\n"
   ]
  },
  {
   "cell_type": "code",
   "execution_count": 110,
   "metadata": {
    "colab": {
     "base_uri": "https://localhost:8080/"
    },
    "id": "xbKzypiBu-j-",
    "outputId": "ecb07d6b-6ac2-4211-832e-f7e0378d5592"
   },
   "outputs": [
    {
     "name": "stdout",
     "output_type": "stream",
     "text": [
      "tensor(2.1609)\n",
      "tensor(0.3645)\n",
      "tensor(1.8762)\n",
      "tensor(1.)\n",
      "------------------------------\n",
      "tensor(0.7077)\n",
      "tensor(0.1194)\n",
      "tensor(0.6145)\n",
      "tensor(0.3275)\n"
     ]
    }
   ],
   "source": [
    "import torch\n",
    "import torch.nn as nn\n",
    "\n",
    "# Define a simple model\n",
    "model = nn.Sequential(nn.Linear(100, 50), nn.ReLU(), nn.Linear(50, 1))\n",
    "\n",
    "# Simulate a forward pass\n",
    "inputs = torch.randn(5, 100)\n",
    "outputs = model(inputs)\n",
    "loss = outputs.mean()\n",
    "\n",
    "# Backpropagation\n",
    "loss.backward()\n",
    "\n",
    "# Print gradient norms before clipping\n",
    "for param in model.parameters():\n",
    "    print(param.grad.norm())  # Might be very large\n",
    "\n",
    "print(\"-\"*30)\n",
    "torch.nn.utils.clip_grad_norm_(model.parameters(), max_norm=1.0)\n",
    "\n",
    "# Print gradient norms after clipping\n",
    "for param in model.parameters():\n",
    "    print(param.grad.norm())  # Might be very large\n"
   ]
  },
  {
   "cell_type": "markdown",
   "metadata": {
    "id": "VU6KBDW2vWVz"
   },
   "source": [
    "___\n",
    "2. **Value-Based Gradient Clipping**\n",
    "\n",
    "This clamps each gradient to a fixed range (min, max).\n",
    "\n",
    "  * If a gradient value exceeds clip_value, it is clamped to ± clip_value.\n",
    "\n",
    "    torch.nn.utils.clip_grad_value_(model.parameters(), clip_value=0.5)"
   ]
  },
  {
   "cell_type": "code",
   "execution_count": null,
   "metadata": {
    "colab": {
     "base_uri": "https://localhost:8080/"
    },
    "id": "DZ00a6A0vTnE",
    "outputId": "c5b27fe8-6b68-4b3c-80ab-40a4e9ad7b4c"
   },
   "outputs": [
    {
     "name": "stdout",
     "output_type": "stream",
     "text": [
      "tensor(0.7902)\n",
      "tensor(0.3608)\n",
      "tensor(2.5061)\n",
      "tensor(1.)\n",
      "tensor(0.7902)\n",
      "tensor(0.3608)\n",
      "tensor(1.8735)\n",
      "tensor(0.5000)\n"
     ]
    }
   ],
   "source": [
    "import torch\n",
    "import torch.nn as nn\n",
    "\n",
    "# Define a simple model\n",
    "model = nn.Sequential(nn.Linear(10, 50), nn.ReLU(), nn.Linear(50, 1))\n",
    "\n",
    "# Simulate a forward pass\n",
    "inputs = torch.randn(5, 10)\n",
    "outputs = model(inputs)\n",
    "loss = outputs.mean()\n",
    "\n",
    "# Backpropagation\n",
    "loss.backward()\n",
    "\n",
    "\n",
    "# Print gradient norms before clipping\n",
    "for param in model.parameters():\n",
    "    print(param.grad.norm())  # Might be very large\n",
    "\n",
    "torch.nn.utils.clip_grad_value_(model.parameters(), clip_value=0.5)\n",
    "\n",
    "# Print gradient norms after clipping\n",
    "for param in model.parameters():\n",
    "    print(param.grad.norm())  # Might be less\n"
   ]
  },
  {
   "cell_type": "markdown",
   "metadata": {
    "id": "TTmb90ajwyVp"
   },
   "source": [
    "___\n",
    "Gradient Clipping is not the only solution! You can also:\n",
    "\n",
    "✔ Use Layer Normalization (nn.LayerNorm)\n",
    "\n",
    "✔ Switch to smaller learning rates\n",
    "\n",
    "✔ Use Mixed Precision Training (torch.cuda.amp)\n",
    "\n",
    "✔ Try different activation functions (ReLU > Sigmoid/Tanh for vanishing gradients)\n",
    "___"
   ]
  },
  {
   "cell_type": "markdown",
   "metadata": {
    "id": "fFYe81RFrtEt"
   },
   "source": [
    "### Autograd & Mixed Precision (AMP) - Training\n",
    "torch.cuda.amp"
   ]
  },
  {
   "cell_type": "markdown",
   "metadata": {
    "id": "lHUmIf_-r6Zd"
   },
   "source": [
    "Mixed Precision Training (AMP) allows deep learning models to train faster and use less memory by using 16-bit (float16) and 32-bit (float32) computations together. 🚀\n",
    "\n",
    "🔹 Without AMP:\n",
    "\n",
    "* All computations use float32 (higher precision, but slower).\n",
    "* Consumes more GPU memory.\n",
    "\n",
    "🔹 With AMP:\n",
    "\n",
    "* PyTorch automatically switches between float16 and float32.\n",
    "* Uses float16 for matrix multiplications (fast).\n",
    "* Uses float32 for loss scaling (prevents numerical issues).\n",
    "\n",
    "Autocasting  - torch.cuda.amp.autocast()\n",
    "\n",
    "Gradient Scaling - torch.cuda.amp.GradScaler()\n",
    "\n",
    "note: Use autocast() Only in Forward Pass"
   ]
  },
  {
   "cell_type": "code",
   "execution_count": null,
   "metadata": {
    "id": "gZbsJc75rzRm"
   },
   "outputs": [],
   "source": [
    "import torch\n",
    "import torch.nn as nn\n",
    "import torch.optim as optim\n",
    "from torchvision.models import resnet18\n",
    "\n",
    "# Load Model & Data\n",
    "model = resnet18().cuda()\n",
    "optimizer = optim.Adam(model.parameters(), lr=3e-4)\n",
    "scaler = torch.cuda.amp.GradScaler()  # Initialize AMP scaler\n",
    "loss_fn = nn.CrossEntropyLoss()\n",
    "\n",
    "# Training Loop with AMP\n",
    "for epoch in range(10):\n",
    "    for images, labels in dataloader:\n",
    "        images, labels = images.cuda(), labels.cuda()\n",
    "\n",
    "        optimizer.zero_grad()\n",
    "\n",
    "        with torch.cuda.amp.autocast():  # Enable mixed precision\n",
    "            outputs = model(images)\n",
    "            loss = loss_fn(outputs, labels)\n",
    "\n",
    "        scaler.scale(loss).backward()  # Scale loss & compute gradients\n",
    "        scaler.step(optimizer)  # Update weights\n",
    "        scaler.update()  # Adjust scaling factor\n",
    "\n",
    "print(\"Training complete!\")"
   ]
  },
  {
   "cell_type": "markdown",
   "metadata": {
    "id": "c_YGlRvi0o_9"
   },
   "source": [
    "### Gradient Checkpointing"
   ]
  },
  {
   "cell_type": "markdown",
   "metadata": {
    "id": "hYpeHbzo0tVP"
   },
   "source": [
    "Why Use Checkpointing?\n",
    "\n",
    "🔹 Reduces GPU memory usage by recomputing activations instead of storing them.\n",
    "\n",
    "🔹 Useful for deep models (e.g., Transformers, ResNets, GANs).\n",
    "\n",
    "🔹 Tradeoff → Saves memory but slightly increases computation time.\n",
    "\n",
    "Wrap expensive layers inside checkpoint() to save memory."
   ]
  },
  {
   "cell_type": "markdown",
   "metadata": {
    "id": "UggQoncu0z4g"
   },
   "source": [
    "Normal ResNet Block (High Memory Usage)\n",
    "\n",
    "    class ResNetBlock(nn.Module):\n",
    "        def __init__(self):\n",
    "            super().__init__()\n",
    "            self.conv1 = nn.Conv2d(64, 64, kernel_size=3, padding=1)\n",
    "            self.relu = nn.ReLU()\n",
    "        \n",
    "        def forward(self, x):\n",
    "            return self.relu(self.conv1(x))\n",
    "        \n",
    "Optimized ResNet Block with Checkpointing\n",
    "\n",
    "    class CheckpointedResNetBlock(nn.Module):\n",
    "        def __init__(self):\n",
    "            super().__init__()\n",
    "            self.conv1 = nn.Conv2d(64, 64, kernel_size=3, padding=1)\n",
    "            self.relu = nn.ReLU()\n",
    "        \n",
    "        def forward(self, x):\n",
    "            def custom_forward(x):\n",
    "                return self.relu(self.conv1(x))\n",
    "            \n",
    "            return checkpoint.checkpoint(custom_forward, x)"
   ]
  },
  {
   "cell_type": "markdown",
   "metadata": {
    "id": "ymJBYzel1EDZ"
   },
   "source": [
    "Checkpointing Multiple Layers\n",
    "\n",
    "    class DeepModel(nn.Module):\n",
    "        def __init__(self):\n",
    "            super().__init__()\n",
    "            self.layers = nn.Sequential(\n",
    "                nn.Linear(512, 512),\n",
    "                nn.ReLU(),\n",
    "                nn.Linear(512, 512),\n",
    "                nn.ReLU()\n",
    "            )\n",
    "\n",
    "        def forward(self, x):\n",
    "            return checkpoint.checkpoint(self.layers, x)\n",
    "\n",
    "    model = DeepModel()\n",
    "\n",
    "Slightly increases computation time (tradeoff for memory).\n",
    "\n",
    "___\n",
    "___\n",
    "___"
   ]
  },
  {
   "cell_type": "markdown",
   "metadata": {
    "id": "ae7tJSrt1bak"
   },
   "source": [
    "## Common Neural Network Layers"
   ]
  },
  {
   "cell_type": "markdown",
   "metadata": {
    "id": "HoZCkuQk2DAd"
   },
   "source": [
    "### Fully Connected (Dense) Layers\n",
    "`torch.nn.Linear(in_features, out_features, bias=True, device=None, dtype=None)`"
   ]
  },
  {
   "cell_type": "markdown",
   "metadata": {
    "id": "kvwjlpmO2JAm"
   },
   "source": [
    "* Applies a ***linear transformation***: y = Wx + b\n",
    "* Used in MLPs (Multilayer Perceptrons), the final layers of CNNs, and transformers.\n",
    "\n",
    "https://pytorch.org/docs/stable/generated/torch.nn.Linear.html"
   ]
  },
  {
   "cell_type": "markdown",
   "metadata": {
    "id": "zMR4sHh43AZF"
   },
   "source": [
    "Parameters\n",
    "* in_features (int) – size of each input sample\n",
    "* out_features (int) – size of each output sample\n",
    "* bias (bool) – If set to False, the layer will not learn an additive bias. Default: True"
   ]
  },
  {
   "cell_type": "markdown",
   "metadata": {
    "id": "lvG3Yv2C3UqQ"
   },
   "source": [
    "Variables\n",
    "weight (torch.Tensor) – the learnable weights of the module of shape\n",
    "(out_features, in_features).\n",
    "​\n",
    "\n",
    "bias – the learnable bias of the module of shape (out_features), If bias is True"
   ]
  },
  {
   "cell_type": "code",
   "execution_count": null,
   "metadata": {
    "colab": {
     "base_uri": "https://localhost:8080/"
    },
    "id": "0SRt41-U0qV0",
    "outputId": "a5f3da44-27d9-4977-e003-12f0d7ad184e"
   },
   "outputs": [
    {
     "data": {
      "text/plain": [
       "torch.Size([32, 64])"
      ]
     },
     "execution_count": 24,
     "metadata": {},
     "output_type": "execute_result"
    }
   ],
   "source": [
    "fc = torch.nn.Linear(128, 64)  # Input: 128 neurons, Output: 64 neurons\n",
    "x = torch.randn(32, 128)  # Batch of 32\n",
    "output = fc(x)\n",
    "output.shape"
   ]
  },
  {
   "cell_type": "markdown",
   "metadata": {
    "id": "HfRnmewk6-Lt"
   },
   "source": [
    "___"
   ]
  },
  {
   "cell_type": "markdown",
   "metadata": {
    "id": "3yjJrBYS7XYj"
   },
   "source": [
    "### Fully Connected (Embedding) Layer\n",
    "`torch.nn.Embedding(num_embeddings, embedding_dim)`"
   ]
  },
  {
   "cell_type": "markdown",
   "metadata": {
    "id": "iOR3C3_j7it1"
   },
   "source": [
    "* Converts categorical variables (e.g., words, user IDs) into dense vector representations.\n",
    "* Used in NLP, recommender systems."
   ]
  },
  {
   "cell_type": "code",
   "execution_count": 133,
   "metadata": {},
   "outputs": [
    {
     "name": "stdout",
     "output_type": "stream",
     "text": [
      "torch.Size([1, 1, 9, 3])\n"
     ]
    }
   ],
   "source": [
    "import torch\n",
    "import torch.nn as nn\n",
    "\n",
    "embedding = nn.Embedding(num_embeddings=10, embedding_dim=3)\n",
    "\n",
    "# Simulate input: token indices (batch of 3 tokens)\n",
    "input = torch.arange(9).unsqueeze(0).unsqueeze(0)  # Indices into the embedding matrix\n",
    "\n",
    "output = embedding(input)\n",
    "print(output.shape)  # Output: torch.Size([3, 4])"
   ]
  },
  {
   "cell_type": "code",
   "execution_count": 134,
   "metadata": {},
   "outputs": [
    {
     "data": {
      "text/plain": [
       "tensor([[[[-0.5435, -0.6112, -1.0780],\n",
       "          [ 0.3493,  0.5682, -0.1345],\n",
       "          [ 0.6968, -0.0579, -0.1116],\n",
       "          [-1.0862,  1.9477,  0.4310],\n",
       "          [ 0.7901, -0.5104,  0.2862],\n",
       "          [ 0.3049,  1.3736, -0.0413],\n",
       "          [-0.0277,  0.7431, -2.0567],\n",
       "          [-0.0849, -0.0193,  2.8115],\n",
       "          [ 1.3961,  0.4619, -0.2961]]]], grad_fn=<EmbeddingBackward0>)"
      ]
     },
     "execution_count": 134,
     "metadata": {},
     "output_type": "execute_result"
    }
   ],
   "source": [
    "output"
   ]
  },
  {
   "cell_type": "code",
   "execution_count": 135,
   "metadata": {},
   "outputs": [
    {
     "name": "stdout",
     "output_type": "stream",
     "text": [
      "torch.Size([10, 3])\n"
     ]
    },
    {
     "data": {
      "text/plain": [
       "OrderedDict([('weight',\n",
       "              tensor([[-0.5435, -0.6112, -1.0780],\n",
       "                      [ 0.3493,  0.5682, -0.1345],\n",
       "                      [ 0.6968, -0.0579, -0.1116],\n",
       "                      [-1.0862,  1.9477,  0.4310],\n",
       "                      [ 0.7901, -0.5104,  0.2862],\n",
       "                      [ 0.3049,  1.3736, -0.0413],\n",
       "                      [-0.0277,  0.7431, -2.0567],\n",
       "                      [-0.0849, -0.0193,  2.8115],\n",
       "                      [ 1.3961,  0.4619, -0.2961],\n",
       "                      [ 0.4137,  0.1304,  0.9724]]))])"
      ]
     },
     "execution_count": 135,
     "metadata": {},
     "output_type": "execute_result"
    }
   ],
   "source": [
    "print(embedding.state_dict()['weight'].shape)\n",
    "embedding.state_dict()"
   ]
  },
  {
   "cell_type": "markdown",
   "metadata": {
    "id": "nQQw5JkO38PC"
   },
   "source": [
    "### Convolutional Layers (CNNs)\n",
    "\n",
    "`torch.nn.Conv1d(in_channels, out_channels, kernel_size, stride, padding)`\n",
    "\n",
    "`torch.nn.Conv2d(in_channels, out_channels, kernel_size, stride, padding)`\n",
    "\n",
    "`torch.nn.Conv3d(in_channels, out_channels, kernel_size, stride, padding)`"
   ]
  },
  {
   "cell_type": "markdown",
   "metadata": {
    "id": "0Cr4r2Ei4D9H"
   },
   "source": [
    "* Extracts spatial patterns in data (images, time series,  audio, and 3D data.).\n",
    "* Used in image processing (CNNs), audio processing (WaveNet)."
   ]
  },
  {
   "cell_type": "markdown",
   "metadata": {
    "id": "qM2LQyvA69EX"
   },
   "source": [
    "___"
   ]
  },
  {
   "cell_type": "markdown",
   "metadata": {
    "id": "nN0Gwlkz4ZdQ"
   },
   "source": [
    "### Transposed Convolutions\n",
    "`torch.nn.ConvTranspose1d`\n",
    "\n",
    "`torch.nn.ConvTranspose2d`\n",
    "\n",
    "`torch.nn.ConvTranspose3d`"
   ]
  },
  {
   "cell_type": "markdown",
   "metadata": {
    "id": "JennTHXU46Mp"
   },
   "source": [
    "* Used in upsampling (e.g., GANs, autoencoders)."
   ]
  },
  {
   "cell_type": "markdown",
   "metadata": {
    "id": "qPnxBejz8B-b"
   },
   "source": [
    "types:\n",
    "\n",
    "Depthwise Separable Convolution (EfficientNet, MobileNet)\n",
    "    \n",
    "    torch.nn.Conv2d(groups=in_channels)\n",
    "\n",
    "Dilated Convolution (WaveNet, Semantic Segmentation)\n",
    "\n",
    "    torch.nn.Conv2d(dilation=d)\n",
    "\n",
    "Pointwise Convolution (1x1 Conv, Bottleneck Layers)\n",
    "\n",
    "    torch.nn.Conv2d(kernel_size=1)"
   ]
  },
  {
   "cell_type": "markdown",
   "metadata": {
    "id": "vPX6s_7-68A6"
   },
   "source": [
    "___"
   ]
  },
  {
   "cell_type": "markdown",
   "metadata": {
    "id": "r-LGjVGQ5M9_"
   },
   "source": [
    "### Recurrent Layers (RNNs, LSTMs, GRUs)\n",
    "\n",
    " Vanilla RNN – `torch.nn.RNN(input_size, hidden_size, num_layers)`\n",
    "\n",
    "Long Short-Term Memory (LSTM) – `torch.nn.LSTM(input_size, hidden_size, num_layers)`\n",
    "\n",
    "Gated Recurrent Unit (GRU) – `torch.nn.GRU(input_size, hidden_size, num_layers)`\n"
   ]
  },
  {
   "cell_type": "markdown",
   "metadata": {
    "id": "8wV8w-NU8-oJ"
   },
   "source": [
    "Bidirectional RNN/LSTM/GRU – `bidirectional=True`\n",
    "\n",
    "Attention Mechanism (Self-Attention, Transformer)"
   ]
  },
  {
   "cell_type": "markdown",
   "metadata": {
    "id": "gAKUz2x_665n"
   },
   "source": [
    "___"
   ]
  },
  {
   "cell_type": "markdown",
   "metadata": {
    "id": "LGgu3Z2b6S2F"
   },
   "source": [
    "### Pooling Layers\n",
    "`torch.nn.MaxPool2d(kernel_size, stride)`\n",
    "\n",
    "`torch.nn.AvgPool2d(kernel_size, stride)`\n",
    "\n",
    "`torch.nn.AdaptiveAvgPool2d(output_size)`"
   ]
  },
  {
   "cell_type": "markdown",
   "metadata": {
    "id": "tXBQeqoK6gA1"
   },
   "source": [
    "* Reduces spatial size, keeps important features. (For Downsampling)"
   ]
  },
  {
   "cell_type": "markdown",
   "metadata": {
    "id": "RKUUqyef6tNu"
   },
   "source": [
    "___"
   ]
  },
  {
   "cell_type": "markdown",
   "metadata": {
    "id": "pJesnSWo5nS5"
   },
   "source": [
    "### Normalization Layers"
   ]
  },
  {
   "cell_type": "markdown",
   "metadata": {
    "id": "00Ip6j1r5reL"
   },
   "source": [
    "`torch.nn.BatchNorm2d(num_features)`\n",
    "* Normalizes feature maps across a batch (CNNs).\n",
    "* Helps stabilize training and speed up convergence."
   ]
  },
  {
   "cell_type": "markdown",
   "metadata": {
    "id": "iq-zTmJK5ymz"
   },
   "source": [
    "`torch.nn.LayerNorm(normalized_shape)`\n",
    "\n",
    "* Normalizes across feature dimensions (used in Transformers)."
   ]
  },
  {
   "cell_type": "markdown",
   "metadata": {
    "id": "Paw2fnNE53gB"
   },
   "source": [
    "`torch.nn.InstanceNorm2d(num_features)`\n",
    "\n",
    "* Normalizes across channels per sample."
   ]
  },
  {
   "cell_type": "markdown",
   "metadata": {
    "id": "TjPcEfPs58jJ"
   },
   "source": [
    "`torch.nn.GroupNorm(num_groups, num_channels)`\n",
    "\n",
    "* A mix between BatchNorm and InstanceNorm."
   ]
  },
  {
   "cell_type": "markdown",
   "metadata": {
    "id": "RmEZnUxP7AC_"
   },
   "source": [
    "___"
   ]
  },
  {
   "cell_type": "markdown",
   "metadata": {
    "id": "-6QCkUdI8wmi"
   },
   "source": [
    "### Dropout & Regularization Layers\n",
    "\n",
    "✔ Dropout (MLPs, CNNs, RNNs) – `torch.nn.Dropout(p=0.5)`\n",
    "\n",
    "✔ Dropout2d (For CNNs, Drops Entire Feature Maps) – `torch.nn.Dropout2d(p=0.2)`\n",
    "\n",
    "✔ Alpha Dropout (For SELU Activations) – `torch.nn.AlphaDropout(p=0.5)`"
   ]
  },
  {
   "cell_type": "markdown",
   "metadata": {
    "id": "Yfpi-qrk9i2j"
   },
   "source": [
    "___"
   ]
  },
  {
   "cell_type": "markdown",
   "metadata": {
    "id": "EgUU1_Ik91nY"
   },
   "source": [
    "### Activation Layers (For Non-Linearity)"
   ]
  },
  {
   "cell_type": "markdown",
   "metadata": {
    "id": "dPPTLCa899CB"
   },
   "source": [
    "✔ ReLU (Rectified Linear Unit) – `torch.nn.ReLU()`\n",
    "\n",
    "✔ Leaky ReLU – `torch.nn.LeakyReLU(negative_slope=0.01)`\n",
    "\n",
    "✔ Parametric ReLU (PReLU) – `torch.nn.PReLU()`\n",
    "\n",
    "✔ Exponential Linear Unit (ELU) – `torch.nn.ELU()`\n",
    "\n",
    "✔ Scaled Exponential Linear Unit (SELU) – `torch.nn.SELU()`\n",
    "\n",
    "✔ Swish (Google’s Activation) – `torch.nn.SiLU()`\n",
    "\n",
    "✔ Tanh – `torch.nn.Tanh()`\n",
    "\n",
    "✔ Sigmoid – `torch.nn.Sigmoid()`\n",
    "\n",
    "✔ Softmax (For Multi-Class Classification) – `torch.nn.Softmax(dim=1)`\n",
    "\n",
    "✔ LogSoftmax (Numerically Stable Softmax) – `torch.nn.LogSoftmax(dim=1)`"
   ]
  },
  {
   "cell_type": "markdown",
   "metadata": {
    "id": "Fm0E0waP97Xy"
   },
   "source": [
    "___"
   ]
  },
  {
   "cell_type": "markdown",
   "metadata": {
    "id": "WgMoOwRl6E3d"
   },
   "source": [
    "### Custom Layers\n",
    "Inherit `torch.nn.Module` to create custom layers."
   ]
  },
  {
   "cell_type": "code",
   "execution_count": null,
   "metadata": {
    "id": "cAFWNBSS5n9G"
   },
   "outputs": [],
   "source": [
    "class CustomLayer(torch.nn.Module):\n",
    "    def __init__(self, in_features, out_features):\n",
    "        super(CustomLayer, self).__init__()\n",
    "        self.fc = torch.nn.Linear(in_features, out_features)\n",
    "\n",
    "    def forward(self, x):\n",
    "        return torch.relu(self.fc(x))\n",
    "\n",
    "layer = CustomLayer(128, 64)"
   ]
  },
  {
   "cell_type": "markdown",
   "metadata": {
    "id": "lO4FpShc7BPO"
   },
   "source": [
    "___"
   ]
  },
  {
   "cell_type": "markdown",
   "metadata": {
    "id": "fA0exUp8_1tJ"
   },
   "source": [
    "## Data Handling with Dataset & DataLoader"
   ]
  },
  {
   "cell_type": "markdown",
   "metadata": {
    "id": "uoCFnmhHp9LB"
   },
   "source": [
    "### PyTorch Dataset Overview"
   ]
  },
  {
   "cell_type": "markdown",
   "metadata": {
    "id": "6MDtizaYrea6"
   },
   "source": [
    "**Why Use Dataset?**\n",
    "* Handles *custom data loading* (CSV, images, text, etc.).\n",
    "* Supports *transformations* & *augmentations*.\n",
    "* Works with DataLoader for efficient batching.\n",
    "\n",
    "**Why Use DataLoader?**\n",
    "* Automatic *batching* of data.\n",
    "* Parallel data loading (`num_workers` for multi-threading).\n",
    "* Shuffling & sampling control (`shuffle=True`, `sampler=`)."
   ]
  },
  {
   "cell_type": "markdown",
   "metadata": {
    "id": "Qktw_2iD1Zqq"
   },
   "source": [
    "### Creating Custom Datasets"
   ]
  },
  {
   "cell_type": "markdown",
   "metadata": {
    "id": "5PJ4NmtW1rLt"
   },
   "source": [
    "We define a custom dataset using the `Dataset` class and use `DataLoader` for efficient batching."
   ]
  },
  {
   "cell_type": "markdown",
   "metadata": {
    "id": "vlma1QhH1bZ1"
   },
   "source": [
    "#### torch.utils.data.Dataset"
   ]
  },
  {
   "cell_type": "markdown",
   "metadata": {
    "id": "pSARx8yb16GO"
   },
   "source": [
    "1. **`__init__()`** – Load file paths, dataset references, etc.\n",
    "2. **`__len__()`** – Return the number of samples.\n",
    "3. **`__getitem__()`** – Fetch and return a sample."
   ]
  },
  {
   "cell_type": "markdown",
   "metadata": {
    "id": "9TykkpIw3NVQ"
   },
   "source": [
    "#### torch.utils.data.DataLoader"
   ]
  },
  {
   "cell_type": "markdown",
   "metadata": {
    "id": "gFXbhQWT3XfD"
   },
   "source": [
    "The `DataLoader` wraps around a dataset and provides:\n",
    "* Mini-batches of data\n",
    "* Shuffling for randomness\n",
    "* Parallel loading (multi-threading)\n",
    "* Custom sampling strategies"
   ]
  },
  {
   "cell_type": "markdown",
   "metadata": {
    "id": "57E2Lqko3gAW"
   },
   "source": [
    "    DataLoader(\n",
    "        dataset,\n",
    "        batch_size=32,       # Number of samples per batch\n",
    "        shuffle=True,        # Randomly shuffle dataset\n",
    "        num_workers=4,       # Use 4 worker processes for parallel loading\n",
    "        pin_memory=True,     # Optimize GPU transfers\n",
    "        drop_last=True,      # Drop last incomplete batch (if dataset size isn't a multiple of batch_size)\n",
    "        sampler=None,        # Custom sampling strategy\n",
    "        collate_fn=None      # Custom function to merge samples into a batch\n",
    "    )"
   ]
  },
  {
   "cell_type": "markdown",
   "metadata": {
    "id": "PoalfzGi2Rk-"
   },
   "source": [
    "#### PyTorch Dataset Implementation"
   ]
  },
  {
   "cell_type": "markdown",
   "metadata": {
    "id": "q6k0rd9i2de1"
   },
   "source": [
    "Example: Custom Dataset for CSV Data\n",
    "\n",
    "Let's create a dataset that loads structured data from a CSV file."
   ]
  },
  {
   "cell_type": "code",
   "execution_count": null,
   "metadata": {
    "id": "pfHp4dEH2XZj"
   },
   "outputs": [],
   "source": [
    "import torch\n",
    "import pandas as pd\n",
    "from torch.utils.data import Dataset, DataLoader\n",
    "\n",
    "class CSVDataset(Dataset):\n",
    "    def __init__(self, file_path):\n",
    "        self.data = pd.read_csv(file_path)  # Load CSV into a Pandas DataFrame\n",
    "\n",
    "    def __len__(self):\n",
    "        return len(self.data)\n",
    "\n",
    "    def __getitem__(self, idx):\n",
    "        features = torch.tensor(self.data.iloc[idx, :-1].values, dtype=torch.float32)  # Features\n",
    "        label = torch.tensor(self.data.iloc[idx, -1], dtype=torch.long)  # Label\n",
    "        return features, label\n",
    "\n",
    "# Load dataset\n",
    "dataset = CSVDataset(\"data.csv\")\n",
    "loader = DataLoader(dataset, batch_size=16, shuffle=True)\n",
    "\n",
    "# Fetch a batch\n",
    "features, labels = next(iter(loader))\n",
    "print(f\"Features shape: {features.shape}, Labels shape: {labels.shape}\")"
   ]
  },
  {
   "cell_type": "markdown",
   "metadata": {
    "id": "MgNnKzhb2Vwj"
   },
   "source": [
    "Example: Custom Image Dataset\n",
    "\n",
    "Now, let's create a dataset that loads images from a folder."
   ]
  },
  {
   "cell_type": "code",
   "execution_count": null,
   "metadata": {
    "id": "wSVzdo-02sD6"
   },
   "outputs": [],
   "source": [
    "import os\n",
    "from PIL import Image\n",
    "import torch\n",
    "import torchvision.transforms as transforms\n",
    "from torch.utils.data import Dataset, DataLoader\n",
    "\n",
    "class ImageDataset(Dataset):\n",
    "    def __init__(self, root_dir, transform=None):\n",
    "        self.root_dir = root_dir\n",
    "        self.transform = transform\n",
    "        self.image_files = os.listdir(root_dir)  # List of image filenames\n",
    "\n",
    "    def __len__(self):\n",
    "        return len(self.image_files)\n",
    "\n",
    "    def __getitem__(self, idx):\n",
    "        img_name = self.image_files[idx]\n",
    "        img_path = os.path.join(self.root_dir, img_name)\n",
    "        image = Image.open(img_path).convert(\"RGB\")  # Load image\n",
    "        label = 1 if \"dog\" in img_name else 0  # Assign label based on filename\n",
    "\n",
    "        if self.transform:\n",
    "            image = self.transform(image)\n",
    "\n",
    "        return image, torch.tensor(label, dtype=torch.long)\n",
    "\n",
    "# Define transformations\n",
    "transform = transforms.Compose([\n",
    "    transforms.Resize((128, 128)),  # Resize\n",
    "    transforms.ToTensor(),  # Convert to tensor\n",
    "    transforms.Normalize((0.5,), (0.5,))  # Normalize\n",
    "])\n",
    "\n",
    "# Create dataset & DataLoader\n",
    "dataset = ImageDataset(\"data/images\", transform=transform)\n",
    "loader = DataLoader(dataset, batch_size=8, shuffle=True)\n",
    "\n",
    "# Fetch a batch\n",
    "images, labels = next(iter(loader))\n",
    "print(f\"Image batch shape: {images.shape}, Labels: {labels}\")"
   ]
  },
  {
   "cell_type": "markdown",
   "metadata": {
    "id": "tXyEhrLY2p7B"
   },
   "source": [
    "Example: Custom Dataset for Text Data\n",
    "\n",
    "For NLP tasks, datasets often involve loading and tokenizing text."
   ]
  },
  {
   "cell_type": "code",
   "execution_count": null,
   "metadata": {
    "id": "slnOH9si20W-"
   },
   "outputs": [],
   "source": [
    "class TextDataset(Dataset):\n",
    "    def __init__(self, file_path, tokenizer, max_length=50):\n",
    "        self.samples = []\n",
    "        with open(file_path, \"r\") as f:\n",
    "            for line in f:\n",
    "                text, label = line.strip().split(\"\\t\")\n",
    "                self.samples.append((text, int(label)))  # Store as (text, label)\n",
    "        self.tokenizer = tokenizer\n",
    "        self.max_length = max_length\n",
    "\n",
    "    def __len__(self):\n",
    "        return len(self.samples)\n",
    "\n",
    "    def __getitem__(self, idx):\n",
    "        text, label = self.samples[idx]\n",
    "        encoded_text = self.tokenizer(text, padding=\"max_length\", truncation=True, max_length=self.max_length, return_tensors=\"pt\")\n",
    "        return encoded_text[\"input_ids\"].squeeze(0), torch.tensor(label, dtype=torch.long)\n",
    "\n",
    "# Use Hugging Face Tokenizer\n",
    "from transformers import AutoTokenizer\n",
    "tokenizer = AutoTokenizer.from_pretrained(\"bert-base-uncased\")\n",
    "\n",
    "# Load dataset\n",
    "dataset = TextDataset(\"data.txt\", tokenizer)\n",
    "loader = DataLoader(dataset, batch_size=4, shuffle=True)\n",
    "\n",
    "# Fetch a batch\n",
    "texts, labels = next(iter(loader))\n",
    "print(f\"Text batch shape: {texts.shape}, Labels: {labels}\")"
   ]
  },
  {
   "cell_type": "markdown",
   "metadata": {
    "id": "ux2cVUhs6GEw"
   },
   "source": [
    "Advanced: Handling Large Datasets\n",
    "\n",
    "For very large datasets (e.g., streaming logs, IoT data), we can use IterableDataset."
   ]
  },
  {
   "cell_type": "code",
   "execution_count": null,
   "metadata": {
    "id": "6Tt7Rd9j6Kfe"
   },
   "outputs": [],
   "source": [
    "class StreamDataset(torch.utils.data.IterableDataset):\n",
    "    def __init__(self, file_path):\n",
    "        self.file_path = file_path\n",
    "\n",
    "    def __iter__(self):\n",
    "        with open(self.file_path, \"r\") as f:\n",
    "            for line in f:\n",
    "                features = [float(x) for x in line.strip().split(\",\")]\n",
    "                yield torch.tensor(features, dtype=torch.float32)\n",
    "\n",
    "# Load dataset (no shuffling for IterableDataset)\n",
    "dataset = StreamDataset(\"data/large_file.csv\")\n",
    "loader = DataLoader(dataset, batch_size=32)\n",
    "\n",
    "# Fetch a batch\n",
    "batch = next(iter(loader))\n",
    "print(batch.shape)"
   ]
  },
  {
   "cell_type": "markdown",
   "metadata": {
    "id": "auI7BYQI3vrf"
   },
   "source": [
    "#### `num_workers`"
   ]
  },
  {
   "cell_type": "markdown",
   "metadata": {
    "id": "mOY_1k3W6omI"
   },
   "source": [
    " – Speed Up Data Loading"
   ]
  },
  {
   "cell_type": "code",
   "execution_count": 41,
   "metadata": {
    "colab": {
     "base_uri": "https://localhost:8080/"
    },
    "id": "HJ3kGGux3xkm",
    "outputId": "f6220e56-2948-4051-bcde-e484de2bf7c1"
   },
   "outputs": [
    {
     "name": "stdout",
     "output_type": "stream",
     "text": [
      "num_workers=0: 0.003 seconds\n",
      "num_workers=2: 0.106 seconds\n",
      "num_workers=4: 0.187 seconds\n",
      "num_workers=8: 0.259 seconds\n"
     ]
    }
   ],
   "source": [
    "import time\n",
    "import torch\n",
    "from torch.utils.data import DataLoader, TensorDataset\n",
    "\n",
    "tensor_data = torch.randn([200,300,20])\n",
    "dataset = TensorDataset(tensor_data)\n",
    "\n",
    "for workers in [0, 2, 4, 8]:\n",
    "    loader = DataLoader(dataset, batch_size=64, num_workers=workers)\n",
    "\n",
    "    start = time.time()\n",
    "    for _ in loader: pass  # Iterate through dataset\n",
    "    end = time.time()\n",
    "\n",
    "    print(f\"num_workers={workers}: {end - start:.3f} seconds\")"
   ]
  },
  {
   "cell_type": "markdown",
   "metadata": {
    "id": "RjcKbji-7W6T"
   },
   "source": [
    "#### `pin_memory`"
   ]
  },
  {
   "cell_type": "markdown",
   "metadata": {
    "id": "eIo5k1jX7ZB2"
   },
   "source": [
    "When using GPUs, pin_memory=True in DataLoader speeds up data transfer from CPU (RAM) to GPU (VRAM). It does this by allocating page-locked (pinned) memory, allowing asynchronous (non-blocking) transfers."
   ]
  },
  {
   "cell_type": "code",
   "execution_count": null,
   "metadata": {
    "id": "aLJNsemm7dqX"
   },
   "outputs": [],
   "source": [
    "loader = DataLoader(dataset, batch_size=64, pin_memory=True)\n",
    "\n",
    "for batch in loader:\n",
    "    X, y = batch\n",
    "    X, y = X.to(\"cuda\", non_blocking=True), y.to(\"cuda\", non_blocking=True)"
   ]
  },
  {
   "cell_type": "markdown",
   "metadata": {
    "id": "MCPOvbgx5ors"
   },
   "source": [
    "#### `collate_fn`"
   ]
  },
  {
   "cell_type": "markdown",
   "metadata": {
    "id": "t4CCpWJ35vLW"
   },
   "source": [
    "Handling Variable-Length Data\n",
    "\n",
    "For datasets like NLP (text sequences) or graphs, samples may have variable sizes.\n",
    "\n",
    "collate_fn helps pad or process data dynamically."
   ]
  },
  {
   "cell_type": "code",
   "execution_count": null,
   "metadata": {
    "id": "E_fqq9NU5136"
   },
   "outputs": [],
   "source": [
    "from torch.nn.utils.rnn import pad_sequence\n",
    "\n",
    "def collate_fn(batch):\n",
    "    texts, labels = zip(*batch)  # Unpack batch\n",
    "    texts = pad_sequence(texts, batch_first=True, padding_value=0)  # Pad sequences\n",
    "    labels = torch.tensor(labels)\n",
    "    return texts, labels\n",
    "\n",
    "# Create DataLoader with collate_fn\n",
    "loader = DataLoader(dataset, batch_size=4, collate_fn=collate_fn)"
   ]
  },
  {
   "cell_type": "markdown",
   "metadata": {
    "id": "cO0f07Xr6e9t"
   },
   "source": [
    "#### `drop_last`"
   ]
  },
  {
   "cell_type": "markdown",
   "metadata": {
    "id": "bvqz-00a6cIK"
   },
   "source": [
    "`drop_last` – Ensuring Consistent Batch Sizes\n",
    "\n",
    "If dataset size isn't a multiple of batch_size, the last batch may be smaller.\n",
    "Set drop_last=True to drop the last incomplete batch."
   ]
  },
  {
   "cell_type": "markdown",
   "metadata": {
    "id": "wCA5aviy6Adx"
   },
   "source": [
    "#### `IterableDataset`"
   ]
  },
  {
   "cell_type": "markdown",
   "metadata": {
    "id": "psZmiJbH69yJ"
   },
   "source": [
    "#### `DistributedSampler`"
   ]
  },
  {
   "cell_type": "markdown",
   "metadata": {
    "id": "v58ppiSu7EPs"
   },
   "source": [
    "For multi-GPU training (torch.nn.parallel.DistributedDataParallel),\n",
    "\n",
    "Use DistributedSampler to split data across GPUs."
   ]
  },
  {
   "cell_type": "code",
   "execution_count": null,
   "metadata": {
    "id": "olgPJPC87G_3"
   },
   "outputs": [],
   "source": [
    "from torch.utils.data.distributed import DistributedSampler\n",
    "\n",
    "sampler = DistributedSampler(dataset, num_replicas=4, rank=0)  # For 4 GPUs\n",
    "loader = DataLoader(dataset, batch_size=64, sampler=sampler)"
   ]
  },
  {
   "cell_type": "markdown",
   "metadata": {
    "id": "IL4OLExE8QlI"
   },
   "source": [
    "### Applying Transformations"
   ]
  },
  {
   "cell_type": "markdown",
   "metadata": {
    "id": "WSV02e2J8dup"
   },
   "source": [
    "Transformations are essential in computer vision tasks for data preprocessing and data augmentation."
   ]
  },
  {
   "cell_type": "markdown",
   "metadata": {
    "id": "EQZDAjCX8SuH"
   },
   "source": [
    "#### torchvision.transforms"
   ]
  },
  {
   "cell_type": "markdown",
   "metadata": {
    "id": "-kJn_Rvk8ygL"
   },
   "source": [
    "✔ Preprocessing – Normalize, resize, convert images to tensors.\n",
    "\n",
    "✔ Data Augmentation – Apply random transformations for better generalization.\n",
    "\n",
    "* Efficient Pipelines – Integrate directly with Dataset and DataLoader."
   ]
  },
  {
   "cell_type": "code",
   "execution_count": null,
   "metadata": {
    "id": "FyqNvZ2l82jT"
   },
   "outputs": [],
   "source": [
    "# Basic Transformations Example\n",
    "\n",
    "import torch\n",
    "import torchvision.transforms as transforms\n",
    "from PIL import Image\n",
    "\n",
    "# Define transformations\n",
    "transform = transforms.Compose([\n",
    "    transforms.Resize((128, 128)),  # Resize image to 128x128\n",
    "    transforms.ToTensor(),  # Convert to PyTorch tensor (C, H, W)\n",
    "    transforms.Normalize(mean=[0.5], std=[0.5])  # Normalize pixel values\n",
    "])\n",
    "\n",
    "# Load an image\n",
    "image = Image.open(\"data/sample.jpg\")\n",
    "transformed_image = transform(image)\n",
    "\n",
    "print(transformed_image.shape)  # Output: torch.Size([3, 128, 128])"
   ]
  },
  {
   "cell_type": "markdown",
   "metadata": {
    "id": "ksFHZ5_F9udP"
   },
   "source": [
    "#### list of some transformations available"
   ]
  },
  {
   "cell_type": "markdown",
   "metadata": {
    "id": "BajaNpAr9i22"
   },
   "source": [
    "<h4>Image Transformations</h4>\n",
    "<table border=\"1\">\n",
    "    <tr>\n",
    "        <th>Transform</th>\n",
    "        <th>Description</th>\n",
    "    </tr>\n",
    "    <tr>\n",
    "        <td><code>Compose([...])</code></td>\n",
    "        <td>Chains multiple transformations together.</td>\n",
    "    </tr>\n",
    "    <tr>\n",
    "        <td><code>ToTensor()</code></td>\n",
    "        <td>Converts a PIL image to a PyTorch tensor.</td>\n",
    "    </tr>\n",
    "    <tr>\n",
    "        <td><code>ToPILImage()</code></td>\n",
    "        <td>Converts a PyTorch tensor to a PIL image.</td>\n",
    "    </tr>\n",
    "    <tr>\n",
    "        <td><code>Resize(size)</code></td>\n",
    "        <td>Resizes the image to the given size (single int or tuple <code>(H, W)</code>).</td>\n",
    "    </tr>\n",
    "    <tr>\n",
    "        <td><code>CenterCrop(size)</code></td>\n",
    "        <td>Crops the image at the center.</td>\n",
    "    </tr>\n",
    "    <tr>\n",
    "        <td><code>RandomCrop(size)</code></td>\n",
    "        <td>Crops the image at a random location.</td>\n",
    "    </tr>\n",
    "</table>\n",
    "\n",
    "<h4>Geometric Transformations</h4>\n",
    "<table border=\"1\">\n",
    "    <tr>\n",
    "        <th>Transform</th>\n",
    "        <th>Description</th>\n",
    "    </tr>\n",
    "    <tr>\n",
    "        <td><code>RandomHorizontalFlip(p=0.5)</code></td>\n",
    "        <td>Flips the image horizontally with probability <code>p</code>.</td>\n",
    "    </tr>\n",
    "    <tr>\n",
    "        <td><code>RandomVerticalFlip(p=0.5)</code></td>\n",
    "        <td>Flips the image vertically with probability <code>p</code>.</td>\n",
    "    </tr>\n",
    "    <tr>\n",
    "        <td><code>RandomRotation(degrees)</code></td>\n",
    "        <td>Rotates the image by a random angle within the specified range.</td>\n",
    "    </tr>\n",
    "</table>\n",
    "\n",
    "<h4>Color & Intensity Transformations</h4>\n",
    "<table border=\"1\">\n",
    "    <tr>\n",
    "        <th>Transform</th>\n",
    "        <th>Description</th>\n",
    "    </tr>\n",
    "    <tr>\n",
    "        <td><code>ColorJitter(brightness=0, contrast=0, saturation=0, hue=0)</code></td>\n",
    "        <td>Randomly changes brightness, contrast, saturation, and hue.</td>\n",
    "    </tr>\n",
    "    <tr>\n",
    "        <td><code>RandomGrayscale(p=0.1)</code></td>\n",
    "        <td>Converts the image to grayscale with probability <code>p</code>.</td>\n",
    "    </tr>\n",
    "    <tr>\n",
    "        <td><code>GaussianBlur(kernel_size, sigma=(min, max))</code></td>\n",
    "        <td>Applies Gaussian blur.</td>\n",
    "    </tr>\n",
    "</table>\n",
    "\n",
    "<h4>Normalization & Tensor Transformations</h4>\n",
    "<table border=\"1\">\n",
    "    <tr>\n",
    "        <th>Transform</th>\n",
    "        <th>Description</th>\n",
    "    </tr>\n",
    "    <tr>\n",
    "        <td><code>Normalize(mean, std)</code></td>\n",
    "        <td>Normalizes pixel values using given mean and std.</td>\n",
    "    </tr>\n",
    "    <tr>\n",
    "        <td><code>Lambda(func)</code></td>\n",
    "        <td>Applies a custom function to an image or tensor.</td>\n",
    "    </tr>\n",
    "    <tr>\n",
    "        <td><code>ConvertImageDtype(dtype)</code></td>\n",
    "        <td>Converts an image tensor to the specified dtype (<code>float32</code>, <code>uint8</code>, etc.).</td>\n",
    "    </tr>\n",
    "</table>\n",
    "\n",
    "<h4>Custom Transformations</h4>\n",
    "<table border=\"1\">\n",
    "    <tr>\n",
    "        <th>Transform</th>\n",
    "        <th>Description</th>\n",
    "    </tr>\n",
    "    <tr>\n",
    "        <td><code>Lambda(lambda x: custom_function(x))</code></td>\n",
    "        <td>Defines a custom transformation using a lambda function.</td>\n",
    "    </tr>\n",
    "    <tr>\n",
    "        <td><code>Custom Class (Callable)</code></td>\n",
    "        <td>Define a Python class with <code>__call__()</code> method to create custom transformations.</td>\n",
    "    </tr>\n",
    "</table>"
   ]
  },
  {
   "cell_type": "markdown",
   "metadata": {
    "id": "IbKExtVn-0mT"
   },
   "source": [
    "#### Data Augmentation (Random Transformations)"
   ]
  },
  {
   "cell_type": "markdown",
   "metadata": {
    "id": "Wc3hj66D-2DP"
   },
   "source": [
    "Data augmentation helps prevent overfitting by applying random modifications."
   ]
  },
  {
   "cell_type": "markdown",
   "metadata": {
    "id": "cLquM_mT_Ex5"
   },
   "source": [
    "<h4>Common Augmentation Techniques</h4>\n",
    "<table border=\"1\">\n",
    "    <tr>\n",
    "        <th>Augmentation</th>\n",
    "        <th>Description</th>\n",
    "    </tr>\n",
    "    <tr>\n",
    "        <td><code>RandomHorizontalFlip(p=0.5)</code></td>\n",
    "        <td>Flip image horizontally with probability <code>p</code>.</td>\n",
    "    </tr>\n",
    "    <tr>\n",
    "        <td><code>RandomVerticalFlip(p=0.5)</code></td>\n",
    "        <td>Flip image vertically.</td>\n",
    "    </tr>\n",
    "    <tr>\n",
    "        <td><code>RandomRotation(degrees)</code></td>\n",
    "        <td>Rotate within a specified range.</td>\n",
    "    </tr>\n",
    "    <tr>\n",
    "        <td><code>ColorJitter(brightness, contrast, saturation, hue)</code></td>\n",
    "        <td>Adjust colors randomly.</td>\n",
    "    </tr>\n",
    "    <tr>\n",
    "        <td><code>RandomAffine(degrees, translate, scale, shear)</code></td>\n",
    "        <td>Apply random affine transformations.</td>\n",
    "    </tr>\n",
    "    <tr>\n",
    "        <td><code>RandomResizedCrop(size, scale=(min, max))</code></td>\n",
    "        <td>Crop & resize randomly.</td>\n",
    "    </tr>\n",
    "</table>"
   ]
  },
  {
   "cell_type": "code",
   "execution_count": null,
   "metadata": {
    "id": "C4dTSkVE-7Sj"
   },
   "outputs": [],
   "source": [
    "augment_transform = transforms.Compose([\n",
    "    transforms.RandomHorizontalFlip(p=0.5),  # Flip image horizontally with 50% probability\n",
    "    transforms.RandomRotation(degrees=30),  # Rotate randomly up to ±30 degrees\n",
    "    transforms.RandomAffine(degrees=0, translate=(0.1, 0.1)),  # Random translation\n",
    "    transforms.ToTensor()\n",
    "])\n",
    "\n",
    "image = Image.open(\"data/sample.jpg\")\n",
    "augmented_image = augment_transform(image)\n"
   ]
  },
  {
   "cell_type": "markdown",
   "metadata": {
    "id": "vK8LkMMh_jde"
   },
   "source": [
    "#### note"
   ]
  },
  {
   "cell_type": "markdown",
   "metadata": {
    "id": "8D0MqDWy_lip"
   },
   "source": [
    "For deep learning training, apply augmentation to training data but not validation data."
   ]
  },
  {
   "cell_type": "code",
   "execution_count": null,
   "metadata": {
    "id": "HACkAJj2_2OB"
   },
   "outputs": [],
   "source": [
    "train_transform = transforms.Compose([\n",
    "    transforms.RandomResizedCrop(128),\n",
    "    transforms.RandomHorizontalFlip(),\n",
    "    transforms.ToTensor(),\n",
    "    transforms.Normalize(mean=[0.5], std=[0.5])\n",
    "])\n",
    "\n",
    "val_transform = transforms.Compose([\n",
    "    transforms.Resize((128, 128)),\n",
    "    transforms.ToTensor(),\n",
    "    transforms.Normalize(mean=[0.5], std=[0.5])\n",
    "])"
   ]
  },
  {
   "cell_type": "markdown",
   "metadata": {
    "id": "U-hNRtft-IRv"
   },
   "source": [
    "#### Custom Transformations (`Lambda`, `Custom Classes`)"
   ]
  },
  {
   "cell_type": "markdown",
   "metadata": {
    "id": "F3uwdU8j-QNG"
   },
   "source": [
    "Example: Using Lambda"
   ]
  },
  {
   "cell_type": "code",
   "execution_count": null,
   "metadata": {
    "id": "oFvnMWSb-STF"
   },
   "outputs": [],
   "source": [
    "custom_transform = transforms.Compose([\n",
    "    transforms.ToTensor(),\n",
    "    transforms.Lambda(lambda x: x * 2)  # Multiply pixel values by 2\n",
    "])\n",
    "\n",
    "image = Image.open(\"data/sample.jpg\")\n",
    "transformed_image = custom_transform(image)"
   ]
  },
  {
   "cell_type": "markdown",
   "metadata": {
    "id": "Nv3OFe_Z-UT5"
   },
   "source": [
    "Example: Custom Class"
   ]
  },
  {
   "cell_type": "code",
   "execution_count": null,
   "metadata": {
    "id": "vUhbGZj--V7X"
   },
   "outputs": [],
   "source": [
    "class CustomAugmentation:\n",
    "    def __call__(self, img):\n",
    "        return img.rotate(45)  # Rotate every image by 45 degrees\n",
    "\n",
    "custom_transform = transforms.Compose([\n",
    "    transforms.ToTensor(),\n",
    "    CustomAugmentation()\n",
    "])\n",
    "\n",
    "image = Image.open(\"data/sample.jpg\")\n",
    "transformed_image = custom_transform(image)"
   ]
  },
  {
   "cell_type": "markdown",
   "metadata": {
    "id": "mBGhGZ7m-bl6"
   },
   "source": [
    "#### Applying Transforms in Dataset Class"
   ]
  },
  {
   "cell_type": "code",
   "execution_count": null,
   "metadata": {
    "id": "b3uXDRBa-fPe"
   },
   "outputs": [],
   "source": [
    "from torch.utils.data import Dataset\n",
    "import os\n",
    "\n",
    "class ImageDataset(Dataset):\n",
    "    def __init__(self, root_dir, transform=None):\n",
    "        self.root_dir = root_dir\n",
    "        self.transform = transform\n",
    "        self.image_files = os.listdir(root_dir)\n",
    "\n",
    "    def __len__(self):\n",
    "        return len(self.image_files)\n",
    "\n",
    "    def __getitem__(self, idx):\n",
    "        img_name = self.image_files[idx]\n",
    "        img_path = os.path.join(self.root_dir, img_name)\n",
    "        image = Image.open(img_path)\n",
    "\n",
    "        if self.transform:\n",
    "            image = self.transform(image)\n",
    "\n",
    "        return image\n",
    "\n",
    "# Apply transformations\n",
    "transform = transforms.Compose([\n",
    "    transforms.Resize((128, 128)),\n",
    "    transforms.RandomHorizontalFlip(),\n",
    "    transforms.ToTensor(),\n",
    "])\n",
    "\n",
    "dataset = ImageDataset(\"data/images\", transform=transform)"
   ]
  },
  {
   "cell_type": "markdown",
   "metadata": {
    "id": "mYBF2A5TKdJK"
   },
   "source": [
    "#### Albumentations"
   ]
  },
  {
   "cell_type": "markdown",
   "metadata": {
    "id": "ZxXLOnE1Kgu4"
   },
   "source": [
    "Fast Image Augmentation for PyTorch & Deep Learning -\n",
    "\n",
    "Albumentations is a powerful, efficient, and easy-to-use image augmentation library for deep learning, especially in computer vision tasks like object detection, segmentation, and classification.\n",
    "\n",
    "    pip install albumentations"
   ]
  },
  {
   "cell_type": "code",
   "execution_count": null,
   "metadata": {
    "id": "i1M_uYEOKt6l"
   },
   "outputs": [],
   "source": [
    "import albumentations as A\n",
    "import cv2\n",
    "import matplotlib.pyplot as plt\n",
    "\n",
    "# Define Augmentations\n",
    "transform = A.Compose([\n",
    "    A.HorizontalFlip(p=0.5),   # Flip Horizontally with 50% chance\n",
    "    A.RandomBrightnessContrast(p=0.2),  # Random brightness & contrast changes\n",
    "    A.Rotate(limit=40, p=0.5),  # Rotate image randomly within ±40 degrees\n",
    "])\n",
    "\n",
    "# Load Image\n",
    "image = cv2.imread(\"image.jpg\")  # OpenCV loads images in BGR\n",
    "image = cv2.cvtColor(image, cv2.COLOR_BGR2RGB)  # Convert to RGB\n",
    "\n",
    "# Apply Transformations\n",
    "augmented = transform(image=image)[\"image\"]\n",
    "\n",
    "# Display Original & Augmented Images\n",
    "plt.figure(figsize=(8, 4))\n",
    "plt.subplot(1, 2, 1)\n",
    "plt.imshow(image)\n",
    "plt.title(\"Original\")\n",
    "plt.subplot(1, 2, 2)\n",
    "plt.imshow(augmented)\n",
    "plt.title(\"Augmented\")\n",
    "plt.show()"
   ]
  },
  {
   "cell_type": "markdown",
   "metadata": {
    "id": "xyn2t9jar9-Y"
   },
   "source": [
    "### **torchvision.datasets**"
   ]
  },
  {
   "cell_type": "markdown",
   "metadata": {
    "id": "80P40SHtsFQy"
   },
   "source": [
    "Built-in Datasets\n",
    "\n",
    "PyTorch provides several datasets through torchvision.datasets"
   ]
  },
  {
   "cell_type": "code",
   "execution_count": 26,
   "metadata": {
    "colab": {
     "base_uri": "https://localhost:8080/"
    },
    "id": "V0Iu3tETsNTh",
    "outputId": "51709852-5869-46e0-c094-34487f3ae2cb"
   },
   "outputs": [
    {
     "name": "stdout",
     "output_type": "stream",
     "text": [
      "Downloading https://www.cs.toronto.edu/~kriz/cifar-10-python.tar.gz to ./data/cifar-10-python.tar.gz\n"
     ]
    },
    {
     "name": "stderr",
     "output_type": "stream",
     "text": [
      "100%|██████████| 170M/170M [00:14<00:00, 11.9MB/s]\n"
     ]
    },
    {
     "name": "stdout",
     "output_type": "stream",
     "text": [
      "Extracting ./data/cifar-10-python.tar.gz to ./data\n",
      "Files already downloaded and verified\n",
      "Batch size: torch.Size([32, 3, 32, 32])\n"
     ]
    }
   ],
   "source": [
    "import torch\n",
    "import torchvision\n",
    "import torchvision.transforms as transforms\n",
    "\n",
    "# Define transformations (normalize, convert to tensor)\n",
    "transform = transforms.Compose([\n",
    "    transforms.ToTensor(),\n",
    "    transforms.Normalize((0.5,), (0.5,))\n",
    "])\n",
    "\n",
    "# Load dataset\n",
    "train_dataset = torchvision.datasets.CIFAR10(root=\"./data\", train=True, transform=transform, download=True)\n",
    "test_dataset = torchvision.datasets.CIFAR10(root=\"./data\", train=False, transform=transform, download=True)\n",
    "\n",
    "# Create DataLoaders\n",
    "train_loader = torch.utils.data.DataLoader(train_dataset, batch_size=32, shuffle=True, num_workers=2)\n",
    "test_loader = torch.utils.data.DataLoader(test_dataset, batch_size=32, shuffle=False, num_workers=2)\n",
    "\n",
    "# Get a batch of data\n",
    "images, labels = next(iter(train_loader))\n",
    "print(f\"Batch size: {images.shape}\")  # Output: [32, 3, 32, 32] (Batch, Channels, Height, Width)"
   ]
  },
  {
   "cell_type": "markdown",
   "metadata": {
    "id": "VtWz2syV0yW6"
   },
   "source": [
    "#### CV Datasets"
   ]
  },
  {
   "cell_type": "markdown",
   "metadata": {
    "id": "RgajC-EisnUR"
   },
   "source": [
    "**Image Classification Datasets**"
   ]
  },
  {
   "cell_type": "markdown",
   "metadata": {
    "id": "9CC7no9OxU9A"
   },
   "source": [
    "![Screenshot 2025-03-07 at 9.32.31 AM.png](data:image/png;base64,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)"
   ]
  },
  {
   "cell_type": "markdown",
   "metadata": {
    "id": "qIRGQAYgxohU"
   },
   "source": [
    "___\n",
    "**Object Detection & Segmentation Datasets**"
   ]
  },
  {
   "cell_type": "markdown",
   "metadata": {
    "id": "FD_NSIHVyekC"
   },
   "source": [
    "![Screenshot 2025-03-07 at 9.37.57 AM.png](data:image/png;base64,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)"
   ]
  },
  {
   "cell_type": "markdown",
   "metadata": {
    "id": "5vAXqDSCzGP9"
   },
   "source": [
    "---\n",
    "**Sketch & Cartoon Datasets**\n",
    "\n",
    "<h2><font size=\"4\">Sketch-Based Image Datasets</font></h2>\n",
    "<table border=\"1\">\n",
    "    <tr>\n",
    "        <th><font size=\"4\">Dataset</font></th>\n",
    "        <th><font size=\"4\">Description</font></th>\n",
    "        <th><font size=\"4\">Classes</font></th>\n",
    "        <th><font size=\"4\">Size</font></th>\n",
    "    </tr>\n",
    "    <tr>\n",
    "        <td><font size=\"4\">Omniglot</font></td>\n",
    "        <td><font size=\"4\">Handwritten alphabets</font></td>\n",
    "        <td><font size=\"4\">1,623</font></td>\n",
    "        <td><font size=\"4\">32K</font></td>\n",
    "    </tr>\n",
    "    <tr>\n",
    "        <td><font size=\"4\">QuickDraw</font></td>\n",
    "        <td><font size=\"4\">Google’s doodle dataset</font></td>\n",
    "        <td><font size=\"4\">345</font></td>\n",
    "        <td><font size=\"4\">50M</font></td>\n",
    "    </tr>\n",
    "    <tr>\n",
    "        <td><font size=\"4\">Sketchy</font></td>\n",
    "        <td><font size=\"4\">Object sketches</font></td>\n",
    "        <td><font size=\"4\">125</font></td>\n",
    "        <td><font size=\"4\">75K</font></td>\n",
    "    </tr>\n",
    "</table>\n"
   ]
  },
  {
   "cell_type": "markdown",
   "metadata": {
    "id": "BpoGnDWmzmTX"
   },
   "source": [
    "---\n",
    "**Video Datasets**\n",
    "\n",
    "<h2><font size=\"4\">Action Video Datasets</font></h2>\n",
    "<table border=\"1\">\n",
    "    <tr>\n",
    "        <th><font size=\"4\">Dataset</font></th>\n",
    "        <th><font size=\"4\">Description</font></th>\n",
    "        <th><font size=\"4\">Classes</font></th>\n",
    "        <th><font size=\"4\">Size</font></th>\n",
    "    </tr>\n",
    "    <tr>\n",
    "        <td><font size=\"4\">Kinetics-400</font></td>\n",
    "        <td><font size=\"4\">Human action videos</font></td>\n",
    "        <td><font size=\"4\">400</font></td>\n",
    "        <td><font size=\"4\">~300K clips</font></td>\n",
    "    </tr>\n",
    "    <tr>\n",
    "        <td><font size=\"4\">UCF101</font></td>\n",
    "        <td><font size=\"4\">Sports action videos</font></td>\n",
    "        <td><font size=\"4\">101</font></td>\n",
    "        <td><font size=\"4\">13K clips</font></td>\n",
    "    </tr>\n",
    "    <tr>\n",
    "        <td><font size=\"4\">HMDB51</font></td>\n",
    "        <td><font size=\"4\">Action videos</font></td>\n",
    "        <td><font size=\"4\">51</font></td>\n",
    "        <td><font size=\"4\">7K clips</font></td>\n",
    "    </tr>\n",
    "</table>"
   ]
  },
  {
   "cell_type": "markdown",
   "metadata": {
    "id": "cs8wG9WN08Gd"
   },
   "source": [
    "---\n",
    "---"
   ]
  },
  {
   "cell_type": "markdown",
   "metadata": {
    "id": "KUT8VnCk09Z5"
   },
   "source": [
    "#### NLP Datasets"
   ]
  },
  {
   "cell_type": "markdown",
   "metadata": {
    "id": "wuNhe0qg0Th0"
   },
   "source": [
    "\n",
    "\n",
    "<h3><font size=\"4\">Text Classification</font></h3>\n",
    "<table border=\"1\">\n",
    "    <tr>\n",
    "        <th><font size=\"3\">Dataset</font></th>\n",
    "        <th><font size=\"3\">Description</font></th>\n",
    "        <th><font size=\"3\">Classes</font></th>\n",
    "        <th><font size=\"3\">Size</font></th>\n",
    "    </tr>\n",
    "    <tr>\n",
    "        <td><font size=\"3\">AG News</font></td>\n",
    "        <td><font size=\"3\">News article classification</font></td>\n",
    "        <td><font size=\"3\">4</font></td>\n",
    "        <td><font size=\"3\">120K</font></td>\n",
    "    </tr>\n",
    "    <tr>\n",
    "        <td><font size=\"3\">IMDb</font></td>\n",
    "        <td><font size=\"3\">Movie review sentiment analysis</font></td>\n",
    "        <td><font size=\"3\">2</font></td>\n",
    "        <td><font size=\"3\">50K</font></td>\n",
    "    </tr>\n",
    "    <tr>\n",
    "        <td><font size=\"3\">Yahoo Answers</font></td>\n",
    "        <td><font size=\"3\">Question-topic classification</font></td>\n",
    "        <td><font size=\"3\">10</font></td>\n",
    "        <td><font size=\"3\">1.4M</font></td>\n",
    "    </tr>\n",
    "</table>\n",
    "\n",
    "<h3><font size=\"4\">Named Entity Recognition (NER)</font></h3>\n",
    "<table border=\"1\">\n",
    "    <tr>\n",
    "        <th><font size=\"3\">Dataset</font></th>\n",
    "        <th><font size=\"3\">Description</font></th>\n",
    "        <th><font size=\"3\">Entities</font></th>\n",
    "        <th><font size=\"3\">Size</font></th>\n",
    "    </tr>\n",
    "    <tr>\n",
    "        <td><font size=\"3\">CoNLL-2003</font></td>\n",
    "        <td><font size=\"3\">NER dataset (news articles)</font></td>\n",
    "        <td><font size=\"3\">4 (PER, LOC, ORG, MISC)</font></td>\n",
    "        <td><font size=\"3\">350K tokens</font></td>\n",
    "    </tr>\n",
    "    <tr>\n",
    "        <td><font size=\"3\">WNUT-17</font></td>\n",
    "        <td><font size=\"3\">NER dataset for social media</font></td>\n",
    "        <td><font size=\"3\">6</font></td>\n",
    "        <td><font size=\"3\">62K tokens</font></td>\n",
    "    </tr>\n",
    "</table>\n",
    "\n",
    "<h3><font size=\"4\">Machine Translation</font></h3>\n",
    "<table border=\"1\">\n",
    "    <tr>\n",
    "        <th><font size=\"3\">Dataset</font></th>\n",
    "        <th><font size=\"3\">Description</font></th>\n",
    "        <th><font size=\"3\">Languages</font></th>\n",
    "        <th><font size=\"3\">Size</font></th>\n",
    "    </tr>\n",
    "    <tr>\n",
    "        <td><font size=\"3\">WMT-14</font></td>\n",
    "        <td><font size=\"3\">English-French translation</font></td>\n",
    "        <td><font size=\"3\">2</font></td>\n",
    "        <td><font size=\"3\">40M sentence pairs</font></td>\n",
    "    </tr>\n",
    "    <tr>\n",
    "        <td><font size=\"3\">IWSLT</font></td>\n",
    "        <td><font size=\"3\">Spoken language translation</font></td>\n",
    "        <td><font size=\"3\">Multiple</font></td>\n",
    "        <td><font size=\"3\">200K sentence pairs</font></td>\n",
    "    </tr>\n",
    "</table>\n",
    "\n",
    "<h3><font size=\"4\">Question Answering</font></h3>\n",
    "<table border=\"1\">\n",
    "    <tr>\n",
    "        <th><font size=\"3\">Dataset</font></th>\n",
    "        <th><font size=\"3\">Description</font></th>\n",
    "        <th><font size=\"3\">Type</font></th>\n",
    "        <th><font size=\"3\">Size</font></th>\n",
    "    </tr>\n",
    "    <tr>\n",
    "        <td><font size=\"3\">SQuAD</font></td>\n",
    "        <td><font size=\"3\">Reading comprehension QA</font></td>\n",
    "        <td><font size=\"3\">Extractive</font></td>\n",
    "        <td><font size=\"3\">100K Q&A pairs</font></td>\n",
    "    </tr>\n",
    "    <tr>\n",
    "        <td><font size=\"3\">Natural Questions</font></td>\n",
    "        <td><font size=\"3\">Real-world QA from Google search</font></td>\n",
    "        <td><font size=\"3\">Extractive</font></td>\n",
    "        <td><font size=\"3\">300K Q&A pairs</font></td>\n",
    "    </tr>\n",
    "</table>\n"
   ]
  },
  {
   "cell_type": "markdown",
   "metadata": {
    "id": "BshFZciX__R-"
   },
   "source": [
    "## Loss Functions & Optimizers"
   ]
  },
  {
   "cell_type": "markdown",
   "metadata": {
    "id": "RVeOjK9fAUzO"
   },
   "source": [
    "### Loss Functions in PyTorch (torch.nn module)"
   ]
  },
  {
   "cell_type": "markdown",
   "metadata": {
    "id": "_GZBmmxGAnzh"
   },
   "source": [
    "#### Regression Losses\n",
    "These loss functions are used for **continuous** value predictions.\n",
    "\n",
    "| Loss Function | Description |\n",
    "|--------------|-------------|\n",
    "| `L1Loss()` | Mean absolute error (MAE) loss. |\n",
    "| `MSELoss()` | Mean squared error (MSE) loss. |\n",
    "| `SmoothL1Loss()` | Combination of L1 and L2 loss, less sensitive to outliers. |\n",
    "| `HuberLoss()` | Similar to `SmoothL1Loss`, robust to outliers. |\n",
    "\n",
    "---\n"
   ]
  },
  {
   "cell_type": "markdown",
   "metadata": {
    "id": "zExc3ofyA6sk"
   },
   "source": [
    "\n",
    "#### Classification Losses\n",
    "These are commonly used for **multi-class** and **binary** classification.\n",
    "\n",
    "| Loss Function | Description |\n",
    "|--------------|-------------|\n",
    "| `CrossEntropyLoss()` | For multi-class classification (logits as input). |\n",
    "| `NLLLoss()` | Negative log likelihood loss (used with `log_softmax`). |\n",
    "| `BCELoss()` | Binary cross-entropy for binary classification. |\n",
    "| `BCEWithLogitsLoss()` | Same as `BCELoss`, but applies `sigmoid` internally. |\n",
    "\n",
    "---"
   ]
  },
  {
   "cell_type": "markdown",
   "metadata": {
    "id": "G9ellvtzA9kg"
   },
   "source": [
    "#### Margin-Based Losses\n",
    "These loss functions enforce a **margin** between positive and negative samples.\n",
    "\n",
    "| Loss Function | Description |\n",
    "|--------------|-------------|\n",
    "| `MarginRankingLoss()` | For ranking problems, enforces margin between pairs. |\n",
    "| `HingeEmbeddingLoss()` | Used for binary classification with hinge loss. |\n",
    "| `MultiMarginLoss()` | Multi-class SVM margin loss. |\n",
    "| `TripletMarginLoss()` | Used in triplet learning (e.g., face verification). |\n",
    "\n",
    "---"
   ]
  },
  {
   "cell_type": "markdown",
   "metadata": {
    "id": "kBoNjjzCBBMF"
   },
   "source": [
    "\n",
    "#### Similarity Losses\n",
    "Used for measuring **closeness** between vectors.\n",
    "\n",
    "| Loss Function | Description |\n",
    "|--------------|-------------|\n",
    "| `CosineEmbeddingLoss()` | Measures cosine similarity loss between two embeddings. |\n",
    "| `TripletMarginWithDistanceLoss()` | Customizable version of `TripletMarginLoss`. |\n",
    "\n",
    "---"
   ]
  },
  {
   "cell_type": "markdown",
   "metadata": {
    "id": "w-H8lwIYBDzn"
   },
   "source": [
    "#### Sequence & NLP Losses\n",
    "Used for **language modeling**, **sequence generation**, and **translation** tasks.\n",
    "\n",
    "| Loss Function | Description |\n",
    "|--------------|-------------|\n",
    "| `CTCLoss()` | Connectionist Temporal Classification (CTC) loss for speech and OCR. |\n",
    "| `PoissonNLLLoss()` | Poisson negative log-likelihood for count-based data. |\n",
    "| `KLDivLoss()` | Kullback-Leibler divergence for distribution learning. |\n",
    "\n",
    "---"
   ]
  },
  {
   "cell_type": "markdown",
   "metadata": {
    "id": "pJG-pHkdBrHI"
   },
   "source": [
    "### Optimizers in PyTorch (torch.optim)"
   ]
  },
  {
   "cell_type": "markdown",
   "metadata": {
    "id": "Z52T8Xw3B1cP"
   },
   "source": [
    "Optimizers help in **updating model parameters** based on computed gradients.\n",
    "\n",
    "---\n",
    "\n",
    "#### Basic Optimizers\n",
    "| Optimizer | Description |\n",
    "|-----------|-------------|\n",
    "| `SGD` | Stochastic Gradient Descent, basic optimizer. |\n",
    "| `Adam` | Adaptive Moment Estimation, widely used. |\n",
    "| `AdamW` | Adam with weight decay correction. |\n",
    "| `RMSprop` | Root Mean Square Propagation, handles non-stationary objectives. |\n",
    "\n",
    "---"
   ]
  },
  {
   "cell_type": "markdown",
   "metadata": {
    "id": "3O0ZxxMfCVjA"
   },
   "source": [
    "#### Momentum-Based Optimizers\n",
    "| Optimizer | Description |\n",
    "|-----------|-------------|\n",
    "| `SGD (Momentum)` | Adds momentum to accelerate convergence. |\n",
    "| `NAG` | Nesterov Accelerated Gradient, improves SGD with lookahead. |\n",
    "\n",
    "---\n"
   ]
  },
  {
   "cell_type": "markdown",
   "metadata": {
    "id": "EYWkObzmCX3O"
   },
   "source": [
    "#### Adaptive Learning Rate Optimizers\n",
    "| Optimizer | Description |\n",
    "|-----------|-------------|\n",
    "| `Adagrad` | Adapts learning rate per parameter. |\n",
    "| `Adadelta` | Improvement over Adagrad, reduces aggressive decay. |\n",
    "| `Adam` | Combines Adagrad + RMSprop for better adaptation. |\n",
    "| `RMSprop` | Controls learning rate decay for stability. |\n",
    "\n",
    "---\n"
   ]
  },
  {
   "cell_type": "markdown",
   "metadata": {
    "id": "7kKKUfFiCauT"
   },
   "source": [
    "\n",
    "#### Second-Order Optimizers\n",
    "| Optimizer | Description |\n",
    "|-----------|-------------|\n",
    "| `LBFGS` | Limited-memory BFGS, useful for small datasets. |\n",
    "\n",
    "---"
   ]
  },
  {
   "cell_type": "markdown",
   "metadata": {
    "id": "2pERVyvGCeAY"
   },
   "source": [
    "\n",
    "#### Special Cases\n",
    "| Optimizer | Description |\n",
    "|-----------|-------------|\n",
    "| `ASGD` | Averaged Stochastic Gradient Descent, useful for RNNs. |\n",
    "| `SparseAdam` | Adam variant for sparse gradients. |\n",
    "\n",
    "---"
   ]
  },
  {
   "cell_type": "markdown",
   "metadata": {
    "id": "s7O0h_V0CJ7a"
   },
   "source": [
    "### Learning Rate Schedulers (torch.optim.lr_scheduler)"
   ]
  },
  {
   "cell_type": "markdown",
   "metadata": {
    "id": "aglQ1cGwDKRk"
   },
   "source": [
    "Why Use Learning Rate Schedulers?\n",
    "\n",
    "    ✔ Prevents getting stuck in local minima\n",
    "    ✔ Speeds up convergence by starting with a high LR and gradually reducing\n",
    "    ✔ Avoids overshooting by reducing LR when necessary\n",
    "    ✔ Improves generalization and prevents overfitting"
   ]
  },
  {
   "cell_type": "markdown",
   "metadata": {
    "id": "AK3Fys3zCPWm"
   },
   "source": [
    "Schedulers help in **adjusting the learning rate** during training for better convergence.\n",
    "\n",
    "---\n",
    "\n",
    "Learning Rate Schedulers\n",
    "\n",
    "| Scheduler | When to Use? | Best For? |\n",
    "|-----------|-------------|-----------|\n",
    "| `StepLR` | Reduce LR every few epochs | Long training cycles |\n",
    "| `MultiStepLR` | Reduce LR at specific epochs | Manually controlling LR decay |\n",
    "| `ReduceLROnPlateau` | When loss stops improving | Adaptive learning rates |\n",
    "| `CyclicLR` | When LR needs to fluctuate | NLP, small datasets |\n",
    "| `OneCycleLR` | When fast convergence is needed | Transfer learning, large-scale datasets |\n",
    "| `CosineAnnealingLR` | Gradual LR decay | Large models, avoiding sharp drops |\n",
    "\n",
    "---"
   ]
  },
  {
   "cell_type": "markdown",
   "metadata": {
    "id": "QmgZBB4mDnbV"
   },
   "source": [
    "### Gradient Clipping"
   ]
  },
  {
   "cell_type": "markdown",
   "metadata": {
    "id": "Jght_3pPDpHI"
   },
   "source": [
    "[gradient clipping](#cell-Wq0iFy2Lq-1w)"
   ]
  },
  {
   "cell_type": "markdown",
   "metadata": {
    "id": "NdliUbW8AC3g"
   },
   "source": [
    "##  PyTorch Model Training & Evaluation Workflow"
   ]
  },
  {
   "cell_type": "markdown",
   "metadata": {
    "id": "vLhAcYU1LY6X"
   },
   "source": [
    "A well-structured training and evaluation workflow is crucial for deep learning projects"
   ]
  },
  {
   "cell_type": "markdown",
   "metadata": {
    "id": "Sl_wUK-hLbv7"
   },
   "source": [
    "### 1. Define the Dataset & DataLoader"
   ]
  },
  {
   "cell_type": "markdown",
   "metadata": {
    "id": "GBRPzm4HLlvx"
   },
   "source": [
    "We first prepare the dataset and use DataLoader to efficiently load batches."
   ]
  },
  {
   "cell_type": "code",
   "execution_count": null,
   "metadata": {
    "id": "M_LOn7wHLhvy"
   },
   "outputs": [],
   "source": [
    "import torch\n",
    "import torch.nn as nn\n",
    "import torch.optim as optim\n",
    "from torch.utils.data import DataLoader, Dataset\n",
    "import torchvision.transforms as transforms\n",
    "import torchvision.datasets as datasets\n",
    "\n",
    "# Transformations (Normalization & Augmentation)\n",
    "transform = transforms.Compose([\n",
    "    transforms.ToTensor(),\n",
    "    transforms.Normalize((0.5,), (0.5,))\n",
    "])\n",
    "\n",
    "# Load MNIST dataset\n",
    "train_dataset = datasets.MNIST(root='./data', train=True, transform=transform, download=True)\n",
    "test_dataset = datasets.MNIST(root='./data', train=False, transform=transform, download=True)\n",
    "\n",
    "# DataLoader (batch processing)\n",
    "train_loader = DataLoader(train_dataset, batch_size=64, shuffle=True, num_workers=2, pin_memory=True)\n",
    "test_loader = DataLoader(test_dataset, batch_size=64, shuffle=False, num_workers=2, pin_memory=True)"
   ]
  },
  {
   "cell_type": "markdown",
   "metadata": {
    "id": "6bSagYArLo9U"
   },
   "source": [
    "### 2. Define the Model"
   ]
  },
  {
   "cell_type": "code",
   "execution_count": null,
   "metadata": {
    "id": "2OQqB9wJLvdz"
   },
   "outputs": [],
   "source": [
    "class SimpleNN(nn.Module):\n",
    "    def __init__(self):\n",
    "        super(SimpleNN, self).__init__()\n",
    "        self.fc1 = nn.Linear(28*28, 128)\n",
    "        self.fc2 = nn.Linear(128, 64)\n",
    "        self.fc3 = nn.Linear(64, 10)\n",
    "\n",
    "    def forward(self, x):\n",
    "        x = x.view(x.shape[0], -1)  # Flatten image\n",
    "        x = torch.relu(self.fc1(x))\n",
    "        x = torch.relu(self.fc2(x))\n",
    "        x = self.fc3(x)\n",
    "        return x  # No softmax, as CrossEntropyLoss includes it\n",
    "\n",
    "# Instantiate model\n",
    "device = torch.device(\"cuda\" if torch.cuda.is_available() else \"cpu\")\n",
    "model = SimpleNN().to(device)"
   ]
  },
  {
   "cell_type": "markdown",
   "metadata": {
    "id": "v5xdYRowLhLF"
   },
   "source": [
    "### 3. Define Loss Function & Optimizer"
   ]
  },
  {
   "cell_type": "code",
   "execution_count": null,
   "metadata": {
    "id": "CiqWcrC4L22j"
   },
   "outputs": [],
   "source": [
    "criterion = nn.CrossEntropyLoss()\n",
    "optimizer = optim.Adam(model.parameters(), lr=0.001)\n"
   ]
  },
  {
   "cell_type": "markdown",
   "metadata": {
    "id": "jc1o_O75MF-K"
   },
   "source": [
    "### 4. Training Loop"
   ]
  },
  {
   "cell_type": "markdown",
   "metadata": {
    "id": "6-162gcMMHUk"
   },
   "source": [
    "The core training loop consists of forward propagation, loss computation, backpropagation, and parameter updates.\n",
    "\n",
    "    model.train() ensures batch norm & dropout layers work correctly.\n",
    "    optimizer.zero_grad() prevents gradient accumulation.\n",
    "    loss.backward() computes gradients for backpropagation.\n",
    "    optimizer.step() updates model parameters."
   ]
  },
  {
   "cell_type": "code",
   "execution_count": null,
   "metadata": {
    "id": "rWf80oJjMNLE"
   },
   "outputs": [],
   "source": [
    "def train(model, train_loader, criterion, optimizer, epochs=5):\n",
    "    model.train()  # Set model to training mode\n",
    "    for epoch in range(epochs):\n",
    "        running_loss = 0.0\n",
    "        correct, total = 0, 0\n",
    "\n",
    "        for batch_idx, (inputs, labels) in enumerate(train_loader):\n",
    "            inputs, labels = inputs.to(device), labels.to(device)  # Move to GPU\n",
    "\n",
    "            # Forward Pass\n",
    "            outputs = model(inputs)\n",
    "            loss = criterion(outputs, labels)\n",
    "\n",
    "            # Backward Pass\n",
    "            optimizer.zero_grad()  # Zero gradients to prevent accumulation\n",
    "            loss.backward()  # Compute gradients\n",
    "            optimizer.step()  # Update weights\n",
    "\n",
    "            # Compute Accuracy\n",
    "            _, predicted = torch.max(outputs, 1)\n",
    "            correct += (predicted == labels).sum().item()\n",
    "            total += labels.size(0)\n",
    "\n",
    "            running_loss += loss.item()\n",
    "\n",
    "        # Print epoch results\n",
    "        print(f\"Epoch [{epoch+1}/{epochs}], Loss: {running_loss/len(train_loader):.4f}, Accuracy: {100 * correct/total:.2f}%\")\n",
    "\n",
    "# Train the model\n",
    "train(model, train_loader, criterion, optimizer, epochs=5)\n"
   ]
  },
  {
   "cell_type": "markdown",
   "metadata": {
    "id": "WjcCRiJAMQMG"
   },
   "source": [
    "### 5. Evaluation Loop (Testing)"
   ]
  },
  {
   "cell_type": "markdown",
   "metadata": {
    "id": "eFiS9VtlMTyD"
   },
   "source": [
    "We evaluate the model on the test set using torch.no_grad() to disable gradient calculations for efficiency.\n",
    "\n",
    "model.eval() ensures batch norm & dropout layers behave correctly."
   ]
  },
  {
   "cell_type": "code",
   "execution_count": null,
   "metadata": {
    "id": "Oz4XodI_MXUv"
   },
   "outputs": [],
   "source": [
    "def evaluate(model, test_loader, criterion):\n",
    "    model.eval()  # Set model to evaluation mode\n",
    "    total_loss, correct, total = 0.0, 0, 0\n",
    "\n",
    "    with torch.no_grad():\n",
    "        for inputs, labels in test_loader:\n",
    "            inputs, labels = inputs.to(device), labels.to(device)\n",
    "            outputs = model(inputs)\n",
    "            loss = criterion(outputs, labels)\n",
    "            total_loss += loss.item()\n",
    "\n",
    "            _, predicted = torch.max(outputs, 1)\n",
    "            correct += (predicted == labels).sum().item()\n",
    "            total += labels.size(0)\n",
    "\n",
    "    avg_loss = total_loss / len(test_loader)\n",
    "    accuracy = 100 * correct / total\n",
    "    print(f\"Test Loss: {avg_loss:.4f}, Accuracy: {accuracy:.2f}%\")\n",
    "\n",
    "# Evaluate the model\n",
    "evaluate(model, test_loader, criterion)\n"
   ]
  },
  {
   "cell_type": "markdown",
   "metadata": {
    "id": "kFnJ2BjsAOUS"
   },
   "source": [
    "### 6. Saving & Loading the Model"
   ]
  },
  {
   "cell_type": "code",
   "execution_count": null,
   "metadata": {
    "id": "tP24PKgWMqul"
   },
   "outputs": [],
   "source": [
    "# Save model\n",
    "torch.save(model.state_dict(), \"model.pth\")\n",
    "print(\"Model saved!\")\n",
    "\n",
    "# Load model\n",
    "loaded_model = SimpleNN().to(device)\n",
    "loaded_model.load_state_dict(torch.load(\"model.pth\"))\n",
    "loaded_model.eval()\n",
    "print(\"Model loaded!\")"
   ]
  },
  {
   "cell_type": "markdown",
   "metadata": {
    "id": "uzs8DaWIM5Zy"
   },
   "source": [
    "### 7. Hyperparameter Tuning"
   ]
  },
  {
   "cell_type": "markdown",
   "metadata": {
    "id": "9P9ToK9PAI5r"
   },
   "source": [
    "For better results, we can:\n",
    "\n",
    "    ✔ Use learning rate schedulers (torch.optim.lr_scheduler.StepLR)\n",
    "    ✔ Adjust batch size (32, 64, 128)\n",
    "    ✔ Try different optimizers (Adam, SGD, RMSprop)\n",
    "    ✔ Increase hidden layers and neurons per layer"
   ]
  },
  {
   "cell_type": "code",
   "execution_count": null,
   "metadata": {
    "id": "YtHUCPhfIUC2"
   },
   "outputs": [],
   "source": []
  }
 ],
 "metadata": {
  "accelerator": "GPU",
  "colab": {
   "collapsed_sections": [
    "o301L3_zJxhY",
    "ZkNBqnnd1TzP",
    "TF9gLCFz1nSb",
    "2DF_lFL36AIo",
    "OAHYaruK2Un0",
    "T6RuPvEX9YIj",
    "ol1U1FOH47kI",
    "ae7tJSrt1bak",
    "HoZCkuQk2DAd",
    "nN0Gwlkz4ZdQ",
    "LGgu3Z2b6S2F",
    "pJesnSWo5nS5",
    "-6QCkUdI8wmi",
    "fA0exUp8_1tJ",
    "uoCFnmhHp9LB",
    "Qktw_2iD1Zqq",
    "vlma1QhH1bZ1",
    "9TykkpIw3NVQ",
    "PoalfzGi2Rk-",
    "auI7BYQI3vrf",
    "RjcKbji-7W6T",
    "MCPOvbgx5ors",
    "cO0f07Xr6e9t",
    "psZmiJbH69yJ",
    "IL4OLExE8QlI",
    "EQZDAjCX8SuH",
    "ksFHZ5_F9udP",
    "IbKExtVn-0mT",
    "vK8LkMMh_jde",
    "U-hNRtft-IRv",
    "mBGhGZ7m-bl6",
    "mYBF2A5TKdJK",
    "xyn2t9jar9-Y",
    "VtWz2syV0yW6",
    "KUT8VnCk09Z5",
    "BshFZciX__R-",
    "RVeOjK9fAUzO",
    "pJG-pHkdBrHI",
    "QmgZBB4mDnbV"
   ],
   "gpuType": "T4",
   "provenance": [],
   "toc_visible": true
  },
  "kernelspec": {
   "display_name": "Python 3 (ipykernel)",
   "language": "python",
   "name": "python3"
  },
  "language_info": {
   "codemirror_mode": {
    "name": "ipython",
    "version": 3
   },
   "file_extension": ".py",
   "mimetype": "text/x-python",
   "name": "python",
   "nbconvert_exporter": "python",
   "pygments_lexer": "ipython3",
   "version": "3.10.9"
  }
 },
 "nbformat": 4,
 "nbformat_minor": 1
}
