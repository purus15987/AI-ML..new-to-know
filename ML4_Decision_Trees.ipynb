{
  "nbformat": 4,
  "nbformat_minor": 0,
  "metadata": {
    "colab": {
      "provenance": [],
      "toc_visible": true
    },
    "kernelspec": {
      "name": "python3",
      "display_name": "Python 3"
    },
    "language_info": {
      "name": "python"
    }
  },
  "cells": [
    {
      "cell_type": "markdown",
      "source": [
        "# Decision Trees"
      ],
      "metadata": {
        "id": "08ae0fVckQua"
      }
    },
    {
      "cell_type": "markdown",
      "source": [
        "Supervised machine learning algorithm used for both classification and regression tasks."
      ],
      "metadata": {
        "id": "D4w5FAvbkJDd"
      }
    },
    {
      "cell_type": "markdown",
      "source": [
        "## Key Concepts"
      ],
      "metadata": {
        "id": "T-yjB08IkYJP"
      }
    },
    {
      "cell_type": "markdown",
      "source": [
        "- Root Node: The topmost node representing the first decision.\n",
        "- Internal Nodes: Decision points based on feature values.\n",
        "- Leaves: Final predictions or outcomes.\n",
        "- Splitting: Dividing a node into sub-nodes.\n",
        "- Pruning: Removing unnecessary branches to avoid overfitting."
      ],
      "metadata": {
        "id": "ZSCda1qEkb2N"
      }
    },
    {
      "cell_type": "markdown",
      "source": [
        "Types of Decision Trees:\n",
        "1. Classification Trees:    Used when the target variable is categorical.\n",
        "2. Regression Trees:        Used when the target variable is continuous."
      ],
      "metadata": {
        "id": "qqpyHMZNlRgM"
      }
    },
    {
      "cell_type": "markdown",
      "source": [
        "How to Build a Decision Tree:\n",
        "- The process of recursively splitting the data based on feature values.\n",
        "- The decision of where to split depends on a splitting criterion, e.g.,\n",
        "    - **Gini Index**, **Entropy** for Classification.\n",
        "    - **MSE** for Regression."
      ],
      "metadata": {
        "id": "Jf6mjxFkluXk"
      }
    },
    {
      "cell_type": "markdown",
      "source": [
        "# ID3 (Iterative Dichotomiser 3)"
      ],
      "metadata": {
        "id": "JE-2SRjqmt8e"
      }
    },
    {
      "cell_type": "markdown",
      "source": [
        "- a foundational decision tree algorithm\n",
        "- created by Ross Quinlan.\n",
        "- It’s used for classification tasks and\n",
        "- builds the tree by choosing the feature that gives the **maximum Information Gain** at each step."
      ],
      "metadata": {
        "id": "ONitwsqKm1mZ"
      }
    },
    {
      "cell_type": "markdown",
      "source": [
        "    maximum Information Gain ??"
      ],
      "metadata": {
        "id": "M0EWOvn-nElx"
      }
    },
    {
      "cell_type": "markdown",
      "source": [
        "Information Gain (IG) - Tells us how much **uncertainty** is reduced by splitting on a feature.\n",
        "\n",
        "    uncertainty ??"
      ],
      "metadata": {
        "id": "OuOWTh57nQSR"
      }
    },
    {
      "cell_type": "markdown",
      "source": [
        "## Entropy & Information Gain"
      ],
      "metadata": {
        "id": "ESu-5jAgo6Qm"
      }
    },
    {
      "cell_type": "markdown",
      "source": [
        "Entropy (𝓗) - Measures the impurity or uncertainty in the data:\n",
        "\n",
        "    Entropy(S) = − ∑ pi.log2(pi)\n",
        "\n",
        "        - S is the current dataset.\n",
        "        - pi is the probability of class i in S."
      ],
      "metadata": {
        "id": "g7ererYwnhps"
      }
    },
    {
      "cell_type": "markdown",
      "source": [
        "Information Gain (IG) - Tells us how much uncertainty is reduced by splitting on a feature.\n",
        "\n",
        "    IG(S,A) = Entropy(S) − v∈values(A) ∑ ∣Sv∣/∣S∣ Entropy(Sv)\n",
        "\n",
        "        - A is a feature.\n",
        "        - Sv is the subset of data where feature A has value v."
      ],
      "metadata": {
        "id": "EgumXUPzoFvU"
      }
    },
    {
      "cell_type": "markdown",
      "source": [
        "***The feature with the `highest IG` is chosen for the split.***"
      ],
      "metadata": {
        "id": "nP90Yo6PopZ5"
      }
    },
    {
      "cell_type": "markdown",
      "source": [
        "## ID3 Algorithm"
      ],
      "metadata": {
        "id": "A7NvqmFRo2Cn"
      }
    },
    {
      "cell_type": "markdown",
      "source": [
        "1. Start with the full dataset.\n",
        "2. Calculate Entropy for the dataset.\n",
        "3. For each feature:\n",
        "  - Compute Information Gain.\n",
        "  - Choose the feature with the highest IG to split.\n",
        "4. Recurse on each branch until:\n",
        "  - All data in the subset belong to one class.\n",
        "  - No more features left."
      ],
      "metadata": {
        "id": "nHrxWvDZpDJr"
      }
    },
    {
      "cell_type": "markdown",
      "source": [
        "## Python Code: ID3 from Scratch"
      ],
      "metadata": {
        "id": "bJeaSZb1pgLS"
      }
    },
    {
      "cell_type": "code",
      "execution_count": null,
      "metadata": {
        "id": "6UWyUAXEj-8B"
      },
      "outputs": [],
      "source": [
        "import pandas as pd\n",
        "import numpy as np\n",
        "import math\n",
        "\n",
        "# Sample dataset\n",
        "data = pd.DataFrame({\n",
        "    'Outlook': ['Sunny', 'Sunny', 'Overcast', 'Rain', 'Rain', 'Rain', 'Overcast'],\n",
        "    'Temperature': ['Hot', 'Hot', 'Hot', 'Mild', 'Cool', 'Cool', 'Mild'],\n",
        "    'Humidity': ['High', 'High', 'High', 'High', 'Normal', 'Normal', 'Normal'],\n",
        "    'Wind': ['Weak', 'Strong', 'Weak', 'Weak', 'Weak', 'Strong', 'Strong'],\n",
        "    'PlayTennis': ['No', 'No', 'Yes', 'Yes', 'Yes', 'No', 'Yes']\n",
        "})\n",
        "\n",
        "features = ['Outlook', 'Temperature', 'Humidity', 'Wind']\n",
        "target = 'PlayTennis'"
      ]
    },
    {
      "cell_type": "code",
      "source": [
        "for f in features:\n",
        "    print(f\"unique values for feature {f} are: {np.unique(data[f])}\")"
      ],
      "metadata": {
        "colab": {
          "base_uri": "https://localhost:8080/"
        },
        "id": "ns1DWJxXsKiA",
        "outputId": "445b8b15-3593-4b28-a321-637a76b30a45"
      },
      "execution_count": null,
      "outputs": [
        {
          "output_type": "stream",
          "name": "stdout",
          "text": [
            "unique values for feature Outlook are: ['Overcast' 'Rain' 'Sunny']\n",
            "unique values for feature Temperature are: ['Cool' 'Hot' 'Mild']\n",
            "unique values for feature Humidity are: ['High' 'Normal']\n",
            "unique values for feature Wind are: ['Strong' 'Weak']\n"
          ]
        }
      ]
    },
    {
      "cell_type": "code",
      "source": [
        "labels, counts = np.unique(data[target], return_counts=True)\n",
        "labels, counts"
      ],
      "metadata": {
        "colab": {
          "base_uri": "https://localhost:8080/"
        },
        "id": "7FKCs1R_qjSE",
        "outputId": "6da64968-9a3d-44ca-d770-8477876268e3"
      },
      "execution_count": null,
      "outputs": [
        {
          "output_type": "execute_result",
          "data": {
            "text/plain": [
              "(array(['No', 'Yes'], dtype=object), array([3, 4]))"
            ]
          },
          "metadata": {},
          "execution_count": 2
        }
      ]
    },
    {
      "cell_type": "code",
      "source": [
        "total_entropy = - (3/7 * math.log2(3/7) + 4/7 * math.log2(4/7))\n",
        "total_entropy"
      ],
      "metadata": {
        "colab": {
          "base_uri": "https://localhost:8080/"
        },
        "id": "JylwARh62Pri",
        "outputId": "9314ea21-3fda-4702-fcf6-6efba82914cd"
      },
      "execution_count": null,
      "outputs": [
        {
          "output_type": "execute_result",
          "data": {
            "text/plain": [
              "0.9852281360342515"
            ]
          },
          "metadata": {},
          "execution_count": 6
        }
      ]
    },
    {
      "cell_type": "code",
      "source": [
        "# Entropy calculation\n",
        "def entropy(data, target):\n",
        "    values, counts = np.unique(data[target], return_counts=True)\n",
        "    entropy = 0\n",
        "    for i in range(len(values)):\n",
        "        prob = counts[i] / np.sum(counts)\n",
        "        entropy -= prob * math.log2(prob)\n",
        "    return entropy\n",
        "\n",
        "total_entropy = entropy(data, target)"
      ],
      "metadata": {
        "colab": {
          "base_uri": "https://localhost:8080/"
        },
        "id": "8nYAbL0u2g4f",
        "outputId": "48ca024d-bea2-4c1d-b733-f796c50811bb"
      },
      "execution_count": null,
      "outputs": [
        {
          "output_type": "execute_result",
          "data": {
            "text/plain": [
              "np.float64(0.9852281360342515)"
            ]
          },
          "metadata": {},
          "execution_count": 22
        }
      ]
    },
    {
      "cell_type": "code",
      "source": [
        "print(data,'\\n')\n",
        "\n",
        "outlook_entropy = 0\n",
        "for f in np.unique(data['Outlook']):\n",
        "    feature_data = data[data['Outlook'] == f]\n",
        "    print(feature_data,\"\\n\")\n",
        "    outlook_entropy += len(feature_data) / len(data) * entropy(feature_data, target)\n",
        "\n",
        "info_gain = total_entropy - outlook_entropy\n",
        "info_gain"
      ],
      "metadata": {
        "colab": {
          "base_uri": "https://localhost:8080/"
        },
        "id": "iL17rzJh3AJK",
        "outputId": "f95b7f8f-0fe9-4836-d79f-549a4cd15761"
      },
      "execution_count": null,
      "outputs": [
        {
          "output_type": "stream",
          "name": "stdout",
          "text": [
            "    Outlook Temperature Humidity    Wind PlayTennis\n",
            "0     Sunny         Hot     High    Weak         No\n",
            "1     Sunny         Hot     High  Strong         No\n",
            "2  Overcast         Hot     High    Weak        Yes\n",
            "3      Rain        Mild     High    Weak        Yes\n",
            "4      Rain        Cool   Normal    Weak        Yes\n",
            "5      Rain        Cool   Normal  Strong         No\n",
            "6  Overcast        Mild   Normal  Strong        Yes \n",
            "\n",
            "    Outlook Temperature Humidity    Wind PlayTennis\n",
            "2  Overcast         Hot     High    Weak        Yes\n",
            "6  Overcast        Mild   Normal  Strong        Yes \n",
            "\n",
            "  Outlook Temperature Humidity    Wind PlayTennis\n",
            "3    Rain        Mild     High    Weak        Yes\n",
            "4    Rain        Cool   Normal    Weak        Yes\n",
            "5    Rain        Cool   Normal  Strong         No \n",
            "\n",
            "  Outlook Temperature Humidity    Wind PlayTennis\n",
            "0   Sunny         Hot     High    Weak         No\n",
            "1   Sunny         Hot     High  Strong         No \n",
            "\n"
          ]
        },
        {
          "output_type": "execute_result",
          "data": {
            "text/plain": [
              "np.float64(0.5916727785823275)"
            ]
          },
          "metadata": {},
          "execution_count": 26
        }
      ]
    },
    {
      "cell_type": "code",
      "source": [
        "# Information Gain\n",
        "def info_gain(data, feature, target):\n",
        "    total_entropy = entropy(data, target)\n",
        "    values, counts = np.unique(data[feature], return_counts=True)\n",
        "\n",
        "    feature_entropy = 0\n",
        "    for i in range(len(values)):\n",
        "        subset = data[data[feature] == values[i]]\n",
        "        weight = counts[i] / np.sum(counts)\n",
        "        feature_entropy += weight * entropy(subset, target)\n",
        "\n",
        "    return total_entropy - feature_entropy\n",
        "\n",
        "info_gain(data, 'Outlook', target)"
      ],
      "metadata": {
        "colab": {
          "base_uri": "https://localhost:8080/"
        },
        "id": "ypFTQiGs24Yi",
        "outputId": "9a819774-f31c-4f7a-92b4-0e1bf7d7d8fe"
      },
      "execution_count": null,
      "outputs": [
        {
          "output_type": "execute_result",
          "data": {
            "text/plain": [
              "np.float64(0.5916727785823275)"
            ]
          },
          "metadata": {},
          "execution_count": 27
        }
      ]
    },
    {
      "cell_type": "code",
      "source": [
        "iteration = 0\n",
        "\n",
        "# Entropy calculation\n",
        "def entropy(data, target):\n",
        "    values, counts = np.unique(data[target], return_counts=True)\n",
        "    entropy = 0\n",
        "    for i in range(len(values)):\n",
        "        prob = counts[i] / np.sum(counts)\n",
        "        entropy -= prob * math.log2(prob)\n",
        "    return entropy\n",
        "\n",
        "# Information Gain\n",
        "def info_gain(data, feature, target):\n",
        "    total_entropy = entropy(data, target)\n",
        "    values, counts = np.unique(data[feature], return_counts=True)\n",
        "\n",
        "    feature_entropy = 0\n",
        "    for i in range(len(values)):\n",
        "        subset = data[data[feature] == values[i]]\n",
        "        weight = counts[i] / np.sum(counts)\n",
        "        feature_entropy += weight * entropy(subset, target)\n",
        "\n",
        "    return total_entropy - feature_entropy\n",
        "\n",
        "# ID3 Algorithm (recursive)\n",
        "def id3(data, features, target):\n",
        "    unique_labels = np.unique(data[target])\n",
        "    global iteration\n",
        "    iteration+=1\n",
        "    print(\"--\"*25)\n",
        "    print(f\"ID3 iteration {iteration}\")\n",
        "    print(f\"\\nData:\\n{data}\")\n",
        "    print(f\"\\nFeatures: {features}\")\n",
        "    print(f\"Target: {target} with unique_labels: {unique_labels}\")\n",
        "\n",
        "    # Case 1: All same class\n",
        "    if len(unique_labels) == 1:\n",
        "        return unique_labels[0]\n",
        "\n",
        "    # Case 2: No more features to split\n",
        "    if len(features) == 0:\n",
        "        print(\"\\n No more features to split\")\n",
        "        return data[target].mode()[0]\n",
        "\n",
        "    # Select best feature\n",
        "    gains = [info_gain(data, f, target) for f in features]\n",
        "    best_feature = features[np.argmax(gains)]\n",
        "\n",
        "    print(f\"\\nInforamtion Gain for {features}:\\n{gains}\")\n",
        "    print(f\"\\nBest feature: {best_feature}\")\n",
        "\n",
        "    tree = {best_feature: {}}\n",
        "    for value in np.unique(data[best_feature]):\n",
        "        subset = data[data[best_feature] == value].drop(columns=[best_feature])\n",
        "        features = [f for f in features if f != best_feature]\n",
        "        subtree = id3(subset, features, target)\n",
        "        tree[best_feature][value] = subtree\n",
        "\n",
        "    return tree\n",
        "\n",
        "tree = id3(data, features, target)"
      ],
      "metadata": {
        "colab": {
          "base_uri": "https://localhost:8080/"
        },
        "id": "HfHOdMbqpp5d",
        "outputId": "440a3c4d-34a5-4f43-a4a7-134b28b50de6"
      },
      "execution_count": null,
      "outputs": [
        {
          "output_type": "stream",
          "name": "stdout",
          "text": [
            "--------------------------------------------------\n",
            "ID3 iteration 1\n",
            "\n",
            "Data:\n",
            "    Outlook Temperature Humidity    Wind PlayTennis\n",
            "0     Sunny         Hot     High    Weak         No\n",
            "1     Sunny         Hot     High  Strong         No\n",
            "2  Overcast         Hot     High    Weak        Yes\n",
            "3      Rain        Mild     High    Weak        Yes\n",
            "4      Rain        Cool   Normal    Weak        Yes\n",
            "5      Rain        Cool   Normal  Strong         No\n",
            "6  Overcast        Mild   Normal  Strong        Yes\n",
            "\n",
            "Features: ['Outlook', 'Temperature', 'Humidity', 'Wind']\n",
            "Target: PlayTennis with unique_labels: ['No' 'Yes']\n",
            "\n",
            "Inforamtion Gain for ['Outlook', 'Temperature', 'Humidity', 'Wind']:\n",
            "[np.float64(0.5916727785823275), np.float64(0.3059584928680418), np.float64(0.020244207153756077), np.float64(0.12808527889139443)]\n",
            "\n",
            "Best feature: Outlook\n",
            "--------------------------------------------------\n",
            "ID3 iteration 2\n",
            "\n",
            "Data:\n",
            "  Temperature Humidity    Wind PlayTennis\n",
            "2         Hot     High    Weak        Yes\n",
            "6        Mild   Normal  Strong        Yes\n",
            "\n",
            "Features: ['Temperature', 'Humidity', 'Wind']\n",
            "Target: PlayTennis with unique_labels: ['Yes']\n",
            "--------------------------------------------------\n",
            "ID3 iteration 3\n",
            "\n",
            "Data:\n",
            "  Temperature Humidity    Wind PlayTennis\n",
            "3        Mild     High    Weak        Yes\n",
            "4        Cool   Normal    Weak        Yes\n",
            "5        Cool   Normal  Strong         No\n",
            "\n",
            "Features: ['Temperature', 'Humidity', 'Wind']\n",
            "Target: PlayTennis with unique_labels: ['No' 'Yes']\n",
            "\n",
            "Inforamtion Gain for ['Temperature', 'Humidity', 'Wind']:\n",
            "[np.float64(0.2516291673878229), np.float64(0.2516291673878229), np.float64(0.9182958340544896)]\n",
            "\n",
            "Best feature: Wind\n",
            "--------------------------------------------------\n",
            "ID3 iteration 4\n",
            "\n",
            "Data:\n",
            "  Temperature Humidity PlayTennis\n",
            "5        Cool   Normal         No\n",
            "\n",
            "Features: ['Temperature', 'Humidity']\n",
            "Target: PlayTennis with unique_labels: ['No']\n",
            "--------------------------------------------------\n",
            "ID3 iteration 5\n",
            "\n",
            "Data:\n",
            "  Temperature Humidity PlayTennis\n",
            "3        Mild     High        Yes\n",
            "4        Cool   Normal        Yes\n",
            "\n",
            "Features: ['Temperature', 'Humidity']\n",
            "Target: PlayTennis with unique_labels: ['Yes']\n",
            "--------------------------------------------------\n",
            "ID3 iteration 6\n",
            "\n",
            "Data:\n",
            "  Temperature Humidity    Wind PlayTennis\n",
            "0         Hot     High    Weak         No\n",
            "1         Hot     High  Strong         No\n",
            "\n",
            "Features: ['Temperature', 'Humidity', 'Wind']\n",
            "Target: PlayTennis with unique_labels: ['No']\n"
          ]
        }
      ]
    },
    {
      "cell_type": "code",
      "source": [
        "print(tree)"
      ],
      "metadata": {
        "colab": {
          "base_uri": "https://localhost:8080/"
        },
        "id": "QJ1mOqd4wLQP",
        "outputId": "e65d6b47-b04e-4715-9abd-e3801768290d"
      },
      "execution_count": null,
      "outputs": [
        {
          "output_type": "stream",
          "name": "stdout",
          "text": [
            "{'Outlook': {'Overcast': 'Yes', 'Rain': {'Wind': {'Strong': 'No', 'Weak': 'Yes'}}, 'Sunny': 'No'}}\n"
          ]
        }
      ]
    },
    {
      "cell_type": "code",
      "source": [
        "def print_tree(tree, depth=0):\n",
        "    if isinstance(tree, dict):\n",
        "        for key, subtree in tree.items():\n",
        "            print('    ' * depth + f\"[{key}]\")\n",
        "            if isinstance(subtree, dict):\n",
        "                for branch, child in subtree.items():\n",
        "                    print('    ' * (depth + 1) + f\"→ {branch}:\")\n",
        "                    print_tree(child, depth + 2)\n",
        "            else:\n",
        "                print('    ' * (depth + 1) + f\"→ {subtree}\")\n",
        "    else:\n",
        "        print('    ' * depth + str(tree))\n",
        "\n",
        "print_tree(tree)"
      ],
      "metadata": {
        "colab": {
          "base_uri": "https://localhost:8080/"
        },
        "id": "_mn-zpfD4Wg0",
        "outputId": "dbaa7fcd-095d-4104-c69f-95bc77c3866d"
      },
      "execution_count": null,
      "outputs": [
        {
          "output_type": "stream",
          "name": "stdout",
          "text": [
            "[Outlook]\n",
            "    → Overcast:\n",
            "        Yes\n",
            "    → Rain:\n",
            "        [Wind]\n",
            "            → Strong:\n",
            "                No\n",
            "            → Weak:\n",
            "                Yes\n",
            "    → Sunny:\n",
            "        No\n"
          ]
        }
      ]
    },
    {
      "cell_type": "markdown",
      "source": [
        "# CART (Classification and Regression Trees)"
      ],
      "metadata": {
        "id": "F9kDLiu56qT6"
      }
    },
    {
      "cell_type": "markdown",
      "source": [
        "CART is a binary decision tree algorithm introduced by Breiman et al.\n",
        "\n",
        "It works for:\n",
        "\n",
        "- Classification tasks → predicts a class label.\n",
        "- Regression tasks → predicts a numerical value."
      ],
      "metadata": {
        "id": "7JHiqO6x6sBD"
      }
    },
    {
      "cell_type": "markdown",
      "source": [
        "Unlike ID3 or C4.5 (which can have multiple branches), CART always creates binary trees (each node splits into exactly two branches)."
      ],
      "metadata": {
        "id": "nw2PtpuK66UF"
      }
    },
    {
      "cell_type": "markdown",
      "source": [
        "## How CART Works"
      ],
      "metadata": {
        "id": "RFDH13BQ7IF1"
      }
    },
    {
      "cell_type": "markdown",
      "source": [
        "Splitting Criteria\n",
        "\n",
        "  - For Classification: Uses Gini Impurity\n",
        "  - For Regression: Uses Mean Squared Error (MSE)\n",
        "\n",
        "    \n",
        "    CART chooses the feature and threshold that results in the purest split (lowest impurity or error)."
      ],
      "metadata": {
        "id": "ycMkAOgw7Bud"
      }
    },
    {
      "cell_type": "markdown",
      "source": [
        "Stopping Criteria\n",
        "\n",
        "1. Max depth\n",
        "2. Minimum number of samples to split\n",
        "3. Minimum impurity decrease"
      ],
      "metadata": {
        "id": "megwHucZ7rQE"
      }
    },
    {
      "cell_type": "markdown",
      "source": [
        "Pruning\n",
        "\n",
        "- After building the full tree, CART applies cost-complexity pruning to remove unnecessary branches and prevent overfitting."
      ],
      "metadata": {
        "id": "j160mPOS7ytX"
      }
    },
    {
      "cell_type": "markdown",
      "source": [
        "## Gini Impurity (for classification)"
      ],
      "metadata": {
        "id": "vE4XkZBb7Pyv"
      }
    },
    {
      "cell_type": "markdown",
      "source": [
        "    Gini(t) = 1 − ∑ pi^2\n",
        "\n",
        "Where pi is the probability of class i at node t, and C is the number of classes."
      ],
      "metadata": {
        "id": "v2N6WTEd7V2w"
      }
    },
    {
      "cell_type": "markdown",
      "source": [
        "## Python: CART (Classification Tree) from Scratch"
      ],
      "metadata": {
        "id": "FRJ_f9R48T9E"
      }
    },
    {
      "cell_type": "code",
      "source": [
        "import numpy as np\n",
        "\n",
        "# Calculate Gini Impurity\n",
        "def gini_impurity(labels):\n",
        "    classes, counts = np.unique(labels, return_counts=True)\n",
        "    impurity = 1 - sum((count / len(labels)) ** 2 for count in counts)\n",
        "    return impurity\n",
        "\n",
        "# Split dataset based on a feature and threshold\n",
        "def split_dataset(X, y, feature_index, threshold):\n",
        "    left_idx = X[:, feature_index] <= threshold\n",
        "    right_idx = X[:, feature_index] > threshold\n",
        "    return X[left_idx], y[left_idx], X[right_idx], y[right_idx]\n",
        "\n",
        "# Find best split\n",
        "def best_split(X, y):\n",
        "    best_feature, best_threshold, best_gain = None, None, -1\n",
        "    current_impurity = gini_impurity(y)\n",
        "\n",
        "    n_samples, n_features = X.shape\n",
        "\n",
        "    for feature_index in range(n_features):\n",
        "        thresholds = np.unique(X[:, feature_index])\n",
        "        for threshold in thresholds:\n",
        "            X_left, y_left, X_right, y_right = split_dataset(X, y, feature_index, threshold)\n",
        "            if len(y_left) == 0 or len(y_right) == 0:\n",
        "                continue\n",
        "\n",
        "            left_weight = len(y_left) / len(y)\n",
        "            right_weight = 1 - left_weight\n",
        "            gain = current_impurity - (left_weight * gini_impurity(y_left) + right_weight * gini_impurity(y_right))\n",
        "\n",
        "            if gain > best_gain:\n",
        "                best_gain = gain\n",
        "                best_feature = feature_index\n",
        "                best_threshold = threshold\n",
        "\n",
        "    return best_feature, best_threshold, best_gain\n",
        "\n",
        "# Define tree node\n",
        "class Node:\n",
        "    def __init__(self, feature=None, threshold=None, left=None, right=None, value=None):\n",
        "        self.feature = feature\n",
        "        self.threshold = threshold\n",
        "        self.left = left\n",
        "        self.right = right\n",
        "        self.value = value\n",
        "\n",
        "# Build the tree\n",
        "def build_tree(X, y, depth=0, max_depth=5):\n",
        "    if len(np.unique(y)) == 1 or depth == max_depth:\n",
        "        leaf_value = max(set(y), key=list(y).count)\n",
        "        return Node(value=leaf_value)\n",
        "\n",
        "    feature, threshold, gain = best_split(X, y)\n",
        "    print(feature, threshold, gain)\n",
        "\n",
        "    if feature is None:\n",
        "        leaf_value = max(set(y), key=list(y).count)\n",
        "        return Node(value=leaf_value)\n",
        "\n",
        "    X_left, y_left, X_right, y_right = split_dataset(X, y, feature, threshold)\n",
        "    print(X_left, y_left, '\\n\\n', X_right, y_right)\n",
        "\n",
        "    left_child = build_tree(X_left, y_left, depth + 1, max_depth)\n",
        "    right_child = build_tree(X_right, y_right, depth + 1, max_depth)\n",
        "\n",
        "    return Node(feature, threshold, left_child, right_child)\n",
        "\n",
        "# Prediction function\n",
        "def predict(sample, tree):\n",
        "    if tree.value is not None:\n",
        "        return tree.value\n",
        "    if sample[tree.feature] <= tree.threshold:\n",
        "        return predict(sample, tree.left)\n",
        "    else:\n",
        "        return predict(sample, tree.right)\n",
        "\n",
        "# Example dataset\n",
        "X = np.array([[30, 0], [25, 1], [45, 0], [35, 1], [40, 1]])\n",
        "y = np.array(['No', 'No', 'Yes', 'Yes', 'Yes'])\n",
        "\n",
        "# Build tree\n",
        "tree = build_tree(X, y)\n",
        "\n",
        "# Predict new samples\n",
        "test_samples = np.array([[28, 1], [42, 0]])\n",
        "predictions = [predict(sample, tree) for sample in test_samples]\n",
        "print(predictions)"
      ],
      "metadata": {
        "colab": {
          "base_uri": "https://localhost:8080/"
        },
        "id": "oifdn2TWp1fd",
        "outputId": "8ad78eb5-427e-4384-c38f-11648b5fbf13"
      },
      "execution_count": null,
      "outputs": [
        {
          "output_type": "stream",
          "name": "stdout",
          "text": [
            "0 30 0.48\n",
            "[[30  0]\n",
            " [25  1]] ['No' 'No'] \n",
            "\n",
            " [[45  0]\n",
            " [35  1]\n",
            " [40  1]] ['Yes' 'Yes' 'Yes']\n",
            "[np.str_('No'), np.str_('Yes')]\n"
          ]
        }
      ]
    },
    {
      "cell_type": "markdown",
      "source": [
        "## Python: CART (Regression) from Scratch"
      ],
      "metadata": {
        "id": "uqZmX-Li_iti"
      }
    },
    {
      "cell_type": "markdown",
      "source": [
        "Note:\n",
        "  - Classifiation is Miximization Problem: gain > best_gain\n",
        "  - Regression is Manimization Problem: weighted_loss < best_loss"
      ],
      "metadata": {
        "id": "jUejs1opAJxZ"
      }
    },
    {
      "cell_type": "code",
      "source": [
        "import numpy as np\n",
        "\n",
        "# Calculate Mean Squared Error\n",
        "def mse(y):\n",
        "    if len(y) == 0:\n",
        "        return 0\n",
        "    mean = np.mean(y)\n",
        "    return np.mean((y - mean) ** 2)\n",
        "\n",
        "# Split dataset\n",
        "def split_dataset(X, y, feature_index, threshold):\n",
        "    left_idx = X[:, feature_index] <= threshold\n",
        "    right_idx = X[:, feature_index] > threshold\n",
        "    return X[left_idx], y[left_idx], X[right_idx], y[right_idx]\n",
        "\n",
        "# Find best split using MSE\n",
        "def best_split(X, y):\n",
        "    best_feature, best_threshold, best_loss = None, None, float('inf')\n",
        "    n_samples, n_features = X.shape\n",
        "\n",
        "    for feature_index in range(n_features):\n",
        "        thresholds = np.unique(X[:, feature_index])\n",
        "        for threshold in thresholds:\n",
        "            X_left, y_left, X_right, y_right = split_dataset(X, y, feature_index, threshold)\n",
        "            if len(y_left) == 0 or len(y_right) == 0:\n",
        "                continue\n",
        "\n",
        "            left_loss = mse(y_left)\n",
        "            right_loss = mse(y_right)\n",
        "            weighted_loss = (len(y_left) * left_loss + len(y_right) * right_loss) / len(y)\n",
        "\n",
        "            if weighted_loss < best_loss:\n",
        "                best_loss = weighted_loss\n",
        "                best_feature = feature_index\n",
        "                best_threshold = threshold\n",
        "\n",
        "    return best_feature, best_threshold\n",
        "\n",
        "# Node for regression tree\n",
        "class Node:\n",
        "    def __init__(self, feature=None, threshold=None, left=None, right=None, value=None):\n",
        "        self.feature = feature\n",
        "        self.threshold = threshold\n",
        "        self.left = left\n",
        "        self.right = right\n",
        "        self.value = value\n",
        "\n",
        "# Build the regression tree\n",
        "def build_tree(X, y, depth=0, max_depth=5):\n",
        "    if len(y) <= 1 or depth == max_depth:\n",
        "        return Node(value=np.mean(y))\n",
        "\n",
        "    feature, threshold = best_split(X, y)\n",
        "    if feature is None:\n",
        "        return Node(value=np.mean(y))\n",
        "\n",
        "    X_left, y_left, X_right, y_right = split_dataset(X, y, feature, threshold)\n",
        "    left_child = build_tree(X_left, y_left, depth + 1, max_depth)\n",
        "    right_child = build_tree(X_right, y_right, depth + 1, max_depth)\n",
        "\n",
        "    return Node(feature, threshold, left_child, right_child)\n",
        "\n",
        "# Predict for one sample\n",
        "def predict(sample, tree):\n",
        "    if tree.value is not None:\n",
        "        return tree.value\n",
        "    if sample[tree.feature] <= tree.threshold:\n",
        "        return predict(sample, tree.left)\n",
        "    else:\n",
        "        return predict(sample, tree.right)\n",
        "\n",
        "# Sample regression data\n",
        "X = np.array([[1], [2], [3], [4], [5]])\n",
        "y = np.array([1.1, 1.9, 3.0, 3.9, 5.1])\n",
        "\n",
        "# Build tree\n",
        "tree = build_tree(X, y)\n",
        "\n",
        "# Predict new points\n",
        "test_samples = np.array([[1.5], [3.5], [5]])\n",
        "predictions = [predict(sample, tree) for sample in test_samples]\n",
        "print(predictions)"
      ],
      "metadata": {
        "colab": {
          "base_uri": "https://localhost:8080/"
        },
        "id": "eqN5FXw98WKO",
        "outputId": "93e2d148-8e3c-4d1b-90c3-860df9f21f69"
      },
      "execution_count": null,
      "outputs": [
        {
          "output_type": "stream",
          "name": "stdout",
          "text": [
            "[np.float64(1.9), np.float64(3.9), np.float64(5.1)]\n"
          ]
        }
      ]
    },
    {
      "cell_type": "markdown",
      "source": [
        "# Random Forests"
      ],
      "metadata": {
        "id": "dV3JxSXxBHWR"
      }
    },
    {
      "cell_type": "markdown",
      "source": [
        "## Introduction to Ensemble Learning"
      ],
      "metadata": {
        "id": "caNCR88yCP-i"
      }
    },
    {
      "cell_type": "markdown",
      "source": [
        "Ensemble learning method\n",
        "- that builds multiple decision trees\n",
        "- and merges their results\n",
        "- to improve accuracy, stability, and generalization."
      ],
      "metadata": {
        "id": "zdkHdmBXBOtR"
      }
    },
    {
      "cell_type": "markdown",
      "source": [
        "    It’s like asking a group of experts and then taking their majority vote (classification) or average (regression) rather than relying on a single decision."
      ],
      "metadata": {
        "id": "FMePHIpcBZtq"
      }
    },
    {
      "cell_type": "markdown",
      "source": [
        "There are mainly two types of ensemble learning:\n",
        "\n",
        "1. Bagging (or bootstrap aggregating) that combines multiple models trained independently.\n",
        "2. Boosting that builds models sequentially each correcting the errors of the previous one."
      ],
      "metadata": {
        "id": "gqBgaIZJCULl"
      }
    },
    {
      "cell_type": "markdown",
      "source": [
        "Why Random Forest?\n",
        "\n",
        "- While a single decision tree can overfit, a random forest reduces variance by averaging the predictions of many trees trained on different subsets of the data and features."
      ],
      "metadata": {
        "id": "8xjcDuWIBjZ5"
      }
    },
    {
      "cell_type": "markdown",
      "source": [
        "## How It Works"
      ],
      "metadata": {
        "id": "D2JDDjjnB5Li"
      }
    },
    {
      "cell_type": "markdown",
      "source": [
        "\n",
        "1. Bootstrapping: Randomly sample data (with replacement) to create multiple training subsets.\n",
        "2. Tree Building: For each subset, grow a decision tree, but at each split, consider only a random subset of features.\n",
        "3. Prediction:\n",
        "  - Classification: Each tree votes; the majority class wins.\n",
        "  - Regression: Outputs are averaged across all trees."
      ],
      "metadata": {
        "id": "vv1OYXi_Bt1M"
      }
    },
    {
      "cell_type": "markdown",
      "source": [
        "## Random Forest (Classification) - Bagging"
      ],
      "metadata": {
        "id": "QKFSOlLtEhzJ"
      }
    },
    {
      "cell_type": "code",
      "source": [
        "import random\n",
        "from collections import Counter\n",
        "import numpy as np\n",
        "\n",
        "# Gini Impurity\n",
        "def gini_index(groups, classes):\n",
        "    n_instances = sum(len(group) for group in groups)\n",
        "    gini = 0.0\n",
        "    for group in groups:\n",
        "        size = len(group)\n",
        "        if size == 0:\n",
        "            continue\n",
        "        score = 0.0\n",
        "        group_labels = [row[-1] for row in group]\n",
        "        for class_val in classes:\n",
        "            p = group_labels.count(class_val) / size\n",
        "            score += p * p\n",
        "        gini += (1 - score) * (size / n_instances)\n",
        "    return gini\n",
        "\n",
        "# Split a dataset\n",
        "def test_split(index, value, dataset):\n",
        "    left, right = [], []\n",
        "    for row in dataset:\n",
        "        (left if row[index] < value else right).append(row)\n",
        "    return left, right\n",
        "\n",
        "# Find the best split for a dataset\n",
        "def get_split(dataset, n_features):\n",
        "    class_values = list(set(row[-1] for row in dataset))\n",
        "    best_index, best_value, best_score, best_groups = 999, 999, 999, None\n",
        "    features = random.sample(range(len(dataset[0]) - 1), n_features)\n",
        "\n",
        "    for index in features:\n",
        "        for row in dataset:\n",
        "            groups = test_split(index, row[index], dataset)\n",
        "            gini = gini_index(groups, class_values)\n",
        "            if gini < best_score:\n",
        "                best_index, best_value, best_score, best_groups = index, row[index], gini, groups\n",
        "    return {'index': best_index, 'value': best_value, 'groups': best_groups}\n",
        "\n",
        "# Create a terminal node\n",
        "def to_terminal(group):\n",
        "    outcomes = [row[-1] for row in group]\n",
        "    return Counter(outcomes).most_common(1)[0][0]\n",
        "\n",
        "# Recursive tree building\n",
        "def split(node, max_depth, min_size, n_features, depth):\n",
        "    left, right = node['groups']\n",
        "    del node['groups']\n",
        "\n",
        "    if not left or not right:\n",
        "        node['left'] = node['right'] = to_terminal(left + right)\n",
        "        return\n",
        "\n",
        "    if depth >= max_depth:\n",
        "        node['left'], node['right'] = to_terminal(left), to_terminal(right)\n",
        "        return\n",
        "\n",
        "    if len(left) <= min_size:\n",
        "        node['left'] = to_terminal(left)\n",
        "    else:\n",
        "        node['left'] = get_split(left, n_features)\n",
        "        split(node['left'], max_depth, min_size, n_features, depth + 1)\n",
        "\n",
        "    if len(right) <= min_size:\n",
        "        node['right'] = to_terminal(right)\n",
        "    else:\n",
        "        node['right'] = get_split(right, n_features)\n",
        "        split(node['right'], max_depth, min_size, n_features, depth + 1)\n",
        "\n",
        "# Build a decision tree\n",
        "def build_tree(train, max_depth, min_size, n_features):\n",
        "    root = get_split(train, n_features)\n",
        "    split(root, max_depth, min_size, n_features, 1)\n",
        "    return root\n",
        "\n",
        "# Make a prediction\n",
        "def predict(node, row):\n",
        "    if row[node['index']] < node['value']:\n",
        "        return predict(node['left'], row) if isinstance(node['left'], dict) else node['left']\n",
        "    else:\n",
        "        return predict(node['right'], row) if isinstance(node['right'], dict) else node['right']\n",
        "\n",
        "# Bootstrap sample\n",
        "def subsample(dataset, ratio):\n",
        "    sample = []\n",
        "    n_sample = round(len(dataset) * ratio)\n",
        "    while len(sample) < n_sample:\n",
        "        sample.append(random.choice(dataset))\n",
        "    return sample\n",
        "\n",
        "# Random Forest Algorithm\n",
        "def random_forest(train, test, max_depth, min_size, sample_size, n_trees, n_features):\n",
        "    trees = []\n",
        "    for _ in range(n_trees):\n",
        "        sample = subsample(train, sample_size)\n",
        "        tree = build_tree(sample, max_depth, min_size, n_features)\n",
        "        trees.append(tree)\n",
        "    predictions = [bagging_predict(trees, row) for row in test]\n",
        "    return predictions\n",
        "\n",
        "# Vote from multiple trees\n",
        "def bagging_predict(trees, row):\n",
        "    predictions = [predict(tree, row) for tree in trees]\n",
        "    return Counter(predictions).most_common(1)[0][0]\n",
        "\n",
        "# Accuracy metric\n",
        "def accuracy_metric(actual, predicted):\n",
        "    correct = sum(1 for a, p in zip(actual, predicted) if a == p)\n",
        "    return correct / len(actual) * 100.0"
      ],
      "metadata": {
        "id": "DpWRpcsm_p9w"
      },
      "execution_count": null,
      "outputs": []
    },
    {
      "cell_type": "code",
      "source": [
        "# Sample dataset [feature1, feature2, ..., label]\n",
        "dataset = [\n",
        "    [2.7, 2.5, 0],\n",
        "    [1.3, 1.5, 0],\n",
        "    [3.0, 3.5, 0],\n",
        "    [3.2, 2.9, 0],\n",
        "    [7.6, 2.5, 1],\n",
        "    [5.3, 2.0, 1],\n",
        "    [6.9, 1.8, 1],\n",
        "    [8.0, 2.8, 1]\n",
        "]\n",
        "\n",
        "# Split into training/testing\n",
        "train_data = dataset[:6]\n",
        "test_data = dataset[6:]\n",
        "actual = [row[-1] for row in test_data]\n",
        "\n",
        "# Random Forest\n",
        "predicted = random_forest(train_data, test_data, max_depth=5, min_size=1, sample_size=1.0, n_trees=5, n_features=1)\n",
        "print(\"Predictions:\", predicted)\n",
        "print(\"Accuracy: %.2f%%\" % accuracy_metric(actual, predicted))"
      ],
      "metadata": {
        "colab": {
          "base_uri": "https://localhost:8080/"
        },
        "id": "hRKy-yV7DZaF",
        "outputId": "d8d55f6f-2514-498c-f65b-a9de782d84c3"
      },
      "execution_count": null,
      "outputs": [
        {
          "output_type": "stream",
          "name": "stdout",
          "text": [
            "Predictions: [1, 1]\n",
            "Accuracy: 100.00%\n"
          ]
        }
      ]
    },
    {
      "cell_type": "markdown",
      "source": [
        "    What is Boosting?\n",
        "\n",
        "    ????????"
      ],
      "metadata": {
        "id": "hoIzk31rFBo3"
      }
    },
    {
      "cell_type": "markdown",
      "source": [
        "    To understand boosting and its working we will be using Adaboost boosting technique."
      ],
      "metadata": {
        "id": "CN_mUwIZGHjS"
      }
    },
    {
      "cell_type": "markdown",
      "source": [
        "# Adaboost (Adaptive Boosting)"
      ],
      "metadata": {
        "id": "-FIqamQ8E-3n"
      }
    },
    {
      "cell_type": "markdown",
      "source": [
        "## What is Boosting?"
      ],
      "metadata": {
        "id": "WJYUO0X0FZ7w"
      }
    },
    {
      "cell_type": "markdown",
      "source": [
        "- Boosting is an ensemble learning technique\n",
        "- that sequentially combines multiple weak classifiers to create a strong classifier."
      ],
      "metadata": {
        "id": "Yeg6XvUuFnVg"
      }
    },
    {
      "cell_type": "markdown",
      "source": [
        "![image.png](data:image/png;base64,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)"
      ],
      "metadata": {
        "id": "EfqUlKk8F6B2"
      }
    },
    {
      "cell_type": "markdown",
      "source": [
        "    To understand boosting and its working we will be using Adaboost boosting technique."
      ],
      "metadata": {
        "id": "JnUsN6N_GE0D"
      }
    },
    {
      "cell_type": "code",
      "source": [],
      "metadata": {
        "id": "eC0ZgiEzF5pD"
      },
      "execution_count": null,
      "outputs": []
    },
    {
      "cell_type": "code",
      "source": [],
      "metadata": {
        "id": "NHrV4z1_Da2f"
      },
      "execution_count": null,
      "outputs": []
    }
  ]
}